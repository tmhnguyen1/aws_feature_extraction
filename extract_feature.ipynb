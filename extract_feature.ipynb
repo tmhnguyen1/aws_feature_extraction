{
 "cells": [
  {
   "cell_type": "code",
   "execution_count": 1,
   "metadata": {},
   "outputs": [
    {
     "name": "stdout",
     "output_type": "stream",
     "text": [
      "{'5': ['z_gyro_clean', 'y_gyro_clean', 'x_gyro_clean', 'x_acc_clean', 'y_acc_clean', 'z_acc_clean', 'acceleration', 'speed_kmh'], '6': ['z_gyro_clean', 'y_gyro_clean', 'x_gyro_clean', 'x_acc_clean', 'y_acc_clean', 'z_acc_clean', 'acceleration', 'speed_kmh'], '7': ['z_gyro_clean', 'y_gyro_clean', 'x_gyro_clean', 'x_acc_clean', 'y_acc_clean', 'z_acc_clean', 'acceleration', 'speed_kmh']}\n"
     ]
    },
    {
     "name": "stderr",
     "output_type": "stream",
     "text": [
      "c:\\Users\\tmhnguyen\\.conda\\envs\\tsfresh\\Lib\\site-packages\\dask\\dataframe\\_pyarrow_compat.py:17: FutureWarning: Minimal version of pyarrow will soon be increased to 14.0.1. You are using 11.0.0. Please consider upgrading.\n",
      "  warnings.warn(\n"
     ]
    }
   ],
   "source": [
    "import numpy as np\n",
    "import pandas as pd\n",
    "import json\n",
    "\n",
    "import tsfresh\n",
    "from tsfresh import extract_features\n",
    "from tsfresh.feature_selection.relevance import calculate_relevance_table\n",
    "from tsfresh.utilities.dataframe_functions import impute\n",
    "from tsfresh.utilities.distribution import MultiprocessingDistributor\n",
    "\n",
    "labels = [5, 6, 7]\n",
    "basedir = 'D:/lalamove/lalamove/data/Clean_extracted_240115_uncal/train'\n",
    "with open(basedir + '/../data_split_params.json', 'r') as file:\n",
    "    features = json.load(file)['FEATURES']\n",
    "print(features)\n",
    "WINDOW = 5 # seconds\n",
    "SAMPLING_RATE = 20 # hz\n",
    "window_length = WINDOW * SAMPLING_RATE"
   ]
  },
  {
   "cell_type": "code",
   "execution_count": 8,
   "metadata": {},
   "outputs": [
    {
     "name": "stdout",
     "output_type": "stream",
     "text": [
      "x (381607, 100, 8)\n",
      "y (381607, 6) (16448,) (16448, 100, 8)\n",
      "(1644800, 8)\n",
      "Extracting feature only... 1644800\n"
     ]
    },
    {
     "name": "stderr",
     "output_type": "stream",
     "text": [
      "Feature Extraction: 100%|██████████| 80/80 [07:34<00:00,  5.69s/it] \n"
     ]
    },
    {
     "name": "stdout",
     "output_type": "stream",
     "text": [
      "{'acceleration': {'number_peaks': [{'n': 3}, {'n': 1}, {'n': 10}, {'n': 5}], 'approximate_entropy': [{'m': 2, 'r': 0.9}, {'m': 2, 'r': 0.7}, {'m': 2, 'r': 0.5}, {'m': 2, 'r': 0.3}, {'m': 2, 'r': 0.1}], 'permutation_entropy': [{'dimension': 5, 'tau': 1}, {'dimension': 6, 'tau': 1}, {'dimension': 7, 'tau': 1}, {'dimension': 4, 'tau': 1}, {'dimension': 3, 'tau': 1}], 'sample_entropy': None, 'lempel_ziv_complexity': [{'bins': 3}, {'bins': 5}, {'bins': 2}, {'bins': 10}], 'fourier_entropy': [{'bins': 2}, {'bins': 100}, {'bins': 5}, {'bins': 3}, {'bins': 10}], 'cid_ce': [{'normalize': True}, {'normalize': False}], 'benford_correlation': None, 'fft_aggregated': [{'aggtype': 'variance'}, {'aggtype': 'kurtosis'}, {'aggtype': 'skew'}, {'aggtype': 'centroid'}], 'augmented_dickey_fuller': [{'attr': 'teststat', 'autolag': 'AIC'}, {'attr': 'pvalue', 'autolag': 'AIC'}, {'attr': 'usedlag', 'autolag': 'AIC'}], 'autocorrelation': [{'lag': 9}, {'lag': 8}, {'lag': 7}, {'lag': 6}, {'lag': 5}, {'lag': 4}], 'number_cwt_peaks': [{'n': 1}, {'n': 5}], 'change_quantiles': [{'f_agg': 'var', 'isabs': False, 'qh': 0.8, 'ql': 0.0}, {'f_agg': 'var', 'isabs': False, 'qh': 1.0, 'ql': 0.0}, {'f_agg': 'mean', 'isabs': True, 'qh': 0.8, 'ql': 0.0}, {'f_agg': 'mean', 'isabs': True, 'qh': 1.0, 'ql': 0.0}, {'f_agg': 'var', 'isabs': False, 'qh': 0.6, 'ql': 0.0}, {'f_agg': 'var', 'isabs': False, 'qh': 0.8, 'ql': 0.2}, {'f_agg': 'mean', 'isabs': True, 'qh': 0.6, 'ql': 0.0}, {'f_agg': 'var', 'isabs': False, 'qh': 1.0, 'ql': 0.2}, {'f_agg': 'var', 'isabs': False, 'qh': 0.4, 'ql': 0.0}, {'f_agg': 'var', 'isabs': False, 'qh': 0.6, 'ql': 0.2}, {'f_agg': 'mean', 'isabs': True, 'qh': 1.0, 'ql': 0.2}, {'f_agg': 'mean', 'isabs': True, 'qh': 0.8, 'ql': 0.2}, {'f_agg': 'mean', 'isabs': True, 'qh': 0.4, 'ql': 0.0}, {'f_agg': 'var', 'isabs': False, 'qh': 0.8, 'ql': 0.4}, {'f_agg': 'var', 'isabs': True, 'qh': 0.8, 'ql': 0.2}, {'f_agg': 'var', 'isabs': False, 'qh': 0.2, 'ql': 0.0}, {'f_agg': 'var', 'isabs': False, 'qh': 1.0, 'ql': 0.4}, {'f_agg': 'var', 'isabs': True, 'qh': 0.8, 'ql': 0.4}, {'f_agg': 'var', 'isabs': True, 'qh': 1.0, 'ql': 0.0}, {'f_agg': 'var', 'isabs': True, 'qh': 0.8, 'ql': 0.0}, {'f_agg': 'mean', 'isabs': True, 'qh': 0.6, 'ql': 0.2}, {'f_agg': 'mean', 'isabs': True, 'qh': 0.2, 'ql': 0.0}, {'f_agg': 'var', 'isabs': True, 'qh': 1.0, 'ql': 0.2}, {'f_agg': 'mean', 'isabs': True, 'qh': 1.0, 'ql': 0.4}, {'f_agg': 'var', 'isabs': True, 'qh': 0.6, 'ql': 0.2}, {'f_agg': 'mean', 'isabs': True, 'qh': 0.8, 'ql': 0.4}, {'f_agg': 'var', 'isabs': True, 'qh': 0.6, 'ql': 0.0}, {'f_agg': 'var', 'isabs': True, 'qh': 1.0, 'ql': 0.4}, {'f_agg': 'var', 'isabs': False, 'qh': 0.4, 'ql': 0.2}, {'f_agg': 'var', 'isabs': True, 'qh': 0.8, 'ql': 0.6}], 'absolute_sum_of_changes': None, 'mean_abs_change': None, 'agg_linear_trend': [{'attr': 'stderr', 'chunk_len': 5, 'f_agg': 'var'}, {'attr': 'stderr', 'chunk_len': 5, 'f_agg': 'mean'}, {'attr': 'stderr', 'chunk_len': 10, 'f_agg': 'mean'}, {'attr': 'stderr', 'chunk_len': 5, 'f_agg': 'min'}, {'attr': 'intercept', 'chunk_len': 5, 'f_agg': 'var'}, {'attr': 'stderr', 'chunk_len': 10, 'f_agg': 'var'}, {'attr': 'stderr', 'chunk_len': 5, 'f_agg': 'max'}, {'attr': 'stderr', 'chunk_len': 10, 'f_agg': 'min'}, {'attr': 'stderr', 'chunk_len': 10, 'f_agg': 'max'}], 'root_mean_square': None, 'abs_energy': None, 'linear_trend': [{'attr': 'stderr'}], 'ar_coefficient': [{'coeff': 1, 'k': 10}], 'mean_n_absolute_max': [{'number_of_maxima': 7}], 'symmetry_looking': [{'r': 0.05}], 'longest_strike_below_mean': None, 'absolute_maximum': None, 'fft_coefficient': [{'attr': 'abs', 'coeff': 2}], 'spkt_welch_density': [{'coeff': 2}], 'partial_autocorrelation': [{'lag': 4}], 'agg_autocorrelation': [{'f_agg': 'mean', 'maxlag': 40}]}, 'z_gyro_clean': {'ar_coefficient': [{'coeff': 4, 'k': 10}, {'coeff': 2, 'k': 10}, {'coeff': 3, 'k': 10}, {'coeff': 1, 'k': 10}], 'partial_autocorrelation': [{'lag': 4}, {'lag': 2}], 'number_peaks': [{'n': 1}, {'n': 3}], 'friedrich_coefficients': [{'coeff': 1, 'm': 3, 'r': 30}], 'number_cwt_peaks': [{'n': 5}], 'fft_coefficient': [{'attr': 'abs', 'coeff': 37}], 'agg_autocorrelation': [{'f_agg': 'var', 'maxlag': 40}], 'large_standard_deviation': [{'r': 0.15000000000000002}]}, 'x_acc_clean': {'ar_coefficient': [{'coeff': 2, 'k': 10}, {'coeff': 1, 'k': 10}, {'coeff': 4, 'k': 10}, {'coeff': 6, 'k': 10}], 'partial_autocorrelation': [{'lag': 5}, {'lag': 2}], 'number_peaks': [{'n': 1}], 'permutation_entropy': [{'dimension': 4, 'tau': 1}, {'dimension': 3, 'tau': 1}, {'dimension': 7, 'tau': 1}, {'dimension': 5, 'tau': 1}, {'dimension': 6, 'tau': 1}], 'agg_autocorrelation': [{'f_agg': 'mean', 'maxlag': 40}, {'f_agg': 'median', 'maxlag': 40}, {'f_agg': 'var', 'maxlag': 40}], 'linear_trend': [{'attr': 'pvalue'}, {'attr': 'stderr'}], 'agg_linear_trend': [{'attr': 'stderr', 'chunk_len': 5, 'f_agg': 'mean'}, {'attr': 'stderr', 'chunk_len': 10, 'f_agg': 'mean'}, {'attr': 'stderr', 'chunk_len': 5, 'f_agg': 'min'}, {'attr': 'stderr', 'chunk_len': 10, 'f_agg': 'min'}, {'attr': 'stderr', 'chunk_len': 5, 'f_agg': 'max'}, {'attr': 'stderr', 'chunk_len': 10, 'f_agg': 'max'}, {'attr': 'stderr', 'chunk_len': 10, 'f_agg': 'var'}, {'attr': 'intercept', 'chunk_len': 50, 'f_agg': 'max'}, {'attr': 'stderr', 'chunk_len': 5, 'f_agg': 'var'}], 'count_below': [{'t': 0}], 'range_count': [{'max': 1000000000000.0, 'min': 0}, {'max': 0, 'min': -1000000000000.0}], 'count_above': [{'t': 0}], 'spkt_welch_density': [{'coeff': 2}, {'coeff': 5}], 'fourier_entropy': [{'bins': 2}, {'bins': 3}, {'bins': 5}, {'bins': 10}], 'approximate_entropy': [{'m': 2, 'r': 0.1}], 'maximum': None, 'quantile': [{'q': 0.9}, {'q': 0.8}], 'fft_aggregated': [{'aggtype': 'variance'}, {'aggtype': 'kurtosis'}, {'aggtype': 'skew'}], 'max_langevin_fixed_point': [{'m': 3, 'r': 30}], 'autocorrelation': [{'lag': 9}], 'number_cwt_peaks': [{'n': 1}, {'n': 5}], 'longest_strike_below_mean': None, 'fft_coefficient': [{'attr': 'angle', 'coeff': 0}]}, 'y_acc_clean': {'ar_coefficient': [{'coeff': 2, 'k': 10}, {'coeff': 1, 'k': 10}, {'coeff': 4, 'k': 10}, {'coeff': 3, 'k': 10}, {'coeff': 10, 'k': 10}, {'coeff': 6, 'k': 10}], 'partial_autocorrelation': [{'lag': 2}, {'lag': 5}, {'lag': 6}, {'lag': 4}], 'number_cwt_peaks': [{'n': 1}], 'number_peaks': [{'n': 1}, {'n': 10}], 'spkt_welch_density': [{'coeff': 5}], 'linear_trend': [{'attr': 'pvalue'}], 'agg_autocorrelation': [{'f_agg': 'mean', 'maxlag': 40}, {'f_agg': 'median', 'maxlag': 40}, {'f_agg': 'var', 'maxlag': 40}], 'approximate_entropy': [{'m': 2, 'r': 0.9}, {'m': 2, 'r': 0.7}, {'m': 2, 'r': 0.5}], 'number_crossing_m': [{'m': 0}], 'fourier_entropy': [{'bins': 5}, {'bins': 100}, {'bins': 3}, {'bins': 10}, {'bins': 2}], 'benford_correlation': None, 'fft_coefficient': [{'attr': 'abs', 'coeff': 37}, {'attr': 'abs', 'coeff': 0}], 'autocorrelation': [{'lag': 9}, {'lag': 8}], 'longest_strike_above_mean': None}, 'z_acc_clean': {'range_count': [{'max': 1000000000000.0, 'min': 0}, {'max': 0, 'min': -1000000000000.0}], 'count_below': [{'t': 0}], 'count_above': [{'t': 0}], 'friedrich_coefficients': [{'coeff': 3, 'm': 3, 'r': 30}, {'coeff': 1, 'm': 3, 'r': 30}], 'fft_coefficient': [{'attr': 'angle', 'coeff': 0}, {'attr': 'real', 'coeff': 0}, {'attr': 'abs', 'coeff': 0}], 'max_langevin_fixed_point': [{'m': 3, 'r': 30}], 'quantile': [{'q': 0.7}, {'q': 0.8}, {'q': 0.6}, {'q': 0.9}, {'q': 0.4}, {'q': 0.3}, {'q': 0.2}, {'q': 0.1}], 'mean': None, 'sum_values': None, 'median': None, 'maximum': None, 'c3': [{'lag': 3}, {'lag': 2}, {'lag': 1}], 'ar_coefficient': [{'coeff': 0, 'k': 10}], 'agg_linear_trend': [{'attr': 'intercept', 'chunk_len': 50, 'f_agg': 'mean'}, {'attr': 'intercept', 'chunk_len': 50, 'f_agg': 'max'}, {'attr': 'intercept', 'chunk_len': 10, 'f_agg': 'mean'}, {'attr': 'intercept', 'chunk_len': 10, 'f_agg': 'max'}, {'attr': 'intercept', 'chunk_len': 5, 'f_agg': 'max'}, {'attr': 'intercept', 'chunk_len': 5, 'f_agg': 'mean'}, {'attr': 'intercept', 'chunk_len': 50, 'f_agg': 'min'}, {'attr': 'intercept', 'chunk_len': 5, 'f_agg': 'min'}, {'attr': 'intercept', 'chunk_len': 10, 'f_agg': 'min'}], 'cwt_coefficients': [{'coeff': 2, 'w': 2, 'widths': (2, 5, 10, 20)}, {'coeff': 3, 'w': 2, 'widths': (2, 5, 10, 20)}, {'coeff': 1, 'w': 2, 'widths': (2, 5, 10, 20)}, {'coeff': 13, 'w': 10, 'widths': (2, 5, 10, 20)}, {'coeff': 14, 'w': 10, 'widths': (2, 5, 10, 20)}, {'coeff': 12, 'w': 10, 'widths': (2, 5, 10, 20)}, {'coeff': 11, 'w': 10, 'widths': (2, 5, 10, 20)}, {'coeff': 14, 'w': 20, 'widths': (2, 5, 10, 20)}, {'coeff': 10, 'w': 10, 'widths': (2, 5, 10, 20)}, {'coeff': 13, 'w': 20, 'widths': (2, 5, 10, 20)}, {'coeff': 9, 'w': 10, 'widths': (2, 5, 10, 20)}, {'coeff': 12, 'w': 20, 'widths': (2, 5, 10, 20)}, {'coeff': 11, 'w': 20, 'widths': (2, 5, 10, 20)}, {'coeff': 8, 'w': 10, 'widths': (2, 5, 10, 20)}, {'coeff': 7, 'w': 10, 'widths': (2, 5, 10, 20)}, {'coeff': 10, 'w': 20, 'widths': (2, 5, 10, 20)}, {'coeff': 9, 'w': 20, 'widths': (2, 5, 10, 20)}, {'coeff': 6, 'w': 10, 'widths': (2, 5, 10, 20)}, {'coeff': 4, 'w': 2, 'widths': (2, 5, 10, 20)}, {'coeff': 3, 'w': 5, 'widths': (2, 5, 10, 20)}, {'coeff': 4, 'w': 5, 'widths': (2, 5, 10, 20)}, {'coeff': 6, 'w': 5, 'widths': (2, 5, 10, 20)}, {'coeff': 5, 'w': 5, 'widths': (2, 5, 10, 20)}, {'coeff': 8, 'w': 20, 'widths': (2, 5, 10, 20)}, {'coeff': 2, 'w': 5, 'widths': (2, 5, 10, 20)}, {'coeff': 7, 'w': 5, 'widths': (2, 5, 10, 20)}, {'coeff': 5, 'w': 10, 'widths': (2, 5, 10, 20)}, {'coeff': 7, 'w': 20, 'widths': (2, 5, 10, 20)}, {'coeff': 8, 'w': 5, 'widths': (2, 5, 10, 20)}, {'coeff': 6, 'w': 20, 'widths': (2, 5, 10, 20)}, {'coeff': 4, 'w': 10, 'widths': (2, 5, 10, 20)}, {'coeff': 5, 'w': 20, 'widths': (2, 5, 10, 20)}, {'coeff': 1, 'w': 5, 'widths': (2, 5, 10, 20)}, {'coeff': 9, 'w': 5, 'widths': (2, 5, 10, 20)}, {'coeff': 4, 'w': 20, 'widths': (2, 5, 10, 20)}, {'coeff': 3, 'w': 10, 'widths': (2, 5, 10, 20)}], 'minimum': None, 'linear_trend': [{'attr': 'intercept'}], 'abs_energy': None, 'root_mean_square': None}, 'y_gyro_clean': {'count_above': [{'t': 0}], 'count_below': [{'t': 0}], 'range_count': [{'max': 0, 'min': -1000000000000.0}, {'max': 1000000000000.0, 'min': 0}], 'fft_coefficient': [{'attr': 'angle', 'coeff': 0}, {'attr': 'real', 'coeff': 0}], 'partial_autocorrelation': [{'lag': 2}, {'lag': 5}, {'lag': 4}], 'quantile': [{'q': 0.6}, {'q': 0.7}, {'q': 0.4}, {'q': 0.8}, {'q': 0.3}, {'q': 0.2}, {'q': 0.9}, {'q': 0.1}], 'sum_values': None, 'mean': None, 'median': None, 'cwt_coefficients': [{'coeff': 5, 'w': 5, 'widths': (2, 5, 10, 20)}, {'coeff': 6, 'w': 5, 'widths': (2, 5, 10, 20)}, {'coeff': 4, 'w': 5, 'widths': (2, 5, 10, 20)}, {'coeff': 3, 'w': 5, 'widths': (2, 5, 10, 20)}, {'coeff': 2, 'w': 2, 'widths': (2, 5, 10, 20)}, {'coeff': 7, 'w': 5, 'widths': (2, 5, 10, 20)}, {'coeff': 1, 'w': 2, 'widths': (2, 5, 10, 20)}, {'coeff': 3, 'w': 2, 'widths': (2, 5, 10, 20)}, {'coeff': 6, 'w': 10, 'widths': (2, 5, 10, 20)}, {'coeff': 7, 'w': 10, 'widths': (2, 5, 10, 20)}, {'coeff': 8, 'w': 10, 'widths': (2, 5, 10, 20)}, {'coeff': 5, 'w': 10, 'widths': (2, 5, 10, 20)}, {'coeff': 9, 'w': 10, 'widths': (2, 5, 10, 20)}, {'coeff': 2, 'w': 5, 'widths': (2, 5, 10, 20)}, {'coeff': 4, 'w': 10, 'widths': (2, 5, 10, 20)}, {'coeff': 10, 'w': 10, 'widths': (2, 5, 10, 20)}, {'coeff': 8, 'w': 5, 'widths': (2, 5, 10, 20)}, {'coeff': 11, 'w': 10, 'widths': (2, 5, 10, 20)}, {'coeff': 14, 'w': 20, 'widths': (2, 5, 10, 20)}, {'coeff': 3, 'w': 10, 'widths': (2, 5, 10, 20)}, {'coeff': 13, 'w': 20, 'widths': (2, 5, 10, 20)}, {'coeff': 12, 'w': 20, 'widths': (2, 5, 10, 20)}, {'coeff': 11, 'w': 20, 'widths': (2, 5, 10, 20)}, {'coeff': 12, 'w': 10, 'widths': (2, 5, 10, 20)}, {'coeff': 10, 'w': 20, 'widths': (2, 5, 10, 20)}, {'coeff': 9, 'w': 20, 'widths': (2, 5, 10, 20)}, {'coeff': 8, 'w': 20, 'widths': (2, 5, 10, 20)}, {'coeff': 13, 'w': 10, 'widths': (2, 5, 10, 20)}, {'coeff': 7, 'w': 20, 'widths': (2, 5, 10, 20)}, {'coeff': 6, 'w': 20, 'widths': (2, 5, 10, 20)}, {'coeff': 14, 'w': 10, 'widths': (2, 5, 10, 20)}, {'coeff': 9, 'w': 5, 'widths': (2, 5, 10, 20)}, {'coeff': 5, 'w': 20, 'widths': (2, 5, 10, 20)}, {'coeff': 2, 'w': 10, 'widths': (2, 5, 10, 20)}, {'coeff': 1, 'w': 5, 'widths': (2, 5, 10, 20)}, {'coeff': 4, 'w': 20, 'widths': (2, 5, 10, 20)}, {'coeff': 4, 'w': 2, 'widths': (2, 5, 10, 20)}, {'coeff': 3, 'w': 20, 'widths': (2, 5, 10, 20)}, {'coeff': 2, 'w': 20, 'widths': (2, 5, 10, 20)}, {'coeff': 10, 'w': 5, 'widths': (2, 5, 10, 20)}, {'coeff': 1, 'w': 20, 'widths': (2, 5, 10, 20)}, {'coeff': 1, 'w': 10, 'widths': (2, 5, 10, 20)}, {'coeff': 11, 'w': 5, 'widths': (2, 5, 10, 20)}, {'coeff': 0, 'w': 20, 'widths': (2, 5, 10, 20)}], 'agg_linear_trend': [{'attr': 'intercept', 'chunk_len': 50, 'f_agg': 'mean'}, {'attr': 'intercept', 'chunk_len': 5, 'f_agg': 'min'}, {'attr': 'intercept', 'chunk_len': 10, 'f_agg': 'min'}, {'attr': 'intercept', 'chunk_len': 10, 'f_agg': 'mean'}, {'attr': 'intercept', 'chunk_len': 5, 'f_agg': 'mean'}, {'attr': 'intercept', 'chunk_len': 50, 'f_agg': 'min'}, {'attr': 'intercept', 'chunk_len': 5, 'f_agg': 'max'}, {'attr': 'intercept', 'chunk_len': 10, 'f_agg': 'max'}, {'attr': 'intercept', 'chunk_len': 50, 'f_agg': 'max'}], 'friedrich_coefficients': [{'coeff': 3, 'm': 3, 'r': 30}, {'coeff': 1, 'm': 3, 'r': 30}], 'linear_trend': [{'attr': 'intercept'}], 'ar_coefficient': [{'coeff': 4, 'k': 10}, {'coeff': 0, 'k': 10}, {'coeff': 1, 'k': 10}, {'coeff': 2, 'k': 10}], 'number_peaks': [{'n': 1}], 'max_langevin_fixed_point': [{'m': 3, 'r': 30}], 'variation_coefficient': None, 'c3': [{'lag': 3}, {'lag': 1}, {'lag': 2}], 'minimum': None, 'maximum': None, 'permutation_entropy': [{'dimension': 3, 'tau': 1}, {'dimension': 4, 'tau': 1}]}, 'speed_kmh': {'change_quantiles': [{'f_agg': 'var', 'isabs': True, 'qh': 1.0, 'ql': 0.8}, {'f_agg': 'var', 'isabs': False, 'qh': 1.0, 'ql': 0.8}, {'f_agg': 'var', 'isabs': True, 'qh': 0.2, 'ql': 0.0}, {'f_agg': 'var', 'isabs': False, 'qh': 0.2, 'ql': 0.0}, {'f_agg': 'var', 'isabs': True, 'qh': 0.4, 'ql': 0.0}, {'f_agg': 'var', 'isabs': True, 'qh': 1.0, 'ql': 0.6}, {'f_agg': 'var', 'isabs': False, 'qh': 0.4, 'ql': 0.0}, {'f_agg': 'var', 'isabs': False, 'qh': 1.0, 'ql': 0.6}, {'f_agg': 'var', 'isabs': True, 'qh': 0.6, 'ql': 0.0}, {'f_agg': 'var', 'isabs': True, 'qh': 1.0, 'ql': 0.4}, {'f_agg': 'var', 'isabs': True, 'qh': 1.0, 'ql': 0.0}, {'f_agg': 'var', 'isabs': False, 'qh': 0.6, 'ql': 0.0}, {'f_agg': 'var', 'isabs': True, 'qh': 1.0, 'ql': 0.2}, {'f_agg': 'var', 'isabs': False, 'qh': 1.0, 'ql': 0.4}, {'f_agg': 'var', 'isabs': True, 'qh': 0.8, 'ql': 0.0}, {'f_agg': 'var', 'isabs': False, 'qh': 1.0, 'ql': 0.0}, {'f_agg': 'var', 'isabs': False, 'qh': 1.0, 'ql': 0.2}, {'f_agg': 'var', 'isabs': False, 'qh': 0.8, 'ql': 0.0}, {'f_agg': 'mean', 'isabs': True, 'qh': 1.0, 'ql': 0.8}, {'f_agg': 'mean', 'isabs': True, 'qh': 0.2, 'ql': 0.0}, {'f_agg': 'mean', 'isabs': True, 'qh': 1.0, 'ql': 0.6}, {'f_agg': 'mean', 'isabs': True, 'qh': 1.0, 'ql': 0.0}, {'f_agg': 'mean', 'isabs': True, 'qh': 0.4, 'ql': 0.0}, {'f_agg': 'mean', 'isabs': True, 'qh': 1.0, 'ql': 0.4}, {'f_agg': 'mean', 'isabs': True, 'qh': 0.6, 'ql': 0.0}, {'f_agg': 'mean', 'isabs': True, 'qh': 1.0, 'ql': 0.2}, {'f_agg': 'mean', 'isabs': True, 'qh': 0.8, 'ql': 0.0}, {'f_agg': 'var', 'isabs': True, 'qh': 0.4, 'ql': 0.2}, {'f_agg': 'mean', 'isabs': True, 'qh': 0.8, 'ql': 0.2}, {'f_agg': 'mean', 'isabs': True, 'qh': 0.8, 'ql': 0.6}, {'f_agg': 'mean', 'isabs': True, 'qh': 0.8, 'ql': 0.4}, {'f_agg': 'mean', 'isabs': True, 'qh': 0.6, 'ql': 0.2}, {'f_agg': 'mean', 'isabs': True, 'qh': 0.4, 'ql': 0.2}, {'f_agg': 'mean', 'isabs': True, 'qh': 0.6, 'ql': 0.4}, {'f_agg': 'var', 'isabs': True, 'qh': 0.6, 'ql': 0.4}, {'f_agg': 'var', 'isabs': False, 'qh': 0.4, 'ql': 0.2}, {'f_agg': 'var', 'isabs': True, 'qh': 0.8, 'ql': 0.6}, {'f_agg': 'var', 'isabs': True, 'qh': 0.6, 'ql': 0.2}, {'f_agg': 'var', 'isabs': True, 'qh': 0.8, 'ql': 0.2}, {'f_agg': 'var', 'isabs': True, 'qh': 0.8, 'ql': 0.4}, {'f_agg': 'var', 'isabs': False, 'qh': 0.6, 'ql': 0.2}, {'f_agg': 'var', 'isabs': False, 'qh': 0.8, 'ql': 0.2}], 'agg_linear_trend': [{'attr': 'stderr', 'chunk_len': 5, 'f_agg': 'var'}, {'attr': 'stderr', 'chunk_len': 10, 'f_agg': 'var'}, {'attr': 'intercept', 'chunk_len': 5, 'f_agg': 'var'}, {'attr': 'intercept', 'chunk_len': 10, 'f_agg': 'var'}, {'attr': 'intercept', 'chunk_len': 50, 'f_agg': 'var'}, {'attr': 'stderr', 'chunk_len': 10, 'f_agg': 'max'}, {'attr': 'stderr', 'chunk_len': 10, 'f_agg': 'min'}, {'attr': 'stderr', 'chunk_len': 5, 'f_agg': 'max'}, {'attr': 'stderr', 'chunk_len': 5, 'f_agg': 'min'}], 'augmented_dickey_fuller': [{'attr': 'usedlag', 'autolag': 'AIC'}], 'cid_ce': [{'normalize': False}, {'normalize': True}], 'ar_coefficient': [{'coeff': 1, 'k': 10}, {'coeff': 2, 'k': 10}, {'coeff': 5, 'k': 10}, {'coeff': 7, 'k': 10}], 'mean_abs_change': None, 'absolute_sum_of_changes': None, 'fft_aggregated': [{'aggtype': 'centroid'}, {'aggtype': 'variance'}, {'aggtype': 'skew'}, {'aggtype': 'kurtosis'}], 'variation_coefficient': None, 'fft_coefficient': [{'attr': 'abs', 'coeff': 50}, {'attr': 'abs', 'coeff': 39}, {'attr': 'abs', 'coeff': 45}, {'attr': 'abs', 'coeff': 44}, {'attr': 'abs', 'coeff': 40}, {'attr': 'abs', 'coeff': 49}, {'attr': 'abs', 'coeff': 36}, {'attr': 'abs', 'coeff': 34}, {'attr': 'abs', 'coeff': 46}, {'attr': 'abs', 'coeff': 35}, {'attr': 'abs', 'coeff': 41}, {'attr': 'abs', 'coeff': 31}, {'attr': 'abs', 'coeff': 38}, {'attr': 'abs', 'coeff': 43}, {'attr': 'abs', 'coeff': 48}, {'attr': 'abs', 'coeff': 30}, {'attr': 'abs', 'coeff': 37}, {'attr': 'abs', 'coeff': 42}, {'attr': 'abs', 'coeff': 26}, {'attr': 'abs', 'coeff': 47}, {'attr': 'abs', 'coeff': 29}, {'attr': 'abs', 'coeff': 32}, {'attr': 'abs', 'coeff': 33}, {'attr': 'abs', 'coeff': 25}, {'attr': 'abs', 'coeff': 27}, {'attr': 'abs', 'coeff': 21}, {'attr': 'abs', 'coeff': 28}, {'attr': 'abs', 'coeff': 24}, {'attr': 'abs', 'coeff': 20}, {'attr': 'abs', 'coeff': 15}, {'attr': 'abs', 'coeff': 19}, {'attr': 'abs', 'coeff': 22}, {'attr': 'abs', 'coeff': 23}, {'attr': 'abs', 'coeff': 16}, {'attr': 'abs', 'coeff': 14}, {'attr': 'abs', 'coeff': 18}, {'attr': 'abs', 'coeff': 17}, {'attr': 'abs', 'coeff': 13}, {'attr': 'abs', 'coeff': 10}, {'attr': 'abs', 'coeff': 11}, {'attr': 'abs', 'coeff': 12}, {'attr': 'abs', 'coeff': 2}, {'attr': 'abs', 'coeff': 9}, {'attr': 'abs', 'coeff': 4}, {'attr': 'abs', 'coeff': 8}, {'attr': 'abs', 'coeff': 5}, {'attr': 'abs', 'coeff': 7}, {'attr': 'abs', 'coeff': 6}, {'attr': 'abs', 'coeff': 3}, {'attr': 'abs', 'coeff': 1}], 'lempel_ziv_complexity': [{'bins': 2}], 'approximate_entropy': [{'m': 2, 'r': 0.9}, {'m': 2, 'r': 0.7}], 'standard_deviation': None, 'variance': None, 'symmetry_looking': [{'r': 0.05}], 'cwt_coefficients': [{'coeff': 9, 'w': 2, 'widths': (2, 5, 10, 20)}, {'coeff': 10, 'w': 2, 'widths': (2, 5, 10, 20)}, {'coeff': 11, 'w': 2, 'widths': (2, 5, 10, 20)}], 'spkt_welch_density': [{'coeff': 2}, {'coeff': 8}], 'linear_trend': [{'attr': 'pvalue'}]}, 'x_gyro_clean': {'ar_coefficient': [{'coeff': 4, 'k': 10}, {'coeff': 1, 'k': 10}, {'coeff': 2, 'k': 10}, {'coeff': 3, 'k': 10}, {'coeff': 10, 'k': 10}], 'number_peaks': [{'n': 1}], 'partial_autocorrelation': [{'lag': 2}, {'lag': 4}, {'lag': 5}, {'lag': 6}, {'lag': 1}], 'fft_aggregated': [{'aggtype': 'kurtosis'}, {'aggtype': 'variance'}], 'permutation_entropy': [{'dimension': 3, 'tau': 1}, {'dimension': 4, 'tau': 1}], 'autocorrelation': [{'lag': 1}], 'fft_coefficient': [{'attr': 'real', 'coeff': 10}], 'agg_autocorrelation': [{'f_agg': 'var', 'maxlag': 40}]}}\n",
      "y (381607, 6) (381607,) (381607, 100, 8)\n",
      "(38160700, 8)\n",
      "(38160700, 10)\n",
      "30000\n",
      "30000\n",
      "(30000, 6)\n"
     ]
    },
    {
     "name": "stderr",
     "output_type": "stream",
     "text": [
      "Feature Extraction: 100%|██████████| 80/80 [02:32<00:00,  1.90s/it]\n"
     ]
    },
    {
     "name": "stdout",
     "output_type": "stream",
     "text": [
      "extracted shape (30000, 500)\n",
      "60000\n",
      "30000\n",
      "(30000, 6)\n"
     ]
    },
    {
     "name": "stderr",
     "output_type": "stream",
     "text": [
      "Feature Extraction: 100%|██████████| 80/80 [02:31<00:00,  1.90s/it]\n"
     ]
    },
    {
     "name": "stdout",
     "output_type": "stream",
     "text": [
      "extracted shape (30000, 500)\n",
      "90000\n",
      "30000\n",
      "(30000, 6)\n"
     ]
    },
    {
     "name": "stderr",
     "output_type": "stream",
     "text": [
      "Feature Extraction: 100%|██████████| 80/80 [02:30<00:00,  1.89s/it]\n"
     ]
    },
    {
     "name": "stdout",
     "output_type": "stream",
     "text": [
      "extracted shape (30000, 500)\n",
      "120000\n",
      "30000\n",
      "(30000, 6)\n"
     ]
    },
    {
     "name": "stderr",
     "output_type": "stream",
     "text": [
      "Feature Extraction: 100%|██████████| 80/80 [03:13<00:00,  2.41s/it]\n"
     ]
    },
    {
     "name": "stdout",
     "output_type": "stream",
     "text": [
      "extracted shape (30000, 500)\n",
      "150000\n",
      "30000\n",
      "(30000, 6)\n"
     ]
    },
    {
     "name": "stderr",
     "output_type": "stream",
     "text": [
      "Feature Extraction: 100%|██████████| 80/80 [03:29<00:00,  2.62s/it]\n"
     ]
    },
    {
     "name": "stdout",
     "output_type": "stream",
     "text": [
      "extracted shape (30000, 500)\n",
      "180000\n",
      "30000\n",
      "(30000, 6)\n"
     ]
    },
    {
     "name": "stderr",
     "output_type": "stream",
     "text": [
      "Feature Extraction: 100%|██████████| 80/80 [03:33<00:00,  2.67s/it]\n"
     ]
    },
    {
     "name": "stdout",
     "output_type": "stream",
     "text": [
      "extracted shape (30000, 500)\n",
      "210000\n",
      "30000\n",
      "(30000, 6)\n"
     ]
    },
    {
     "name": "stderr",
     "output_type": "stream",
     "text": [
      "Feature Extraction: 100%|██████████| 80/80 [03:32<00:00,  2.65s/it]\n"
     ]
    },
    {
     "name": "stdout",
     "output_type": "stream",
     "text": [
      "extracted shape (30000, 500)\n",
      "240000\n",
      "30000\n",
      "(30000, 6)\n"
     ]
    },
    {
     "name": "stderr",
     "output_type": "stream",
     "text": [
      "Feature Extraction: 100%|██████████| 80/80 [03:33<00:00,  2.67s/it]\n"
     ]
    },
    {
     "name": "stdout",
     "output_type": "stream",
     "text": [
      "extracted shape (30000, 500)\n",
      "270000\n",
      "30000\n",
      "(30000, 6)\n"
     ]
    },
    {
     "name": "stderr",
     "output_type": "stream",
     "text": [
      "Feature Extraction: 100%|██████████| 80/80 [03:30<00:00,  2.63s/it]\n"
     ]
    },
    {
     "name": "stdout",
     "output_type": "stream",
     "text": [
      "extracted shape (30000, 500)\n",
      "300000\n",
      "30000\n",
      "(30000, 6)\n"
     ]
    },
    {
     "name": "stderr",
     "output_type": "stream",
     "text": [
      "Feature Extraction: 100%|██████████| 80/80 [03:33<00:00,  2.67s/it]\n"
     ]
    },
    {
     "name": "stdout",
     "output_type": "stream",
     "text": [
      "extracted shape (30000, 500)\n",
      "330000\n",
      "30000\n",
      "(30000, 6)\n"
     ]
    },
    {
     "name": "stderr",
     "output_type": "stream",
     "text": [
      "Feature Extraction: 100%|██████████| 80/80 [03:35<00:00,  2.69s/it]\n"
     ]
    },
    {
     "name": "stdout",
     "output_type": "stream",
     "text": [
      "extracted shape (30000, 500)\n",
      "360000\n",
      "30000\n",
      "(30000, 6)\n"
     ]
    },
    {
     "name": "stderr",
     "output_type": "stream",
     "text": [
      "Feature Extraction: 100%|██████████| 80/80 [03:36<00:00,  2.71s/it]\n"
     ]
    },
    {
     "name": "stdout",
     "output_type": "stream",
     "text": [
      "extracted shape (30000, 500)\n",
      "390000\n",
      "21607\n",
      "(21607, 6)\n"
     ]
    },
    {
     "name": "stderr",
     "output_type": "stream",
     "text": [
      "Feature Extraction: 100%|██████████| 80/80 [02:13<00:00,  1.67s/it]\n"
     ]
    },
    {
     "name": "stdout",
     "output_type": "stream",
     "text": [
      "extracted shape (21607, 500)\n",
      "x (389287, 100, 8)\n",
      "y (389287, 6) (17456,) (17456, 100, 8)\n",
      "(1745600, 8)\n",
      "Extracting feature only... 1745600\n"
     ]
    },
    {
     "name": "stderr",
     "output_type": "stream",
     "text": [
      "Feature Extraction: 100%|██████████| 80/80 [06:33<00:00,  4.91s/it] \n"
     ]
    },
    {
     "name": "stdout",
     "output_type": "stream",
     "text": [
      "{'z_acc_clean': {'quantile': [{'q': 0.1}, {'q': 0.3}, {'q': 0.2}, {'q': 0.4}, {'q': 0.6}, {'q': 0.7}, {'q': 0.8}, {'q': 0.9}], 'count_above': [{'t': 0}], 'count_below': [{'t': 0}], 'range_count': [{'max': 0, 'min': -1000000000000.0}, {'max': 1000000000000.0, 'min': 0}], 'fft_coefficient': [{'attr': 'angle', 'coeff': 0}, {'attr': 'real', 'coeff': 0}, {'attr': 'abs', 'coeff': 0}, {'attr': 'abs', 'coeff': 37}, {'attr': 'abs', 'coeff': 38}, {'attr': 'abs', 'coeff': 40}, {'attr': 'abs', 'coeff': 39}, {'attr': 'abs', 'coeff': 35}, {'attr': 'abs', 'coeff': 42}, {'attr': 'abs', 'coeff': 46}, {'attr': 'abs', 'coeff': 47}, {'attr': 'abs', 'coeff': 25}, {'attr': 'abs', 'coeff': 43}, {'attr': 'abs', 'coeff': 49}, {'attr': 'abs', 'coeff': 45}, {'attr': 'abs', 'coeff': 26}, {'attr': 'abs', 'coeff': 41}, {'attr': 'abs', 'coeff': 48}, {'attr': 'abs', 'coeff': 34}, {'attr': 'abs', 'coeff': 44}, {'attr': 'abs', 'coeff': 1}, {'attr': 'abs', 'coeff': 21}, {'attr': 'abs', 'coeff': 8}, {'attr': 'abs', 'coeff': 32}, {'attr': 'abs', 'coeff': 33}, {'attr': 'abs', 'coeff': 50}, {'attr': 'abs', 'coeff': 36}, {'attr': 'abs', 'coeff': 4}, {'attr': 'abs', 'coeff': 2}, {'attr': 'abs', 'coeff': 7}], 'sum_values': None, 'mean': None, 'median': None, 'friedrich_coefficients': [{'coeff': 3, 'm': 3, 'r': 30}, {'coeff': 1, 'm': 3, 'r': 30}], 'agg_linear_trend': [{'attr': 'intercept', 'chunk_len': 50, 'f_agg': 'mean'}, {'attr': 'intercept', 'chunk_len': 10, 'f_agg': 'mean'}, {'attr': 'intercept', 'chunk_len': 50, 'f_agg': 'min'}, {'attr': 'intercept', 'chunk_len': 5, 'f_agg': 'mean'}, {'attr': 'intercept', 'chunk_len': 10, 'f_agg': 'min'}, {'attr': 'intercept', 'chunk_len': 5, 'f_agg': 'min'}, {'attr': 'intercept', 'chunk_len': 5, 'f_agg': 'max'}, {'attr': 'intercept', 'chunk_len': 10, 'f_agg': 'max'}, {'attr': 'intercept', 'chunk_len': 50, 'f_agg': 'max'}], 'c3': [{'lag': 1}, {'lag': 2}, {'lag': 3}], 'minimum': None, 'ar_coefficient': [{'coeff': 0, 'k': 10}, {'coeff': 2, 'k': 10}, {'coeff': 1, 'k': 10}, {'coeff': 8, 'k': 10}], 'linear_trend': [{'attr': 'intercept'}], 'cwt_coefficients': [{'coeff': 2, 'w': 2, 'widths': (2, 5, 10, 20)}, {'coeff': 3, 'w': 2, 'widths': (2, 5, 10, 20)}, {'coeff': 14, 'w': 20, 'widths': (2, 5, 10, 20)}, {'coeff': 13, 'w': 20, 'widths': (2, 5, 10, 20)}, {'coeff': 1, 'w': 2, 'widths': (2, 5, 10, 20)}, {'coeff': 10, 'w': 10, 'widths': (2, 5, 10, 20)}, {'coeff': 11, 'w': 10, 'widths': (2, 5, 10, 20)}, {'coeff': 12, 'w': 10, 'widths': (2, 5, 10, 20)}, {'coeff': 13, 'w': 10, 'widths': (2, 5, 10, 20)}, {'coeff': 9, 'w': 10, 'widths': (2, 5, 10, 20)}, {'coeff': 6, 'w': 5, 'widths': (2, 5, 10, 20)}, {'coeff': 7, 'w': 5, 'widths': (2, 5, 10, 20)}, {'coeff': 12, 'w': 20, 'widths': (2, 5, 10, 20)}, {'coeff': 14, 'w': 10, 'widths': (2, 5, 10, 20)}, {'coeff': 8, 'w': 10, 'widths': (2, 5, 10, 20)}, {'coeff': 5, 'w': 5, 'widths': (2, 5, 10, 20)}, {'coeff': 11, 'w': 20, 'widths': (2, 5, 10, 20)}, {'coeff': 4, 'w': 5, 'widths': (2, 5, 10, 20)}, {'coeff': 8, 'w': 5, 'widths': (2, 5, 10, 20)}, {'coeff': 7, 'w': 10, 'widths': (2, 5, 10, 20)}, {'coeff': 10, 'w': 20, 'widths': (2, 5, 10, 20)}, {'coeff': 3, 'w': 5, 'widths': (2, 5, 10, 20)}, {'coeff': 6, 'w': 10, 'widths': (2, 5, 10, 20)}, {'coeff': 9, 'w': 20, 'widths': (2, 5, 10, 20)}, {'coeff': 8, 'w': 20, 'widths': (2, 5, 10, 20)}, {'coeff': 5, 'w': 10, 'widths': (2, 5, 10, 20)}, {'coeff': 9, 'w': 5, 'widths': (2, 5, 10, 20)}, {'coeff': 2, 'w': 5, 'widths': (2, 5, 10, 20)}, {'coeff': 4, 'w': 2, 'widths': (2, 5, 10, 20)}, {'coeff': 7, 'w': 20, 'widths': (2, 5, 10, 20)}, {'coeff': 6, 'w': 20, 'widths': (2, 5, 10, 20)}, {'coeff': 4, 'w': 10, 'widths': (2, 5, 10, 20)}, {'coeff': 10, 'w': 5, 'widths': (2, 5, 10, 20)}, {'coeff': 5, 'w': 20, 'widths': (2, 5, 10, 20)}, {'coeff': 4, 'w': 20, 'widths': (2, 5, 10, 20)}, {'coeff': 3, 'w': 10, 'widths': (2, 5, 10, 20)}, {'coeff': 11, 'w': 5, 'widths': (2, 5, 10, 20)}, {'coeff': 1, 'w': 5, 'widths': (2, 5, 10, 20)}, {'coeff': 3, 'w': 20, 'widths': (2, 5, 10, 20)}, {'coeff': 2, 'w': 20, 'widths': (2, 5, 10, 20)}, {'coeff': 2, 'w': 10, 'widths': (2, 5, 10, 20)}, {'coeff': 12, 'w': 5, 'widths': (2, 5, 10, 20)}, {'coeff': 1, 'w': 20, 'widths': (2, 5, 10, 20)}, {'coeff': 13, 'w': 5, 'widths': (2, 5, 10, 20)}, {'coeff': 1, 'w': 10, 'widths': (2, 5, 10, 20)}, {'coeff': 0, 'w': 20, 'widths': (2, 5, 10, 20)}, {'coeff': 5, 'w': 2, 'widths': (2, 5, 10, 20)}], 'max_langevin_fixed_point': [{'m': 3, 'r': 30}], 'maximum': None, 'variation_coefficient': None, 'root_mean_square': None, 'abs_energy': None, 'mean_n_absolute_max': [{'number_of_maxima': 7}], 'absolute_maximum': None, 'number_cwt_peaks': [{'n': 5}], 'partial_autocorrelation': [{'lag': 3}, {'lag': 2}, {'lag': 8}, {'lag': 6}], 'change_quantiles': [{'f_agg': 'mean', 'isabs': True, 'qh': 0.6, 'ql': 0.0}, {'f_agg': 'var', 'isabs': False, 'qh': 0.6, 'ql': 0.0}, {'f_agg': 'mean', 'isabs': True, 'qh': 0.4, 'ql': 0.0}, {'f_agg': 'var', 'isabs': True, 'qh': 0.6, 'ql': 0.0}, {'f_agg': 'var', 'isabs': False, 'qh': 0.4, 'ql': 0.0}, {'f_agg': 'mean', 'isabs': True, 'qh': 0.8, 'ql': 0.0}, {'f_agg': 'var', 'isabs': False, 'qh': 0.8, 'ql': 0.0}, {'f_agg': 'mean', 'isabs': True, 'qh': 0.4, 'ql': 0.2}, {'f_agg': 'mean', 'isabs': True, 'qh': 0.6, 'ql': 0.2}, {'f_agg': 'var', 'isabs': True, 'qh': 0.4, 'ql': 0.0}, {'f_agg': 'var', 'isabs': True, 'qh': 0.8, 'ql': 0.0}, {'f_agg': 'var', 'isabs': False, 'qh': 0.6, 'ql': 0.2}, {'f_agg': 'mean', 'isabs': True, 'qh': 0.2, 'ql': 0.0}, {'f_agg': 'var', 'isabs': False, 'qh': 0.4, 'ql': 0.2}, {'f_agg': 'var', 'isabs': False, 'qh': 0.2, 'ql': 0.0}, {'f_agg': 'var', 'isabs': True, 'qh': 0.6, 'ql': 0.2}, {'f_agg': 'mean', 'isabs': True, 'qh': 1.0, 'ql': 0.0}, {'f_agg': 'var', 'isabs': True, 'qh': 0.4, 'ql': 0.2}, {'f_agg': 'var', 'isabs': False, 'qh': 1.0, 'ql': 0.0}, {'f_agg': 'var', 'isabs': True, 'qh': 1.0, 'ql': 0.0}, {'f_agg': 'mean', 'isabs': True, 'qh': 0.6, 'ql': 0.4}, {'f_agg': 'mean', 'isabs': True, 'qh': 0.8, 'ql': 0.2}], 'cid_ce': [{'normalize': False}], 'mean_abs_change': None, 'absolute_sum_of_changes': None}, 'z_gyro_clean': {'number_peaks': [{'n': 1}, {'n': 5}], 'ar_coefficient': [{'coeff': 1, 'k': 10}, {'coeff': 2, 'k': 10}, {'coeff': 3, 'k': 10}, {'coeff': 4, 'k': 10}], 'partial_autocorrelation': [{'lag': 2}, {'lag': 4}, {'lag': 5}, {'lag': 1}], 'permutation_entropy': [{'dimension': 3, 'tau': 1}, {'dimension': 4, 'tau': 1}, {'dimension': 5, 'tau': 1}, {'dimension': 6, 'tau': 1}, {'dimension': 7, 'tau': 1}], 'autocorrelation': [{'lag': 1}, {'lag': 4}, {'lag': 2}, {'lag': 5}, {'lag': 7}, {'lag': 6}, {'lag': 9}, {'lag': 3}], 'cid_ce': [{'normalize': True}], 'fft_aggregated': [{'aggtype': 'kurtosis'}, {'aggtype': 'variance'}, {'aggtype': 'skew'}], 'approximate_entropy': [{'m': 2, 'r': 0.3}, {'m': 2, 'r': 0.5}, {'m': 2, 'r': 0.7}, {'m': 2, 'r': 0.9}, {'m': 2, 'r': 0.1}], 'change_quantiles': [{'f_agg': 'var', 'isabs': False, 'qh': 0.2, 'ql': 0.0}, {'f_agg': 'var', 'isabs': False, 'qh': 1.0, 'ql': 0.8}, {'f_agg': 'var', 'isabs': False, 'qh': 0.4, 'ql': 0.0}, {'f_agg': 'var', 'isabs': False, 'qh': 1.0, 'ql': 0.6}, {'f_agg': 'var', 'isabs': True, 'qh': 0.2, 'ql': 0.0}, {'f_agg': 'var', 'isabs': False, 'qh': 0.6, 'ql': 0.0}, {'f_agg': 'var', 'isabs': True, 'qh': 1.0, 'ql': 0.8}], 'lempel_ziv_complexity': [{'bins': 5}, {'bins': 3}, {'bins': 10}], 'fourier_entropy': [{'bins': 100}], 'sample_entropy': None, 'number_crossing_m': [{'m': 0}], 'friedrich_coefficients': [{'coeff': 1, 'm': 3, 'r': 30}], 'spkt_welch_density': [{'coeff': 8}]}, 'y_acc_clean': {'ar_coefficient': [{'coeff': 1, 'k': 10}, {'coeff': 2, 'k': 10}, {'coeff': 4, 'k': 10}, {'coeff': 3, 'k': 10}], 'number_peaks': [{'n': 1}], 'number_cwt_peaks': [{'n': 1}], 'partial_autocorrelation': [{'lag': 2}, {'lag': 5}, {'lag': 3}, {'lag': 1}], 'permutation_entropy': [{'dimension': 4, 'tau': 1}, {'dimension': 3, 'tau': 1}, {'dimension': 5, 'tau': 1}, {'dimension': 6, 'tau': 1}, {'dimension': 7, 'tau': 1}], 'autocorrelation': [{'lag': 1}]}, 'x_gyro_clean': {'number_peaks': [{'n': 1}, {'n': 5}], 'ar_coefficient': [{'coeff': 1, 'k': 10}, {'coeff': 2, 'k': 10}, {'coeff': 4, 'k': 10}, {'coeff': 7, 'k': 10}], 'permutation_entropy': [{'dimension': 3, 'tau': 1}, {'dimension': 4, 'tau': 1}, {'dimension': 5, 'tau': 1}, {'dimension': 6, 'tau': 1}, {'dimension': 7, 'tau': 1}], 'partial_autocorrelation': [{'lag': 2}, {'lag': 1}], 'fft_aggregated': [{'aggtype': 'variance'}, {'aggtype': 'skew'}, {'aggtype': 'kurtosis'}, {'aggtype': 'centroid'}], 'autocorrelation': [{'lag': 1}, {'lag': 2}, {'lag': 3}, {'lag': 4}], 'cid_ce': [{'normalize': True}], 'agg_autocorrelation': [{'f_agg': 'var', 'maxlag': 40}], 'sample_entropy': None, 'approximate_entropy': [{'m': 2, 'r': 0.3}, {'m': 2, 'r': 0.5}, {'m': 2, 'r': 0.7}, {'m': 2, 'r': 0.9}], 'fft_coefficient': [{'attr': 'abs', 'coeff': 35}, {'attr': 'abs', 'coeff': 33}, {'attr': 'abs', 'coeff': 32}, {'attr': 'abs', 'coeff': 34}, {'attr': 'abs', 'coeff': 37}, {'attr': 'abs', 'coeff': 40}, {'attr': 'abs', 'coeff': 39}], 'number_crossing_m': [{'m': 0}], 'large_standard_deviation': [{'r': 0.2}], 'fourier_entropy': [{'bins': 100}], 'lempel_ziv_complexity': [{'bins': 5}]}, 'x_acc_clean': {'ar_coefficient': [{'coeff': 2, 'k': 10}, {'coeff': 1, 'k': 10}, {'coeff': 4, 'k': 10}], 'number_peaks': [{'n': 1}], 'partial_autocorrelation': [{'lag': 2}, {'lag': 5}], 'approximate_entropy': [{'m': 2, 'r': 0.1}], 'permutation_entropy': [{'dimension': 3, 'tau': 1}, {'dimension': 4, 'tau': 1}, {'dimension': 5, 'tau': 1}, {'dimension': 6, 'tau': 1}, {'dimension': 7, 'tau': 1}], 'linear_trend': [{'attr': 'pvalue'}], 'agg_autocorrelation': [{'f_agg': 'mean', 'maxlag': 40}, {'f_agg': 'median', 'maxlag': 40}], 'fourier_entropy': [{'bins': 5}, {'bins': 10}, {'bins': 3}, {'bins': 2}], 'number_cwt_peaks': [{'n': 1}], 'fft_aggregated': [{'aggtype': 'variance'}], 'fft_coefficient': [{'attr': 'abs', 'coeff': 37}]}, 'y_gyro_clean': {'number_peaks': [{'n': 1}], 'count_below': [{'t': 0}], 'range_count': [{'max': 0, 'min': -1000000000000.0}, {'max': 1000000000000.0, 'min': 0}], 'count_above': [{'t': 0}], 'partial_autocorrelation': [{'lag': 2}, {'lag': 5}, {'lag': 1}, {'lag': 4}], 'ar_coefficient': [{'coeff': 1, 'k': 10}, {'coeff': 2, 'k': 10}, {'coeff': 6, 'k': 10}, {'coeff': 4, 'k': 10}], 'permutation_entropy': [{'dimension': 4, 'tau': 1}, {'dimension': 3, 'tau': 1}, {'dimension': 5, 'tau': 1}, {'dimension': 6, 'tau': 1}, {'dimension': 7, 'tau': 1}], 'friedrich_coefficients': [{'coeff': 1, 'm': 3, 'r': 30}, {'coeff': 3, 'm': 3, 'r': 30}], 'fft_coefficient': [{'attr': 'angle', 'coeff': 0}, {'attr': 'abs', 'coeff': 37}, {'attr': 'abs', 'coeff': 38}, {'attr': 'abs', 'coeff': 33}, {'attr': 'abs', 'coeff': 34}, {'attr': 'abs', 'coeff': 35}, {'attr': 'abs', 'coeff': 36}, {'attr': 'abs', 'coeff': 32}, {'attr': 'abs', 'coeff': 41}, {'attr': 'abs', 'coeff': 40}, {'attr': 'abs', 'coeff': 43}, {'attr': 'abs', 'coeff': 39}, {'attr': 'abs', 'coeff': 42}, {'attr': 'abs', 'coeff': 31}, {'attr': 'abs', 'coeff': 44}, {'attr': 'abs', 'coeff': 30}], 'fft_aggregated': [{'aggtype': 'variance'}, {'aggtype': 'kurtosis'}, {'aggtype': 'skew'}, {'aggtype': 'centroid'}], 'minimum': None, 'quantile': [{'q': 0.8}, {'q': 0.2}, {'q': 0.7}, {'q': 0.1}, {'q': 0.9}, {'q': 0.3}, {'q': 0.6}, {'q': 0.4}], 'autocorrelation': [{'lag': 1}], 'cid_ce': [{'normalize': True}, {'normalize': False}], 'agg_linear_trend': [{'attr': 'intercept', 'chunk_len': 50, 'f_agg': 'min'}, {'attr': 'intercept', 'chunk_len': 50, 'f_agg': 'max'}, {'attr': 'intercept', 'chunk_len': 5, 'f_agg': 'min'}, {'attr': 'intercept', 'chunk_len': 5, 'f_agg': 'mean'}, {'attr': 'intercept', 'chunk_len': 50, 'f_agg': 'mean'}, {'attr': 'intercept', 'chunk_len': 10, 'f_agg': 'mean'}, {'attr': 'intercept', 'chunk_len': 10, 'f_agg': 'min'}, {'attr': 'intercept', 'chunk_len': 5, 'f_agg': 'max'}], 'median': None, 'cwt_coefficients': [{'coeff': 11, 'w': 10, 'widths': (2, 5, 10, 20)}, {'coeff': 10, 'w': 10, 'widths': (2, 5, 10, 20)}, {'coeff': 8, 'w': 10, 'widths': (2, 5, 10, 20)}, {'coeff': 3, 'w': 2, 'widths': (2, 5, 10, 20)}, {'coeff': 9, 'w': 10, 'widths': (2, 5, 10, 20)}, {'coeff': 12, 'w': 10, 'widths': (2, 5, 10, 20)}, {'coeff': 7, 'w': 10, 'widths': (2, 5, 10, 20)}, {'coeff': 14, 'w': 10, 'widths': (2, 5, 10, 20)}, {'coeff': 12, 'w': 20, 'widths': (2, 5, 10, 20)}, {'coeff': 13, 'w': 20, 'widths': (2, 5, 10, 20)}, {'coeff': 11, 'w': 20, 'widths': (2, 5, 10, 20)}, {'coeff': 14, 'w': 20, 'widths': (2, 5, 10, 20)}, {'coeff': 6, 'w': 5, 'widths': (2, 5, 10, 20)}, {'coeff': 10, 'w': 20, 'widths': (2, 5, 10, 20)}, {'coeff': 6, 'w': 10, 'widths': (2, 5, 10, 20)}, {'coeff': 9, 'w': 20, 'widths': (2, 5, 10, 20)}, {'coeff': 13, 'w': 10, 'widths': (2, 5, 10, 20)}, {'coeff': 8, 'w': 20, 'widths': (2, 5, 10, 20)}, {'coeff': 5, 'w': 10, 'widths': (2, 5, 10, 20)}, {'coeff': 7, 'w': 20, 'widths': (2, 5, 10, 20)}, {'coeff': 2, 'w': 2, 'widths': (2, 5, 10, 20)}, {'coeff': 7, 'w': 5, 'widths': (2, 5, 10, 20)}], 'change_quantiles': [{'f_agg': 'var', 'isabs': True, 'qh': 1.0, 'ql': 0.0}, {'f_agg': 'var', 'isabs': False, 'qh': 1.0, 'ql': 0.0}, {'f_agg': 'mean', 'isabs': True, 'qh': 1.0, 'ql': 0.0}, {'f_agg': 'var', 'isabs': False, 'qh': 1.0, 'ql': 0.2}, {'f_agg': 'var', 'isabs': True, 'qh': 1.0, 'ql': 0.2}], 'number_cwt_peaks': [{'n': 1}], 'linear_trend': [{'attr': 'intercept'}], 'max_langevin_fixed_point': [{'m': 3, 'r': 30}], 'absolute_sum_of_changes': None, 'mean_abs_change': None}, 'speed_kmh': {'cwt_coefficients': [{'coeff': 11, 'w': 2, 'widths': (2, 5, 10, 20)}, {'coeff': 10, 'w': 2, 'widths': (2, 5, 10, 20)}, {'coeff': 9, 'w': 2, 'widths': (2, 5, 10, 20)}, {'coeff': 13, 'w': 2, 'widths': (2, 5, 10, 20)}, {'coeff': 12, 'w': 2, 'widths': (2, 5, 10, 20)}, {'coeff': 8, 'w': 2, 'widths': (2, 5, 10, 20)}, {'coeff': 14, 'w': 2, 'widths': (2, 5, 10, 20)}, {'coeff': 7, 'w': 2, 'widths': (2, 5, 10, 20)}, {'coeff': 6, 'w': 2, 'widths': (2, 5, 10, 20)}], 'change_quantiles': [{'f_agg': 'var', 'isabs': True, 'qh': 0.6, 'ql': 0.4}, {'f_agg': 'var', 'isabs': True, 'qh': 0.4, 'ql': 0.2}, {'f_agg': 'var', 'isabs': True, 'qh': 0.8, 'ql': 0.6}, {'f_agg': 'var', 'isabs': False, 'qh': 0.4, 'ql': 0.2}, {'f_agg': 'var', 'isabs': False, 'qh': 0.8, 'ql': 0.6}, {'f_agg': 'var', 'isabs': False, 'qh': 0.6, 'ql': 0.4}, {'f_agg': 'var', 'isabs': True, 'qh': 1.0, 'ql': 0.8}, {'f_agg': 'var', 'isabs': False, 'qh': 1.0, 'ql': 0.8}, {'f_agg': 'var', 'isabs': True, 'qh': 0.2, 'ql': 0.0}, {'f_agg': 'var', 'isabs': False, 'qh': 0.2, 'ql': 0.0}, {'f_agg': 'var', 'isabs': True, 'qh': 0.6, 'ql': 0.2}, {'f_agg': 'var', 'isabs': False, 'qh': 0.6, 'ql': 0.2}, {'f_agg': 'var', 'isabs': False, 'qh': 0.8, 'ql': 0.4}, {'f_agg': 'var', 'isabs': True, 'qh': 0.8, 'ql': 0.4}, {'f_agg': 'var', 'isabs': False, 'qh': 0.8, 'ql': 0.0}, {'f_agg': 'var', 'isabs': False, 'qh': 0.6, 'ql': 0.0}, {'f_agg': 'var', 'isabs': False, 'qh': 0.4, 'ql': 0.0}, {'f_agg': 'var', 'isabs': False, 'qh': 0.8, 'ql': 0.2}, {'f_agg': 'var', 'isabs': True, 'qh': 0.6, 'ql': 0.0}, {'f_agg': 'var', 'isabs': False, 'qh': 1.0, 'ql': 0.6}, {'f_agg': 'var', 'isabs': False, 'qh': 1.0, 'ql': 0.0}, {'f_agg': 'var', 'isabs': True, 'qh': 0.8, 'ql': 0.0}, {'f_agg': 'var', 'isabs': False, 'qh': 1.0, 'ql': 0.2}, {'f_agg': 'var', 'isabs': False, 'qh': 1.0, 'ql': 0.4}, {'f_agg': 'var', 'isabs': True, 'qh': 0.8, 'ql': 0.2}, {'f_agg': 'var', 'isabs': True, 'qh': 0.4, 'ql': 0.0}, {'f_agg': 'var', 'isabs': True, 'qh': 1.0, 'ql': 0.6}, {'f_agg': 'var', 'isabs': True, 'qh': 1.0, 'ql': 0.2}, {'f_agg': 'var', 'isabs': True, 'qh': 1.0, 'ql': 0.0}, {'f_agg': 'var', 'isabs': True, 'qh': 1.0, 'ql': 0.4}], 'max_langevin_fixed_point': [{'m': 3, 'r': 30}], 'partial_autocorrelation': [{'lag': 4}, {'lag': 3}], 'agg_linear_trend': [{'attr': 'stderr', 'chunk_len': 5, 'f_agg': 'var'}, {'attr': 'stderr', 'chunk_len': 5, 'f_agg': 'min'}, {'attr': 'stderr', 'chunk_len': 10, 'f_agg': 'min'}, {'attr': 'stderr', 'chunk_len': 5, 'f_agg': 'max'}, {'attr': 'stderr', 'chunk_len': 10, 'f_agg': 'mean'}, {'attr': 'stderr', 'chunk_len': 10, 'f_agg': 'max'}, {'attr': 'stderr', 'chunk_len': 5, 'f_agg': 'mean'}, {'attr': 'stderr', 'chunk_len': 10, 'f_agg': 'var'}], 'number_peaks': [{'n': 3}], 'variation_coefficient': None, 'approximate_entropy': [{'m': 2, 'r': 0.3}, {'m': 2, 'r': 0.5}, {'m': 2, 'r': 0.7}, {'m': 2, 'r': 0.1}, {'m': 2, 'r': 0.9}], 'spkt_welch_density': [{'coeff': 8}], 'linear_trend': [{'attr': 'stderr'}], 'c3': [{'lag': 1}, {'lag': 2}, {'lag': 3}], 'root_mean_square': None, 'abs_energy': None, 'maximum': None, 'absolute_maximum': None, 'mean': None, 'fft_coefficient': [{'attr': 'abs', 'coeff': 0}, {'attr': 'real', 'coeff': 0}], 'sum_values': None, 'mean_n_absolute_max': [{'number_of_maxima': 7}], 'quantile': [{'q': 0.9}, {'q': 0.8}, {'q': 0.7}, {'q': 0.6}], 'sample_entropy': None}, 'acceleration': {'number_peaks': [{'n': 3}], 'change_quantiles': [{'f_agg': 'var', 'isabs': False, 'qh': 0.2, 'ql': 0.0}, {'f_agg': 'var', 'isabs': False, 'qh': 0.4, 'ql': 0.0}, {'f_agg': 'var', 'isabs': True, 'qh': 0.2, 'ql': 0.0}, {'f_agg': 'mean', 'isabs': True, 'qh': 0.4, 'ql': 0.0}, {'f_agg': 'var', 'isabs': False, 'qh': 0.6, 'ql': 0.0}, {'f_agg': 'var', 'isabs': True, 'qh': 0.4, 'ql': 0.0}, {'f_agg': 'mean', 'isabs': True, 'qh': 0.6, 'ql': 0.0}, {'f_agg': 'mean', 'isabs': True, 'qh': 0.2, 'ql': 0.0}, {'f_agg': 'var', 'isabs': True, 'qh': 0.4, 'ql': 0.2}, {'f_agg': 'var', 'isabs': False, 'qh': 0.8, 'ql': 0.0}, {'f_agg': 'var', 'isabs': True, 'qh': 0.6, 'ql': 0.0}, {'f_agg': 'var', 'isabs': False, 'qh': 1.0, 'ql': 0.0}, {'f_agg': 'mean', 'isabs': True, 'qh': 0.8, 'ql': 0.0}, {'f_agg': 'mean', 'isabs': True, 'qh': 1.0, 'ql': 0.0}, {'f_agg': 'var', 'isabs': False, 'qh': 0.4, 'ql': 0.2}, {'f_agg': 'var', 'isabs': True, 'qh': 0.8, 'ql': 0.0}, {'f_agg': 'var', 'isabs': True, 'qh': 1.0, 'ql': 0.0}, {'f_agg': 'mean', 'isabs': True, 'qh': 0.4, 'ql': 0.2}, {'f_agg': 'var', 'isabs': False, 'qh': 0.6, 'ql': 0.2}, {'f_agg': 'mean', 'isabs': True, 'qh': 0.6, 'ql': 0.2}, {'f_agg': 'var', 'isabs': False, 'qh': 1.0, 'ql': 0.2}, {'f_agg': 'var', 'isabs': True, 'qh': 1.0, 'ql': 0.2}, {'f_agg': 'var', 'isabs': True, 'qh': 0.6, 'ql': 0.2}, {'f_agg': 'var', 'isabs': True, 'qh': 0.6, 'ql': 0.4}, {'f_agg': 'var', 'isabs': False, 'qh': 0.8, 'ql': 0.2}, {'f_agg': 'var', 'isabs': True, 'qh': 0.8, 'ql': 0.2}, {'f_agg': 'mean', 'isabs': True, 'qh': 0.8, 'ql': 0.2}, {'f_agg': 'mean', 'isabs': True, 'qh': 1.0, 'ql': 0.2}, {'f_agg': 'var', 'isabs': True, 'qh': 1.0, 'ql': 0.4}, {'f_agg': 'var', 'isabs': False, 'qh': 1.0, 'ql': 0.4}, {'f_agg': 'var', 'isabs': True, 'qh': 0.8, 'ql': 0.4}, {'f_agg': 'var', 'isabs': True, 'qh': 0.8, 'ql': 0.6}, {'f_agg': 'var', 'isabs': False, 'qh': 0.6, 'ql': 0.4}, {'f_agg': 'var', 'isabs': False, 'qh': 0.8, 'ql': 0.4}, {'f_agg': 'var', 'isabs': True, 'qh': 1.0, 'ql': 0.6}, {'f_agg': 'mean', 'isabs': True, 'qh': 1.0, 'ql': 0.4}], 'agg_linear_trend': [{'attr': 'stderr', 'chunk_len': 5, 'f_agg': 'var'}, {'attr': 'stderr', 'chunk_len': 5, 'f_agg': 'min'}, {'attr': 'stderr', 'chunk_len': 10, 'f_agg': 'mean'}, {'attr': 'stderr', 'chunk_len': 10, 'f_agg': 'var'}, {'attr': 'stderr', 'chunk_len': 5, 'f_agg': 'mean'}, {'attr': 'stderr', 'chunk_len': 10, 'f_agg': 'min'}, {'attr': 'stderr', 'chunk_len': 5, 'f_agg': 'max'}, {'attr': 'stderr', 'chunk_len': 10, 'f_agg': 'max'}], 'minimum': None, 'quantile': [{'q': 0.1}, {'q': 0.2}], 'cid_ce': [{'normalize': False}], 'absolute_sum_of_changes': None, 'mean_abs_change': None, 'partial_autocorrelation': [{'lag': 4}], 'fft_coefficient': [{'attr': 'abs', 'coeff': 2}, {'attr': 'abs', 'coeff': 3}, {'attr': 'abs', 'coeff': 4}], 'linear_trend': [{'attr': 'stderr'}], 'variance': None, 'standard_deviation': None}}\n",
      "y (389287, 6) (389287,) (389287, 100, 8)\n",
      "(38928700, 8)\n",
      "(38928700, 10)\n",
      "30000\n",
      "30000\n",
      "(30000, 6)\n"
     ]
    },
    {
     "name": "stderr",
     "output_type": "stream",
     "text": [
      "Feature Extraction: 100%|██████████| 80/80 [03:30<00:00,  2.63s/it]\n"
     ]
    },
    {
     "name": "stdout",
     "output_type": "stream",
     "text": [
      "extracted shape (30000, 500)\n",
      "60000\n",
      "30000\n",
      "(30000, 6)\n"
     ]
    },
    {
     "name": "stderr",
     "output_type": "stream",
     "text": [
      "Feature Extraction: 100%|██████████| 80/80 [03:28<00:00,  2.61s/it]\n"
     ]
    },
    {
     "name": "stdout",
     "output_type": "stream",
     "text": [
      "extracted shape (30000, 500)\n",
      "90000\n",
      "30000\n",
      "(30000, 6)\n"
     ]
    },
    {
     "name": "stderr",
     "output_type": "stream",
     "text": [
      "Feature Extraction: 100%|██████████| 80/80 [03:29<00:00,  2.62s/it]\n"
     ]
    },
    {
     "name": "stdout",
     "output_type": "stream",
     "text": [
      "extracted shape (30000, 500)\n",
      "120000\n",
      "30000\n",
      "(30000, 6)\n"
     ]
    },
    {
     "name": "stderr",
     "output_type": "stream",
     "text": [
      "Feature Extraction: 100%|██████████| 80/80 [03:26<00:00,  2.58s/it]\n"
     ]
    },
    {
     "name": "stdout",
     "output_type": "stream",
     "text": [
      "extracted shape (30000, 500)\n",
      "150000\n",
      "30000\n",
      "(30000, 6)\n"
     ]
    },
    {
     "name": "stderr",
     "output_type": "stream",
     "text": [
      "Feature Extraction: 100%|██████████| 80/80 [03:27<00:00,  2.60s/it]\n"
     ]
    },
    {
     "name": "stdout",
     "output_type": "stream",
     "text": [
      "extracted shape (30000, 500)\n",
      "180000\n",
      "30000\n",
      "(30000, 6)\n"
     ]
    },
    {
     "name": "stderr",
     "output_type": "stream",
     "text": [
      "Feature Extraction: 100%|██████████| 80/80 [03:28<00:00,  2.61s/it]\n"
     ]
    },
    {
     "name": "stdout",
     "output_type": "stream",
     "text": [
      "extracted shape (30000, 500)\n",
      "210000\n",
      "30000\n",
      "(30000, 6)\n"
     ]
    },
    {
     "name": "stderr",
     "output_type": "stream",
     "text": [
      "Feature Extraction: 100%|██████████| 80/80 [03:28<00:00,  2.60s/it]\n"
     ]
    },
    {
     "name": "stdout",
     "output_type": "stream",
     "text": [
      "extracted shape (30000, 500)\n",
      "240000\n",
      "30000\n",
      "(30000, 6)\n"
     ]
    },
    {
     "name": "stderr",
     "output_type": "stream",
     "text": [
      "Feature Extraction: 100%|██████████| 80/80 [03:26<00:00,  2.58s/it]\n"
     ]
    },
    {
     "name": "stdout",
     "output_type": "stream",
     "text": [
      "extracted shape (30000, 500)\n",
      "270000\n",
      "30000\n",
      "(30000, 6)\n"
     ]
    },
    {
     "name": "stderr",
     "output_type": "stream",
     "text": [
      "Feature Extraction: 100%|██████████| 80/80 [03:16<00:00,  2.45s/it]\n"
     ]
    },
    {
     "name": "stdout",
     "output_type": "stream",
     "text": [
      "extracted shape (30000, 500)\n",
      "300000\n",
      "30000\n",
      "(30000, 6)\n"
     ]
    },
    {
     "name": "stderr",
     "output_type": "stream",
     "text": [
      "Feature Extraction: 100%|██████████| 80/80 [03:29<00:00,  2.62s/it]\n"
     ]
    },
    {
     "name": "stdout",
     "output_type": "stream",
     "text": [
      "extracted shape (30000, 500)\n",
      "330000\n",
      "30000\n",
      "(30000, 6)\n"
     ]
    },
    {
     "name": "stderr",
     "output_type": "stream",
     "text": [
      "Feature Extraction: 100%|██████████| 80/80 [03:29<00:00,  2.62s/it]\n"
     ]
    },
    {
     "name": "stdout",
     "output_type": "stream",
     "text": [
      "extracted shape (30000, 500)\n",
      "360000\n",
      "30000\n",
      "(30000, 6)\n"
     ]
    },
    {
     "name": "stderr",
     "output_type": "stream",
     "text": [
      "Feature Extraction: 100%|██████████| 80/80 [03:27<00:00,  2.59s/it]\n"
     ]
    },
    {
     "name": "stdout",
     "output_type": "stream",
     "text": [
      "extracted shape (30000, 500)\n",
      "390000\n",
      "29287\n",
      "(29287, 6)\n"
     ]
    },
    {
     "name": "stderr",
     "output_type": "stream",
     "text": [
      "Feature Extraction: 100%|██████████| 80/80 [03:19<00:00,  2.49s/it]\n"
     ]
    },
    {
     "name": "stdout",
     "output_type": "stream",
     "text": [
      "extracted shape (29287, 500)\n",
      "x (381067, 100, 8)\n",
      "y (381067, 6) (16364,) (16364, 100, 8)\n",
      "(1636400, 8)\n",
      "Extracting feature only... 1636400\n"
     ]
    },
    {
     "name": "stderr",
     "output_type": "stream",
     "text": [
      "Feature Extraction: 100%|██████████| 80/80 [07:31<00:00,  5.64s/it] \n"
     ]
    },
    {
     "name": "stdout",
     "output_type": "stream",
     "text": [
      "{'z_acc_clean': {'fft_coefficient': [{'attr': 'angle', 'coeff': 0}, {'attr': 'real', 'coeff': 0}, {'attr': 'abs', 'coeff': 0}, {'attr': 'abs', 'coeff': 47}, {'attr': 'abs', 'coeff': 37}], 'range_count': [{'max': 1000000000000.0, 'min': 0}, {'max': 0, 'min': -1000000000000.0}], 'count_below': [{'t': 0}], 'count_above': [{'t': 0}], 'sum_values': None, 'mean': None, 'median': None, 'quantile': [{'q': 0.3}, {'q': 0.4}, {'q': 0.6}, {'q': 0.2}, {'q': 0.7}, {'q': 0.8}, {'q': 0.1}, {'q': 0.9}], 'agg_linear_trend': [{'attr': 'intercept', 'chunk_len': 50, 'f_agg': 'mean'}, {'attr': 'intercept', 'chunk_len': 10, 'f_agg': 'mean'}, {'attr': 'intercept', 'chunk_len': 5, 'f_agg': 'mean'}, {'attr': 'intercept', 'chunk_len': 10, 'f_agg': 'max'}, {'attr': 'intercept', 'chunk_len': 50, 'f_agg': 'max'}, {'attr': 'intercept', 'chunk_len': 5, 'f_agg': 'max'}, {'attr': 'intercept', 'chunk_len': 5, 'f_agg': 'min'}, {'attr': 'intercept', 'chunk_len': 10, 'f_agg': 'min'}, {'attr': 'intercept', 'chunk_len': 50, 'f_agg': 'min'}], 'friedrich_coefficients': [{'coeff': 3, 'm': 3, 'r': 30}, {'coeff': 1, 'm': 3, 'r': 30}], 'c3': [{'lag': 3}, {'lag': 2}, {'lag': 1}], 'cwt_coefficients': [{'coeff': 7, 'w': 5, 'widths': (2, 5, 10, 20)}, {'coeff': 6, 'w': 5, 'widths': (2, 5, 10, 20)}, {'coeff': 8, 'w': 5, 'widths': (2, 5, 10, 20)}, {'coeff': 5, 'w': 5, 'widths': (2, 5, 10, 20)}, {'coeff': 9, 'w': 10, 'widths': (2, 5, 10, 20)}, {'coeff': 10, 'w': 10, 'widths': (2, 5, 10, 20)}, {'coeff': 8, 'w': 10, 'widths': (2, 5, 10, 20)}, {'coeff': 11, 'w': 10, 'widths': (2, 5, 10, 20)}, {'coeff': 2, 'w': 2, 'widths': (2, 5, 10, 20)}, {'coeff': 12, 'w': 10, 'widths': (2, 5, 10, 20)}, {'coeff': 7, 'w': 10, 'widths': (2, 5, 10, 20)}, {'coeff': 4, 'w': 5, 'widths': (2, 5, 10, 20)}, {'coeff': 13, 'w': 10, 'widths': (2, 5, 10, 20)}, {'coeff': 6, 'w': 10, 'widths': (2, 5, 10, 20)}, {'coeff': 1, 'w': 2, 'widths': (2, 5, 10, 20)}, {'coeff': 9, 'w': 5, 'widths': (2, 5, 10, 20)}, {'coeff': 14, 'w': 20, 'widths': (2, 5, 10, 20)}, {'coeff': 14, 'w': 10, 'widths': (2, 5, 10, 20)}, {'coeff': 13, 'w': 20, 'widths': (2, 5, 10, 20)}, {'coeff': 12, 'w': 20, 'widths': (2, 5, 10, 20)}, {'coeff': 5, 'w': 10, 'widths': (2, 5, 10, 20)}, {'coeff': 11, 'w': 20, 'widths': (2, 5, 10, 20)}, {'coeff': 3, 'w': 5, 'widths': (2, 5, 10, 20)}, {'coeff': 3, 'w': 2, 'widths': (2, 5, 10, 20)}, {'coeff': 10, 'w': 20, 'widths': (2, 5, 10, 20)}, {'coeff': 9, 'w': 20, 'widths': (2, 5, 10, 20)}, {'coeff': 4, 'w': 10, 'widths': (2, 5, 10, 20)}, {'coeff': 8, 'w': 20, 'widths': (2, 5, 10, 20)}, {'coeff': 10, 'w': 5, 'widths': (2, 5, 10, 20)}, {'coeff': 7, 'w': 20, 'widths': (2, 5, 10, 20)}, {'coeff': 6, 'w': 20, 'widths': (2, 5, 10, 20)}, {'coeff': 2, 'w': 5, 'widths': (2, 5, 10, 20)}, {'coeff': 3, 'w': 10, 'widths': (2, 5, 10, 20)}, {'coeff': 5, 'w': 20, 'widths': (2, 5, 10, 20)}, {'coeff': 4, 'w': 20, 'widths': (2, 5, 10, 20)}, {'coeff': 11, 'w': 5, 'widths': (2, 5, 10, 20)}, {'coeff': 3, 'w': 20, 'widths': (2, 5, 10, 20)}, {'coeff': 2, 'w': 10, 'widths': (2, 5, 10, 20)}, {'coeff': 2, 'w': 20, 'widths': (2, 5, 10, 20)}, {'coeff': 4, 'w': 2, 'widths': (2, 5, 10, 20)}, {'coeff': 1, 'w': 5, 'widths': (2, 5, 10, 20)}, {'coeff': 1, 'w': 20, 'widths': (2, 5, 10, 20)}, {'coeff': 12, 'w': 5, 'widths': (2, 5, 10, 20)}, {'coeff': 0, 'w': 20, 'widths': (2, 5, 10, 20)}, {'coeff': 1, 'w': 10, 'widths': (2, 5, 10, 20)}, {'coeff': 13, 'w': 5, 'widths': (2, 5, 10, 20)}, {'coeff': 5, 'w': 2, 'widths': (2, 5, 10, 20)}], 'linear_trend': [{'attr': 'intercept'}], 'maximum': None, 'max_langevin_fixed_point': [{'m': 3, 'r': 30}], 'minimum': None, 'ar_coefficient': [{'coeff': 0, 'k': 10}, {'coeff': 2, 'k': 10}, {'coeff': 1, 'k': 10}, {'coeff': 3, 'k': 10}], 'variation_coefficient': None, 'root_mean_square': None, 'abs_energy': None, 'number_crossing_m': [{'m': 0}], 'mean_n_absolute_max': [{'number_of_maxima': 7}], 'number_cwt_peaks': [{'n': 5}], 'fft_aggregated': [{'aggtype': 'skew'}, {'aggtype': 'centroid'}, {'aggtype': 'kurtosis'}], 'absolute_maximum': None, 'partial_autocorrelation': [{'lag': 3}]}, 'z_gyro_clean': {'ar_coefficient': [{'coeff': 1, 'k': 10}, {'coeff': 2, 'k': 10}, {'coeff': 3, 'k': 10}, {'coeff': 4, 'k': 10}, {'coeff': 10, 'k': 10}], 'number_peaks': [{'n': 1}], 'partial_autocorrelation': [{'lag': 2}, {'lag': 4}, {'lag': 5}, {'lag': 3}], 'permutation_entropy': [{'dimension': 3, 'tau': 1}, {'dimension': 4, 'tau': 1}, {'dimension': 5, 'tau': 1}, {'dimension': 6, 'tau': 1}, {'dimension': 7, 'tau': 1}], 'fft_aggregated': [{'aggtype': 'variance'}, {'aggtype': 'kurtosis'}, {'aggtype': 'skew'}, {'aggtype': 'centroid'}], 'number_crossing_m': [{'m': 0}], 'cid_ce': [{'normalize': True}], 'autocorrelation': [{'lag': 1}], 'lempel_ziv_complexity': [{'bins': 3}, {'bins': 5}], 'friedrich_coefficients': [{'coeff': 1, 'm': 3, 'r': 30}]}, 'y_acc_clean': {'ar_coefficient': [{'coeff': 1, 'k': 10}, {'coeff': 2, 'k': 10}, {'coeff': 4, 'k': 10}, {'coeff': 3, 'k': 10}], 'number_peaks': [{'n': 1}], 'number_cwt_peaks': [{'n': 1}, {'n': 5}], 'permutation_entropy': [{'dimension': 4, 'tau': 1}, {'dimension': 3, 'tau': 1}, {'dimension': 5, 'tau': 1}, {'dimension': 6, 'tau': 1}, {'dimension': 7, 'tau': 1}], 'partial_autocorrelation': [{'lag': 2}, {'lag': 5}, {'lag': 3}], 'benford_correlation': None, 'agg_linear_trend': [{'attr': 'stderr', 'chunk_len': 10, 'f_agg': 'var'}], 'lempel_ziv_complexity': [{'bins': 10}], 'approximate_entropy': [{'m': 2, 'r': 0.1}]}, 'x_acc_clean': {'ar_coefficient': [{'coeff': 2, 'k': 10}, {'coeff': 1, 'k': 10}, {'coeff': 4, 'k': 10}, {'coeff': 10, 'k': 10}], 'number_peaks': [{'n': 1}], 'partial_autocorrelation': [{'lag': 5}, {'lag': 2}], 'permutation_entropy': [{'dimension': 4, 'tau': 1}, {'dimension': 3, 'tau': 1}, {'dimension': 7, 'tau': 1}, {'dimension': 5, 'tau': 1}, {'dimension': 6, 'tau': 1}], 'approximate_entropy': [{'m': 2, 'r': 0.1}], 'number_cwt_peaks': [{'n': 1}, {'n': 5}], 'linear_trend': [{'attr': 'pvalue'}], 'agg_autocorrelation': [{'f_agg': 'mean', 'maxlag': 40}]}, 'x_gyro_clean': {'ar_coefficient': [{'coeff': 1, 'k': 10}, {'coeff': 2, 'k': 10}, {'coeff': 4, 'k': 10}, {'coeff': 3, 'k': 10}], 'number_peaks': [{'n': 1}], 'permutation_entropy': [{'dimension': 3, 'tau': 1}, {'dimension': 4, 'tau': 1}, {'dimension': 5, 'tau': 1}, {'dimension': 6, 'tau': 1}, {'dimension': 7, 'tau': 1}], 'partial_autocorrelation': [{'lag': 2}, {'lag': 1}, {'lag': 4}], 'fft_aggregated': [{'aggtype': 'variance'}, {'aggtype': 'skew'}, {'aggtype': 'centroid'}, {'aggtype': 'kurtosis'}], 'sample_entropy': None, 'lempel_ziv_complexity': [{'bins': 10}, {'bins': 5}, {'bins': 3}], 'autocorrelation': [{'lag': 1}], 'cid_ce': [{'normalize': True}], 'approximate_entropy': [{'m': 2, 'r': 0.3}, {'m': 2, 'r': 0.5}, {'m': 2, 'r': 0.7}], 'fft_coefficient': [{'attr': 'abs', 'coeff': 0}], 'benford_correlation': None, 'agg_autocorrelation': [{'f_agg': 'var', 'maxlag': 40}], 'number_crossing_m': [{'m': 0}], 'abs_energy': None, 'root_mean_square': None}, 'y_gyro_clean': {'ar_coefficient': [{'coeff': 1, 'k': 10}, {'coeff': 2, 'k': 10}, {'coeff': 4, 'k': 10}], 'number_peaks': [{'n': 1}], 'permutation_entropy': [{'dimension': 3, 'tau': 1}, {'dimension': 4, 'tau': 1}, {'dimension': 5, 'tau': 1}, {'dimension': 6, 'tau': 1}, {'dimension': 7, 'tau': 1}], 'partial_autocorrelation': [{'lag': 2}, {'lag': 4}, {'lag': 5}, {'lag': 1}], 'range_count': [{'max': 1000000000000.0, 'min': 0}, {'max': 0, 'min': -1000000000000.0}], 'count_below': [{'t': 0}], 'count_above': [{'t': 0}], 'friedrich_coefficients': [{'coeff': 1, 'm': 3, 'r': 30}, {'coeff': 3, 'm': 3, 'r': 30}], 'fft_coefficient': [{'attr': 'angle', 'coeff': 0}, {'attr': 'real', 'coeff': 0}], 'cid_ce': [{'normalize': True}], 'fft_aggregated': [{'aggtype': 'variance'}, {'aggtype': 'kurtosis'}, {'aggtype': 'skew'}, {'aggtype': 'centroid'}], 'autocorrelation': [{'lag': 1}], 'lempel_ziv_complexity': [{'bins': 3}, {'bins': 5}], 'quantile': [{'q': 0.8}, {'q': 0.7}, {'q': 0.6}, {'q': 0.9}, {'q': 0.4}, {'q': 0.3}, {'q': 0.2}], 'agg_linear_trend': [{'attr': 'intercept', 'chunk_len': 10, 'f_agg': 'min'}, {'attr': 'intercept', 'chunk_len': 5, 'f_agg': 'min'}, {'attr': 'intercept', 'chunk_len': 50, 'f_agg': 'mean'}, {'attr': 'intercept', 'chunk_len': 10, 'f_agg': 'mean'}], 'max_langevin_fixed_point': [{'m': 3, 'r': 30}], 'median': None, 'mean': None, 'sum_values': None, 'approximate_entropy': [{'m': 2, 'r': 0.9}, {'m': 2, 'r': 0.7}, {'m': 2, 'r': 0.3}, {'m': 2, 'r': 0.5}], 'sample_entropy': None}, 'speed_kmh': {'cwt_coefficients': [{'coeff': 11, 'w': 2, 'widths': (2, 5, 10, 20)}, {'coeff': 9, 'w': 2, 'widths': (2, 5, 10, 20)}, {'coeff': 10, 'w': 2, 'widths': (2, 5, 10, 20)}, {'coeff': 12, 'w': 2, 'widths': (2, 5, 10, 20)}, {'coeff': 13, 'w': 2, 'widths': (2, 5, 10, 20)}, {'coeff': 14, 'w': 2, 'widths': (2, 5, 10, 20)}, {'coeff': 8, 'w': 2, 'widths': (2, 5, 10, 20)}, {'coeff': 7, 'w': 2, 'widths': (2, 5, 10, 20)}, {'coeff': 6, 'w': 2, 'widths': (2, 5, 10, 20)}, {'coeff': 5, 'w': 2, 'widths': (2, 5, 10, 20)}, {'coeff': 13, 'w': 5, 'widths': (2, 5, 10, 20)}, {'coeff': 12, 'w': 5, 'widths': (2, 5, 10, 20)}, {'coeff': 14, 'w': 5, 'widths': (2, 5, 10, 20)}, {'coeff': 11, 'w': 5, 'widths': (2, 5, 10, 20)}, {'coeff': 4, 'w': 2, 'widths': (2, 5, 10, 20)}, {'coeff': 10, 'w': 5, 'widths': (2, 5, 10, 20)}, {'coeff': 9, 'w': 5, 'widths': (2, 5, 10, 20)}, {'coeff': 13, 'w': 10, 'widths': (2, 5, 10, 20)}, {'coeff': 12, 'w': 10, 'widths': (2, 5, 10, 20)}, {'coeff': 14, 'w': 10, 'widths': (2, 5, 10, 20)}, {'coeff': 8, 'w': 5, 'widths': (2, 5, 10, 20)}, {'coeff': 11, 'w': 10, 'widths': (2, 5, 10, 20)}, {'coeff': 7, 'w': 20, 'widths': (2, 5, 10, 20)}, {'coeff': 7, 'w': 5, 'widths': (2, 5, 10, 20)}, {'coeff': 9, 'w': 20, 'widths': (2, 5, 10, 20)}, {'coeff': 10, 'w': 10, 'widths': (2, 5, 10, 20)}, {'coeff': 8, 'w': 20, 'widths': (2, 5, 10, 20)}, {'coeff': 9, 'w': 10, 'widths': (2, 5, 10, 20)}, {'coeff': 6, 'w': 20, 'widths': (2, 5, 10, 20)}, {'coeff': 12, 'w': 20, 'widths': (2, 5, 10, 20)}, {'coeff': 10, 'w': 20, 'widths': (2, 5, 10, 20)}, {'coeff': 13, 'w': 20, 'widths': (2, 5, 10, 20)}, {'coeff': 11, 'w': 20, 'widths': (2, 5, 10, 20)}, {'coeff': 14, 'w': 20, 'widths': (2, 5, 10, 20)}], 'change_quantiles': [{'f_agg': 'var', 'isabs': True, 'qh': 0.4, 'ql': 0.2}, {'f_agg': 'var', 'isabs': True, 'qh': 0.6, 'ql': 0.4}, {'f_agg': 'var', 'isabs': True, 'qh': 0.8, 'ql': 0.6}, {'f_agg': 'var', 'isabs': False, 'qh': 0.4, 'ql': 0.2}, {'f_agg': 'var', 'isabs': False, 'qh': 0.8, 'ql': 0.0}, {'f_agg': 'var', 'isabs': False, 'qh': 1.0, 'ql': 0.2}, {'f_agg': 'var', 'isabs': False, 'qh': 1.0, 'ql': 0.0}, {'f_agg': 'var', 'isabs': False, 'qh': 0.6, 'ql': 0.0}, {'f_agg': 'var', 'isabs': False, 'qh': 1.0, 'ql': 0.4}, {'f_agg': 'var', 'isabs': False, 'qh': 1.0, 'ql': 0.6}, {'f_agg': 'var', 'isabs': False, 'qh': 1.0, 'ql': 0.8}, {'f_agg': 'var', 'isabs': False, 'qh': 0.8, 'ql': 0.6}, {'f_agg': 'var', 'isabs': False, 'qh': 0.6, 'ql': 0.4}, {'f_agg': 'var', 'isabs': False, 'qh': 0.4, 'ql': 0.0}, {'f_agg': 'var', 'isabs': True, 'qh': 1.0, 'ql': 0.8}, {'f_agg': 'var', 'isabs': False, 'qh': 0.2, 'ql': 0.0}, {'f_agg': 'var', 'isabs': False, 'qh': 0.8, 'ql': 0.2}, {'f_agg': 'var', 'isabs': False, 'qh': 0.6, 'ql': 0.2}, {'f_agg': 'var', 'isabs': True, 'qh': 0.2, 'ql': 0.0}, {'f_agg': 'var', 'isabs': True, 'qh': 0.6, 'ql': 0.2}, {'f_agg': 'var', 'isabs': False, 'qh': 0.8, 'ql': 0.4}, {'f_agg': 'var', 'isabs': True, 'qh': 0.6, 'ql': 0.0}, {'f_agg': 'var', 'isabs': True, 'qh': 0.8, 'ql': 0.0}, {'f_agg': 'var', 'isabs': True, 'qh': 0.4, 'ql': 0.0}, {'f_agg': 'var', 'isabs': True, 'qh': 1.0, 'ql': 0.6}, {'f_agg': 'var', 'isabs': True, 'qh': 0.8, 'ql': 0.4}, {'f_agg': 'var', 'isabs': True, 'qh': 0.8, 'ql': 0.2}, {'f_agg': 'var', 'isabs': True, 'qh': 1.0, 'ql': 0.2}, {'f_agg': 'var', 'isabs': True, 'qh': 1.0, 'ql': 0.4}, {'f_agg': 'var', 'isabs': True, 'qh': 1.0, 'ql': 0.0}, {'f_agg': 'mean', 'isabs': True, 'qh': 1.0, 'ql': 0.0}, {'f_agg': 'mean', 'isabs': True, 'qh': 0.8, 'ql': 0.0}, {'f_agg': 'mean', 'isabs': True, 'qh': 1.0, 'ql': 0.2}, {'f_agg': 'mean', 'isabs': True, 'qh': 0.6, 'ql': 0.0}, {'f_agg': 'mean', 'isabs': True, 'qh': 0.8, 'ql': 0.2}, {'f_agg': 'mean', 'isabs': True, 'qh': 1.0, 'ql': 0.4}, {'f_agg': 'mean', 'isabs': True, 'qh': 0.6, 'ql': 0.2}, {'f_agg': 'mean', 'isabs': True, 'qh': 0.8, 'ql': 0.4}, {'f_agg': 'mean', 'isabs': True, 'qh': 0.4, 'ql': 0.0}, {'f_agg': 'mean', 'isabs': True, 'qh': 1.0, 'ql': 0.6}, {'f_agg': 'mean', 'isabs': True, 'qh': 0.4, 'ql': 0.2}], 'agg_linear_trend': [{'attr': 'stderr', 'chunk_len': 5, 'f_agg': 'var'}, {'attr': 'stderr', 'chunk_len': 5, 'f_agg': 'max'}, {'attr': 'stderr', 'chunk_len': 5, 'f_agg': 'min'}, {'attr': 'stderr', 'chunk_len': 10, 'f_agg': 'max'}, {'attr': 'stderr', 'chunk_len': 10, 'f_agg': 'mean'}, {'attr': 'stderr', 'chunk_len': 10, 'f_agg': 'min'}, {'attr': 'stderr', 'chunk_len': 5, 'f_agg': 'mean'}, {'attr': 'stderr', 'chunk_len': 10, 'f_agg': 'var'}, {'attr': 'intercept', 'chunk_len': 50, 'f_agg': 'mean'}, {'attr': 'intercept', 'chunk_len': 50, 'f_agg': 'min'}, {'attr': 'intercept', 'chunk_len': 10, 'f_agg': 'min'}, {'attr': 'intercept', 'chunk_len': 10, 'f_agg': 'mean'}, {'attr': 'intercept', 'chunk_len': 5, 'f_agg': 'min'}, {'attr': 'intercept', 'chunk_len': 5, 'f_agg': 'mean'}, {'attr': 'intercept', 'chunk_len': 5, 'f_agg': 'max'}], 'linear_trend': [{'attr': 'stderr'}, {'attr': 'intercept'}], 'variation_coefficient': None, 'max_langevin_fixed_point': [{'m': 3, 'r': 30}], 'cid_ce': [{'normalize': False}], 'number_peaks': [{'n': 3}], 'spkt_welch_density': [{'coeff': 2}, {'coeff': 8}, {'coeff': 5}], 'mean_abs_change': None, 'absolute_sum_of_changes': None, 'approximate_entropy': [{'m': 2, 'r': 0.5}, {'m': 2, 'r': 0.7}, {'m': 2, 'r': 0.3}, {'m': 2, 'r': 0.9}, {'m': 2, 'r': 0.1}], 'fft_aggregated': [{'aggtype': 'skew'}, {'aggtype': 'kurtosis'}, {'aggtype': 'centroid'}, {'aggtype': 'variance'}], 'partial_autocorrelation': [{'lag': 4}], 'minimum': None, 'c3': [{'lag': 1}, {'lag': 2}, {'lag': 3}], 'abs_energy': None, 'root_mean_square': None, 'quantile': [{'q': 0.1}, {'q': 0.2}, {'q': 0.3}, {'q': 0.4}, {'q': 0.6}, {'q': 0.7}, {'q': 0.9}, {'q': 0.8}], 'fft_coefficient': [{'attr': 'real', 'coeff': 0}, {'attr': 'abs', 'coeff': 0}], 'mean': None, 'sum_values': None, 'median': None, 'permutation_entropy': [{'dimension': 5, 'tau': 1}], 'mean_n_absolute_max': [{'number_of_maxima': 7}], 'maximum': None, 'absolute_maximum': None}, 'acceleration': {'agg_linear_trend': [{'attr': 'stderr', 'chunk_len': 5, 'f_agg': 'var'}, {'attr': 'stderr', 'chunk_len': 10, 'f_agg': 'var'}, {'attr': 'stderr', 'chunk_len': 10, 'f_agg': 'mean'}, {'attr': 'stderr', 'chunk_len': 5, 'f_agg': 'min'}, {'attr': 'stderr', 'chunk_len': 5, 'f_agg': 'mean'}, {'attr': 'stderr', 'chunk_len': 5, 'f_agg': 'max'}, {'attr': 'stderr', 'chunk_len': 10, 'f_agg': 'min'}, {'attr': 'stderr', 'chunk_len': 10, 'f_agg': 'max'}, {'attr': 'intercept', 'chunk_len': 50, 'f_agg': 'var'}, {'attr': 'intercept', 'chunk_len': 50, 'f_agg': 'min'}], 'cid_ce': [{'normalize': False}], 'change_quantiles': [{'f_agg': 'var', 'isabs': True, 'qh': 1.0, 'ql': 0.0}, {'f_agg': 'var', 'isabs': False, 'qh': 1.0, 'ql': 0.0}, {'f_agg': 'var', 'isabs': True, 'qh': 0.8, 'ql': 0.0}, {'f_agg': 'var', 'isabs': False, 'qh': 0.8, 'ql': 0.0}, {'f_agg': 'var', 'isabs': False, 'qh': 0.6, 'ql': 0.0}, {'f_agg': 'var', 'isabs': True, 'qh': 0.6, 'ql': 0.0}, {'f_agg': 'mean', 'isabs': True, 'qh': 1.0, 'ql': 0.0}, {'f_agg': 'var', 'isabs': True, 'qh': 1.0, 'ql': 0.2}, {'f_agg': 'mean', 'isabs': True, 'qh': 0.8, 'ql': 0.0}, {'f_agg': 'var', 'isabs': False, 'qh': 0.4, 'ql': 0.0}, {'f_agg': 'var', 'isabs': False, 'qh': 1.0, 'ql': 0.2}, {'f_agg': 'var', 'isabs': True, 'qh': 0.4, 'ql': 0.0}, {'f_agg': 'mean', 'isabs': True, 'qh': 0.6, 'ql': 0.0}, {'f_agg': 'var', 'isabs': False, 'qh': 0.2, 'ql': 0.0}, {'f_agg': 'var', 'isabs': True, 'qh': 0.8, 'ql': 0.2}, {'f_agg': 'var', 'isabs': True, 'qh': 0.2, 'ql': 0.0}, {'f_agg': 'mean', 'isabs': True, 'qh': 1.0, 'ql': 0.2}, {'f_agg': 'var', 'isabs': True, 'qh': 1.0, 'ql': 0.4}, {'f_agg': 'var', 'isabs': False, 'qh': 0.8, 'ql': 0.2}, {'f_agg': 'mean', 'isabs': True, 'qh': 0.4, 'ql': 0.0}, {'f_agg': 'mean', 'isabs': True, 'qh': 0.8, 'ql': 0.2}, {'f_agg': 'var', 'isabs': False, 'qh': 1.0, 'ql': 0.4}, {'f_agg': 'var', 'isabs': True, 'qh': 0.6, 'ql': 0.2}, {'f_agg': 'var', 'isabs': True, 'qh': 0.8, 'ql': 0.4}, {'f_agg': 'mean', 'isabs': True, 'qh': 0.2, 'ql': 0.0}, {'f_agg': 'mean', 'isabs': True, 'qh': 1.0, 'ql': 0.4}, {'f_agg': 'var', 'isabs': False, 'qh': 0.6, 'ql': 0.2}, {'f_agg': 'mean', 'isabs': True, 'qh': 0.6, 'ql': 0.2}, {'f_agg': 'mean', 'isabs': True, 'qh': 0.8, 'ql': 0.4}, {'f_agg': 'var', 'isabs': False, 'qh': 0.8, 'ql': 0.4}, {'f_agg': 'var', 'isabs': True, 'qh': 0.4, 'ql': 0.2}, {'f_agg': 'var', 'isabs': False, 'qh': 1.0, 'ql': 0.6}, {'f_agg': 'var', 'isabs': True, 'qh': 1.0, 'ql': 0.6}, {'f_agg': 'var', 'isabs': True, 'qh': 0.8, 'ql': 0.6}, {'f_agg': 'var', 'isabs': True, 'qh': 0.6, 'ql': 0.4}, {'f_agg': 'mean', 'isabs': True, 'qh': 1.0, 'ql': 0.6}, {'f_agg': 'mean', 'isabs': True, 'qh': 0.6, 'ql': 0.4}, {'f_agg': 'var', 'isabs': False, 'qh': 0.4, 'ql': 0.2}, {'f_agg': 'var', 'isabs': False, 'qh': 0.6, 'ql': 0.4}, {'f_agg': 'mean', 'isabs': True, 'qh': 0.4, 'ql': 0.2}, {'f_agg': 'mean', 'isabs': True, 'qh': 0.8, 'ql': 0.6}, {'f_agg': 'var', 'isabs': False, 'qh': 0.8, 'ql': 0.6}, {'f_agg': 'var', 'isabs': False, 'qh': 1.0, 'ql': 0.8}, {'f_agg': 'var', 'isabs': True, 'qh': 1.0, 'ql': 0.8}, {'f_agg': 'mean', 'isabs': True, 'qh': 1.0, 'ql': 0.8}], 'absolute_sum_of_changes': None, 'mean_abs_change': None, 'number_peaks': [{'n': 3}], 'linear_trend': [{'attr': 'stderr'}], 'variance': None, 'standard_deviation': None, 'minimum': None, 'quantile': [{'q': 0.1}, {'q': 0.2}], 'spkt_welch_density': [{'coeff': 5}, {'coeff': 2}, {'coeff': 8}], 'fft_coefficient': [{'attr': 'abs', 'coeff': 1}, {'attr': 'abs', 'coeff': 3}, {'attr': 'abs', 'coeff': 2}, {'attr': 'abs', 'coeff': 4}, {'attr': 'abs', 'coeff': 8}, {'attr': 'abs', 'coeff': 7}, {'attr': 'abs', 'coeff': 9}, {'attr': 'abs', 'coeff': 10}, {'attr': 'abs', 'coeff': 6}, {'attr': 'abs', 'coeff': 32}, {'attr': 'abs', 'coeff': 11}, {'attr': 'abs', 'coeff': 5}, {'attr': 'abs', 'coeff': 16}, {'attr': 'abs', 'coeff': 37}, {'attr': 'abs', 'coeff': 38}, {'attr': 'abs', 'coeff': 33}, {'attr': 'abs', 'coeff': 13}, {'attr': 'abs', 'coeff': 15}, {'attr': 'abs', 'coeff': 27}, {'attr': 'abs', 'coeff': 34}, {'attr': 'abs', 'coeff': 39}, {'attr': 'abs', 'coeff': 43}, {'attr': 'abs', 'coeff': 22}, {'attr': 'abs', 'coeff': 42}, {'attr': 'abs', 'coeff': 29}, {'attr': 'abs', 'coeff': 36}, {'attr': 'abs', 'coeff': 21}, {'attr': 'abs', 'coeff': 31}, {'attr': 'abs', 'coeff': 41}, {'attr': 'abs', 'coeff': 40}, {'attr': 'abs', 'coeff': 28}, {'attr': 'abs', 'coeff': 48}, {'attr': 'abs', 'coeff': 46}, {'attr': 'abs', 'coeff': 14}, {'attr': 'abs', 'coeff': 12}, {'attr': 'abs', 'coeff': 35}, {'attr': 'abs', 'coeff': 45}, {'attr': 'abs', 'coeff': 44}, {'attr': 'abs', 'coeff': 47}, {'attr': 'abs', 'coeff': 17}, {'attr': 'abs', 'coeff': 24}, {'attr': 'abs', 'coeff': 23}, {'attr': 'abs', 'coeff': 30}, {'attr': 'abs', 'coeff': 26}, {'attr': 'abs', 'coeff': 49}, {'attr': 'abs', 'coeff': 18}, {'attr': 'abs', 'coeff': 50}, {'attr': 'abs', 'coeff': 20}, {'attr': 'abs', 'coeff': 25}, {'attr': 'abs', 'coeff': 19}], 'absolute_maximum': None, 'number_crossing_m': [{'m': -1}], 'mean_n_absolute_max': [{'number_of_maxima': 7}], 'root_mean_square': None, 'abs_energy': None, 'range_count': [{'max': 1, 'min': -1}]}}\n",
      "y (381067, 6) (381067,) (381067, 100, 8)\n",
      "(38106700, 8)\n",
      "(38106700, 10)\n",
      "30000\n",
      "30000\n",
      "(30000, 6)\n"
     ]
    },
    {
     "name": "stderr",
     "output_type": "stream",
     "text": [
      "Feature Extraction: 100%|██████████| 80/80 [03:14<00:00,  2.44s/it]\n"
     ]
    },
    {
     "name": "stdout",
     "output_type": "stream",
     "text": [
      "extracted shape (30000, 500)\n",
      "60000\n",
      "30000\n",
      "(30000, 6)\n"
     ]
    },
    {
     "name": "stderr",
     "output_type": "stream",
     "text": [
      "Feature Extraction: 100%|██████████| 80/80 [03:14<00:00,  2.44s/it]\n"
     ]
    },
    {
     "name": "stdout",
     "output_type": "stream",
     "text": [
      "extracted shape (30000, 500)\n",
      "90000\n",
      "30000\n",
      "(30000, 6)\n"
     ]
    },
    {
     "name": "stderr",
     "output_type": "stream",
     "text": [
      "Feature Extraction: 100%|██████████| 80/80 [03:16<00:00,  2.45s/it]\n"
     ]
    },
    {
     "name": "stdout",
     "output_type": "stream",
     "text": [
      "extracted shape (30000, 500)\n",
      "120000\n",
      "30000\n",
      "(30000, 6)\n"
     ]
    },
    {
     "name": "stderr",
     "output_type": "stream",
     "text": [
      "Feature Extraction: 100%|██████████| 80/80 [03:14<00:00,  2.44s/it]\n"
     ]
    },
    {
     "name": "stdout",
     "output_type": "stream",
     "text": [
      "extracted shape (30000, 500)\n",
      "150000\n",
      "30000\n",
      "(30000, 6)\n"
     ]
    },
    {
     "name": "stderr",
     "output_type": "stream",
     "text": [
      "Feature Extraction: 100%|██████████| 80/80 [03:15<00:00,  2.45s/it]\n"
     ]
    },
    {
     "name": "stdout",
     "output_type": "stream",
     "text": [
      "extracted shape (30000, 500)\n",
      "180000\n",
      "30000\n",
      "(30000, 6)\n"
     ]
    },
    {
     "name": "stderr",
     "output_type": "stream",
     "text": [
      "Feature Extraction: 100%|██████████| 80/80 [03:17<00:00,  2.46s/it]\n"
     ]
    },
    {
     "name": "stdout",
     "output_type": "stream",
     "text": [
      "extracted shape (30000, 500)\n",
      "210000\n",
      "30000\n",
      "(30000, 6)\n"
     ]
    },
    {
     "name": "stderr",
     "output_type": "stream",
     "text": [
      "Feature Extraction: 100%|██████████| 80/80 [03:18<00:00,  2.48s/it]\n"
     ]
    },
    {
     "name": "stdout",
     "output_type": "stream",
     "text": [
      "extracted shape (30000, 500)\n",
      "240000\n",
      "30000\n",
      "(30000, 6)\n"
     ]
    },
    {
     "name": "stderr",
     "output_type": "stream",
     "text": [
      "Feature Extraction: 100%|██████████| 80/80 [03:16<00:00,  2.45s/it]\n"
     ]
    },
    {
     "name": "stdout",
     "output_type": "stream",
     "text": [
      "extracted shape (30000, 500)\n",
      "270000\n",
      "30000\n",
      "(30000, 6)\n"
     ]
    },
    {
     "name": "stderr",
     "output_type": "stream",
     "text": [
      "Feature Extraction: 100%|██████████| 80/80 [03:13<00:00,  2.41s/it]\n"
     ]
    },
    {
     "name": "stdout",
     "output_type": "stream",
     "text": [
      "extracted shape (30000, 500)\n",
      "300000\n",
      "30000\n",
      "(30000, 6)\n"
     ]
    },
    {
     "name": "stderr",
     "output_type": "stream",
     "text": [
      "Feature Extraction: 100%|██████████| 80/80 [03:15<00:00,  2.45s/it]\n"
     ]
    },
    {
     "name": "stdout",
     "output_type": "stream",
     "text": [
      "extracted shape (30000, 500)\n",
      "330000\n",
      "30000\n",
      "(30000, 6)\n"
     ]
    },
    {
     "name": "stderr",
     "output_type": "stream",
     "text": [
      "Feature Extraction: 100%|██████████| 80/80 [03:15<00:00,  2.45s/it]\n"
     ]
    },
    {
     "name": "stdout",
     "output_type": "stream",
     "text": [
      "extracted shape (30000, 500)\n",
      "360000\n",
      "30000\n",
      "(30000, 6)\n"
     ]
    },
    {
     "name": "stderr",
     "output_type": "stream",
     "text": [
      "Feature Extraction: 100%|██████████| 80/80 [03:18<00:00,  2.48s/it]\n"
     ]
    },
    {
     "name": "stdout",
     "output_type": "stream",
     "text": [
      "extracted shape (30000, 500)\n",
      "390000\n",
      "21067\n",
      "(21067, 6)\n"
     ]
    },
    {
     "name": "stderr",
     "output_type": "stream",
     "text": [
      "Feature Extraction: 100%|██████████| 80/80 [02:17<00:00,  1.72s/it]\n"
     ]
    },
    {
     "name": "stdout",
     "output_type": "stream",
     "text": [
      "extracted shape (21067, 500)\n"
     ]
    }
   ],
   "source": [
    "for label_title in labels:\n",
    "    # load our data shape (sample_id, timestamp, time series)\n",
    "    data_file = basedir + f'/{label_title}/chunk_1.npy'\n",
    "    data = np.load(data_file)\n",
    "    print('x', data.shape)\n",
    "\n",
    "    label_file = basedir + f'/{label_title}/train_label_{label_title}.csv'\n",
    "    label = pd.read_csv(label_file)\n",
    "\n",
    "    pos = label[(label.label == 1) & (label.type == 0)]\n",
    "    pos_1 = label[(label.label == 1) & (label.type == 1)].sample(n=len(pos)*2, replace=False, random_state=123)\n",
    "    neg = label[label.label == 0].sample(n=len(pos)*3, replace=False, random_state=123)\n",
    "    label_ = pd.concat((pos, neg)).reset_index().label\n",
    "    data_ = data[label_.index]\n",
    "\n",
    "    print('y', label.shape, label_.shape, data_.shape)\n",
    "\n",
    "    # Create a list of column names for the DataFrame\n",
    "    column_names = ['id', 'timestamp'] + features[str(label_title)]\n",
    "\n",
    "    # Reshape the numpy array to have 2 dimensions\n",
    "    reshaped_array = data_.reshape(-1, data_.shape[2])\n",
    "\n",
    "    # Create a pandas DataFrame\n",
    "    my_df = pd.DataFrame(reshaped_array, columns=column_names[2:])\n",
    "    print(my_df.shape)\n",
    "\n",
    "    # Assign sample ids and timestamps to the DataFrame\n",
    "    num_samples = data_.shape[0]\n",
    "    num_timestamps = data_.shape[1]\n",
    "    my_df['id'] = np.repeat(np.arange(num_samples), num_timestamps)\n",
    "    my_df['timestamp'] = np.tile(np.arange(num_timestamps), num_samples)\n",
    "    # my_df = my_df[column_names]\n",
    "\n",
    "    # Print the resulting DataFrame\n",
    "    Distributor = MultiprocessingDistributor(n_workers=4,\n",
    "                                            disable_progressbar=False,\n",
    "                                            progressbar_title=\"Feature Extraction\")\n",
    "    \n",
    "              \n",
    "    print('Extracting feature only...', len(my_df))\n",
    "    # extract all possible features\n",
    "    temp = extract_features(my_df, \n",
    "                            column_id='id', \n",
    "                            column_sort='timestamp', \n",
    "                            column_kind=None, \n",
    "                            column_value=None, \n",
    "                            impute_function=impute)    \n",
    "    \n",
    "    # calculate independent p-value for relevance\n",
    "    relevance_table = calculate_relevance_table(temp, label_, fdr_level=0.5)\n",
    "\n",
    "    # filter relevant features (True if the Benjamini Hochberg procedure rejected the null hypothesis [the feature is not relevant])\n",
    "    relevance_table = relevance_table[relevance_table['relevant'] == True]\n",
    "\n",
    "    # Among relevant features, sort out top window_length0 with smallest p-values\n",
    "    sorted_relevance_table = relevance_table.sort_values(by='p_value', ascending=True) \n",
    "    top_extracted_features = sorted_relevance_table.head(500)\n",
    "    temp = temp[top_extracted_features.feature]\n",
    "\n",
    "    # save the features setting\n",
    "    kind_to_fc_parameters = tsfresh.feature_extraction.settings.from_columns(temp)\n",
    "    with open(basedir + f'/{label_title}/feature_config.json', 'w') as file:\n",
    "        json.dump(kind_to_fc_parameters, file, indent=4)\n",
    "    print(kind_to_fc_parameters)\n",
    "    \n",
    "    ###########################################\n",
    "    # extract features using the saved features\n",
    "    label_ = label.label\n",
    "    data_ = data\n",
    "\n",
    "    print('y', label.shape, label_.shape, data_.shape)\n",
    "\n",
    "    # Create a list of column names for the DataFrame\n",
    "    column_names = ['id', 'timestamp'] + features[str(label_title)]\n",
    "\n",
    "    # Reshape the numpy array to have 2 dimensions\n",
    "    reshaped_array = data_.reshape(-1, data_.shape[2])\n",
    "\n",
    "    # Create a pandas DataFrame\n",
    "    my_df = pd.DataFrame(reshaped_array, columns=column_names[2:])\n",
    "    print(my_df.shape)\n",
    "\n",
    "    # Assign sample ids and timestamps to the DataFrame\n",
    "    num_samples = data_.shape[0]\n",
    "    num_timestamps = data_.shape[1]\n",
    "    my_df['id'] = np.repeat(np.arange(num_samples), num_timestamps)\n",
    "    my_df['timestamp'] = np.tile(np.arange(num_timestamps), num_samples)\n",
    "    # my_df = my_df[column_names]\n",
    "\n",
    "    # Print the resulting DataFrame\n",
    "    print(my_df.shape)\n",
    "    # print(my_df.head(4))\n",
    "\n",
    "    step = 30_000\n",
    "    df_features = []\n",
    "    i = 0\n",
    "    for n in range(step, len(label)+step, step):\n",
    "        print(n)\n",
    "        print(my_df[(n-step)*window_length:n*window_length].id.nunique())\n",
    "        print(label[n-step:n].shape)\n",
    "        temp = extract_features(my_df[(n-step)*window_length:n*window_length], \n",
    "                                kind_to_fc_parameters=kind_to_fc_parameters, \n",
    "                                column_id='id', \n",
    "                                column_sort='timestamp', \n",
    "                                column_kind=None, \n",
    "                                column_value=None, \n",
    "                                impute_function=impute)\n",
    "        temp.to_csv(basedir + f'/{label_title}/extract_features_{label_title}_{i}.csv')\n",
    "        print('extracted shape', temp.shape)\n",
    "        i += 1"
   ]
  }
 ],
 "metadata": {
  "kernelspec": {
   "display_name": "tsfresh",
   "language": "python",
   "name": "python3"
  },
  "language_info": {
   "codemirror_mode": {
    "name": "ipython",
    "version": 3
   },
   "file_extension": ".py",
   "mimetype": "text/x-python",
   "name": "python",
   "nbconvert_exporter": "python",
   "pygments_lexer": "ipython3",
   "version": "3.11.7"
  }
 },
 "nbformat": 4,
 "nbformat_minor": 2
}
