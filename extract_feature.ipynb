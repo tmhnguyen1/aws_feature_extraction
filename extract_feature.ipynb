{
 "cells": [
  {
   "cell_type": "code",
   "execution_count": 2,
   "metadata": {},
   "outputs": [
    {
     "name": "stdout",
     "output_type": "stream",
     "text": [
      "{'5': ['z_gyro_clean', 'y_gyro_clean', 'x_gyro_clean', 'x_acc_clean', 'y_acc_clean', 'z_acc_clean', 'acceleration', 'speed_kmh'], '6': ['z_gyro_clean', 'y_gyro_clean', 'x_gyro_clean', 'x_acc_clean', 'y_acc_clean', 'z_acc_clean', 'acceleration', 'speed_kmh'], '7': ['z_gyro_clean', 'y_gyro_clean', 'x_gyro_clean', 'x_acc_clean', 'y_acc_clean', 'z_acc_clean', 'acceleration', 'speed_kmh']}\n"
     ]
    }
   ],
   "source": [
    "import os, re\n",
    "\n",
    "import numpy as np\n",
    "import pandas as pd\n",
    "import json\n",
    "\n",
    "import tsfresh\n",
    "from tsfresh import extract_features\n",
    "from tsfresh.feature_selection.relevance import calculate_relevance_table\n",
    "from tsfresh.utilities.dataframe_functions import impute\n",
    "from tsfresh.utilities.distribution import MultiprocessingDistributor\n",
    "\n",
    "np.random.seed(123)\n",
    "\n",
    "labels = [5, 6, 7]\n",
    "basedir = 'C:/Users/tmhnguyen/Documents/lalamove/lalamove/data/Clean_extracted_240221_cal_combined/train'\n",
    "with open(basedir + '/../data_split_params.json', 'r') as file:\n",
    "    features = json.load(file)['FEATURES']\n",
    "print(features)\n",
    "WINDOW = 5 # seconds\n",
    "SAMPLING_RATE = 20 # hz\n",
    "window_length = WINDOW * SAMPLING_RATE"
   ]
  },
  {
   "cell_type": "code",
   "execution_count": 2,
   "metadata": {},
   "outputs": [
    {
     "name": "stdout",
     "output_type": "stream",
     "text": [
      "data files ['chunk_1.npy', 'chunk_2.npy', 'chunk_3.npy', 'chunk_4.npy']\n",
      "chunk id 1\n",
      "x (102400, 100, 8)\n",
      "chunk id 2\n",
      "x (102400, 100, 8)\n",
      "chunk id 3\n",
      "x (102400, 100, 8)\n",
      "chunk id 4\n",
      "x (90468, 100, 8)\n",
      "y (15897,) (15897, 100, 8)\n",
      "(1589700, 8)\n",
      "Extracting feature only... 1589700\n"
     ]
    },
    {
     "name": "stderr",
     "output_type": "stream",
     "text": [
      "Feature Extraction: 100%|██████████| 60/60 [09:39<00:00,  9.66s/it]  \n"
     ]
    },
    {
     "name": "stdout",
     "output_type": "stream",
     "text": [
      "{'speed_kmh': {'agg_linear_trend': [{'attr': 'intercept', 'chunk_len': 10, 'f_agg': 'mean'}, {'attr': 'intercept', 'chunk_len': 10, 'f_agg': 'min'}, {'attr': 'intercept', 'chunk_len': 5, 'f_agg': 'min'}, {'attr': 'intercept', 'chunk_len': 50, 'f_agg': 'max'}, {'attr': 'intercept', 'chunk_len': 5, 'f_agg': 'max'}, {'attr': 'intercept', 'chunk_len': 50, 'f_agg': 'mean'}, {'attr': 'intercept', 'chunk_len': 10, 'f_agg': 'max'}, {'attr': 'intercept', 'chunk_len': 5, 'f_agg': 'mean'}, {'attr': 'intercept', 'chunk_len': 50, 'f_agg': 'min'}, {'attr': 'stderr', 'chunk_len': 10, 'f_agg': 'max'}, {'attr': 'stderr', 'chunk_len': 10, 'f_agg': 'mean'}, {'attr': 'stderr', 'chunk_len': 10, 'f_agg': 'min'}, {'attr': 'stderr', 'chunk_len': 5, 'f_agg': 'mean'}, {'attr': 'stderr', 'chunk_len': 5, 'f_agg': 'max'}, {'attr': 'stderr', 'chunk_len': 5, 'f_agg': 'min'}, {'attr': 'stderr', 'chunk_len': 5, 'f_agg': 'var'}, {'attr': 'stderr', 'chunk_len': 10, 'f_agg': 'var'}, {'attr': 'intercept', 'chunk_len': 50, 'f_agg': 'var'}], 'cwt_coefficients': [{'coeff': 2, 'w': 20, 'widths': (2, 5, 10, 20)}, {'coeff': 2, 'w': 10, 'widths': (2, 5, 10, 20)}, {'coeff': 2, 'w': 5, 'widths': (2, 5, 10, 20)}, {'coeff': 2, 'w': 2, 'widths': (2, 5, 10, 20)}, {'coeff': 1, 'w': 20, 'widths': (2, 5, 10, 20)}, {'coeff': 1, 'w': 10, 'widths': (2, 5, 10, 20)}, {'coeff': 1, 'w': 5, 'widths': (2, 5, 10, 20)}, {'coeff': 1, 'w': 2, 'widths': (2, 5, 10, 20)}, {'coeff': 0, 'w': 20, 'widths': (2, 5, 10, 20)}, {'coeff': 3, 'w': 2, 'widths': (2, 5, 10, 20)}, {'coeff': 11, 'w': 5, 'widths': (2, 5, 10, 20)}, {'coeff': 11, 'w': 10, 'widths': (2, 5, 10, 20)}, {'coeff': 14, 'w': 5, 'widths': (2, 5, 10, 20)}, {'coeff': 11, 'w': 20, 'widths': (2, 5, 10, 20)}, {'coeff': 14, 'w': 20, 'widths': (2, 5, 10, 20)}, {'coeff': 12, 'w': 5, 'widths': (2, 5, 10, 20)}, {'coeff': 12, 'w': 10, 'widths': (2, 5, 10, 20)}, {'coeff': 12, 'w': 20, 'widths': (2, 5, 10, 20)}, {'coeff': 13, 'w': 5, 'widths': (2, 5, 10, 20)}, {'coeff': 13, 'w': 10, 'widths': (2, 5, 10, 20)}, {'coeff': 13, 'w': 20, 'widths': (2, 5, 10, 20)}, {'coeff': 14, 'w': 10, 'widths': (2, 5, 10, 20)}, {'coeff': 7, 'w': 20, 'widths': (2, 5, 10, 20)}, {'coeff': 7, 'w': 10, 'widths': (2, 5, 10, 20)}, {'coeff': 7, 'w': 2, 'widths': (2, 5, 10, 20)}, {'coeff': 4, 'w': 2, 'widths': (2, 5, 10, 20)}, {'coeff': 6, 'w': 20, 'widths': (2, 5, 10, 20)}, {'coeff': 6, 'w': 5, 'widths': (2, 5, 10, 20)}, {'coeff': 6, 'w': 2, 'widths': (2, 5, 10, 20)}, {'coeff': 5, 'w': 20, 'widths': (2, 5, 10, 20)}, {'coeff': 5, 'w': 10, 'widths': (2, 5, 10, 20)}, {'coeff': 5, 'w': 5, 'widths': (2, 5, 10, 20)}, {'coeff': 5, 'w': 2, 'widths': (2, 5, 10, 20)}, {'coeff': 4, 'w': 20, 'widths': (2, 5, 10, 20)}, {'coeff': 4, 'w': 10, 'widths': (2, 5, 10, 20)}, {'coeff': 4, 'w': 5, 'widths': (2, 5, 10, 20)}, {'coeff': 8, 'w': 2, 'widths': (2, 5, 10, 20)}, {'coeff': 8, 'w': 5, 'widths': (2, 5, 10, 20)}, {'coeff': 6, 'w': 10, 'widths': (2, 5, 10, 20)}, {'coeff': 8, 'w': 20, 'widths': (2, 5, 10, 20)}, {'coeff': 8, 'w': 10, 'widths': (2, 5, 10, 20)}, {'coeff': 3, 'w': 5, 'widths': (2, 5, 10, 20)}, {'coeff': 3, 'w': 10, 'widths': (2, 5, 10, 20)}, {'coeff': 7, 'w': 5, 'widths': (2, 5, 10, 20)}, {'coeff': 10, 'w': 20, 'widths': (2, 5, 10, 20)}, {'coeff': 3, 'w': 20, 'widths': (2, 5, 10, 20)}, {'coeff': 10, 'w': 10, 'widths': (2, 5, 10, 20)}, {'coeff': 10, 'w': 5, 'widths': (2, 5, 10, 20)}, {'coeff': 9, 'w': 20, 'widths': (2, 5, 10, 20)}, {'coeff': 9, 'w': 10, 'widths': (2, 5, 10, 20)}, {'coeff': 9, 'w': 5, 'widths': (2, 5, 10, 20)}, {'coeff': 11, 'w': 2, 'widths': (2, 5, 10, 20)}, {'coeff': 9, 'w': 2, 'widths': (2, 5, 10, 20)}, {'coeff': 10, 'w': 2, 'widths': (2, 5, 10, 20)}, {'coeff': 12, 'w': 2, 'widths': (2, 5, 10, 20)}], 'max_langevin_fixed_point': [{'m': 3, 'r': 30}], 'quantile': [{'q': 0.9}, {'q': 0.8}, {'q': 0.7}, {'q': 0.6}, {'q': 0.4}, {'q': 0.3}, {'q': 0.1}, {'q': 0.2}], 'mean': None, 'fft_coefficient': [{'attr': 'real', 'coeff': 0}, {'attr': 'abs', 'coeff': 0}, {'attr': 'abs', 'coeff': 1}], 'mean_n_absolute_max': [{'number_of_maxima': 7}], 'sum_values': None, 'abs_energy': None, 'linear_trend': [{'attr': 'intercept'}, {'attr': 'stderr'}], 'median': None, 'c3': [{'lag': 2}, {'lag': 1}, {'lag': 3}], 'minimum': None, 'absolute_maximum': None, 'maximum': None, 'root_mean_square': None, 'benford_correlation': None, 'range_count': [{'max': 1, 'min': -1}], 'fft_aggregated': [{'aggtype': 'skew'}, {'aggtype': 'kurtosis'}], 'change_quantiles': [{'f_agg': 'var', 'isabs': False, 'qh': 0.8, 'ql': 0.4}, {'f_agg': 'var', 'isabs': False, 'qh': 0.6, 'ql': 0.2}, {'f_agg': 'var', 'isabs': False, 'qh': 0.8, 'ql': 0.2}, {'f_agg': 'var', 'isabs': False, 'qh': 1.0, 'ql': 0.6}, {'f_agg': 'var', 'isabs': False, 'qh': 1.0, 'ql': 0.4}, {'f_agg': 'var', 'isabs': False, 'qh': 0.4, 'ql': 0.0}, {'f_agg': 'var', 'isabs': False, 'qh': 0.6, 'ql': 0.0}, {'f_agg': 'var', 'isabs': False, 'qh': 1.0, 'ql': 0.2}, {'f_agg': 'var', 'isabs': False, 'qh': 0.8, 'ql': 0.0}, {'f_agg': 'var', 'isabs': False, 'qh': 1.0, 'ql': 0.0}, {'f_agg': 'var', 'isabs': True, 'qh': 1.0, 'ql': 0.6}, {'f_agg': 'mean', 'isabs': True, 'qh': 0.8, 'ql': 0.6}, {'f_agg': 'mean', 'isabs': True, 'qh': 0.8, 'ql': 0.4}, {'f_agg': 'var', 'isabs': False, 'qh': 0.8, 'ql': 0.6}, {'f_agg': 'var', 'isabs': False, 'qh': 0.4, 'ql': 0.2}, {'f_agg': 'var', 'isabs': False, 'qh': 0.6, 'ql': 0.4}, {'f_agg': 'mean', 'isabs': True, 'qh': 1.0, 'ql': 0.4}, {'f_agg': 'mean', 'isabs': True, 'qh': 1.0, 'ql': 0.6}, {'f_agg': 'mean', 'isabs': True, 'qh': 0.8, 'ql': 0.2}, {'f_agg': 'mean', 'isabs': True, 'qh': 0.6, 'ql': 0.4}, {'f_agg': 'var', 'isabs': True, 'qh': 0.6, 'ql': 0.2}, {'f_agg': 'var', 'isabs': True, 'qh': 0.8, 'ql': 0.4}, {'f_agg': 'mean', 'isabs': True, 'qh': 1.0, 'ql': 0.2}, {'f_agg': 'mean', 'isabs': True, 'qh': 0.6, 'ql': 0.2}, {'f_agg': 'var', 'isabs': True, 'qh': 1.0, 'ql': 0.4}, {'f_agg': 'var', 'isabs': True, 'qh': 0.8, 'ql': 0.2}, {'f_agg': 'mean', 'isabs': True, 'qh': 0.8, 'ql': 0.0}, {'f_agg': 'var', 'isabs': True, 'qh': 0.6, 'ql': 0.0}, {'f_agg': 'mean', 'isabs': True, 'qh': 1.0, 'ql': 0.0}, {'f_agg': 'mean', 'isabs': True, 'qh': 0.4, 'ql': 0.2}, {'f_agg': 'mean', 'isabs': True, 'qh': 0.6, 'ql': 0.0}, {'f_agg': 'var', 'isabs': True, 'qh': 1.0, 'ql': 0.2}, {'f_agg': 'var', 'isabs': True, 'qh': 0.4, 'ql': 0.0}, {'f_agg': 'var', 'isabs': True, 'qh': 0.8, 'ql': 0.6}, {'f_agg': 'var', 'isabs': False, 'qh': 0.2, 'ql': 0.0}, {'f_agg': 'var', 'isabs': True, 'qh': 0.8, 'ql': 0.0}, {'f_agg': 'mean', 'isabs': True, 'qh': 0.4, 'ql': 0.0}, {'f_agg': 'var', 'isabs': False, 'qh': 1.0, 'ql': 0.8}, {'f_agg': 'var', 'isabs': True, 'qh': 0.6, 'ql': 0.4}, {'f_agg': 'mean', 'isabs': True, 'qh': 1.0, 'ql': 0.8}, {'f_agg': 'var', 'isabs': True, 'qh': 1.0, 'ql': 0.0}, {'f_agg': 'var', 'isabs': True, 'qh': 0.4, 'ql': 0.2}], 'ar_coefficient': [{'coeff': 0, 'k': 10}], 'has_duplicate_min': None, 'spkt_welch_density': [{'coeff': 2}, {'coeff': 8}, {'coeff': 5}], 'symmetry_looking': [{'r': 0.30000000000000004}, {'r': 0.4}, {'r': 0.5}, {'r': 0.55}, {'r': 0.65}, {'r': 0.8500000000000001}, {'r': 0.9500000000000001}, {'r': 0.7000000000000001}, {'r': 0.75}, {'r': 0.6000000000000001}, {'r': 0.8}, {'r': 0.9}, {'r': 0.45}, {'r': 0.35000000000000003}, {'r': 0.25}, {'r': 0.2}], 'has_duplicate_max': None, 'has_duplicate': None, 'number_cwt_peaks': [{'n': 1}], 'absolute_sum_of_changes': None, 'mean_abs_change': None, 'cid_ce': [{'normalize': False}], 'variance': None, 'standard_deviation': None}, 'z_acc_clean': {'spkt_welch_density': [{'coeff': 5}, {'coeff': 8}, {'coeff': 2}], 'partial_autocorrelation': [{'lag': 3}], 'ar_coefficient': [{'coeff': 3, 'k': 10}], 'fft_coefficient': [{'attr': 'abs', 'coeff': 5}, {'attr': 'abs', 'coeff': 7}, {'attr': 'abs', 'coeff': 6}, {'attr': 'abs', 'coeff': 48}, {'attr': 'abs', 'coeff': 9}, {'attr': 'abs', 'coeff': 47}, {'attr': 'abs', 'coeff': 49}, {'attr': 'abs', 'coeff': 8}, {'attr': 'abs', 'coeff': 4}, {'attr': 'abs', 'coeff': 46}, {'attr': 'abs', 'coeff': 50}, {'attr': 'abs', 'coeff': 14}, {'attr': 'abs', 'coeff': 41}, {'attr': 'abs', 'coeff': 45}, {'attr': 'abs', 'coeff': 3}, {'attr': 'abs', 'coeff': 12}, {'attr': 'abs', 'coeff': 42}, {'attr': 'abs', 'coeff': 40}, {'attr': 'abs', 'coeff': 10}, {'attr': 'abs', 'coeff': 44}, {'attr': 'abs', 'coeff': 36}, {'attr': 'abs', 'coeff': 38}, {'attr': 'abs', 'coeff': 39}, {'attr': 'abs', 'coeff': 24}, {'attr': 'abs', 'coeff': 17}, {'attr': 'abs', 'coeff': 33}, {'attr': 'abs', 'coeff': 34}, {'attr': 'abs', 'coeff': 16}, {'attr': 'abs', 'coeff': 11}, {'attr': 'abs', 'coeff': 2}, {'attr': 'abs', 'coeff': 18}, {'attr': 'abs', 'coeff': 13}, {'attr': 'abs', 'coeff': 32}, {'attr': 'abs', 'coeff': 19}, {'attr': 'abs', 'coeff': 43}, {'attr': 'abs', 'coeff': 1}], 'change_quantiles': [{'f_agg': 'var', 'isabs': True, 'qh': 0.4, 'ql': 0.2}, {'f_agg': 'var', 'isabs': False, 'qh': 0.4, 'ql': 0.2}, {'f_agg': 'mean', 'isabs': True, 'qh': 0.4, 'ql': 0.2}, {'f_agg': 'var', 'isabs': False, 'qh': 0.6, 'ql': 0.4}, {'f_agg': 'mean', 'isabs': True, 'qh': 0.6, 'ql': 0.4}, {'f_agg': 'var', 'isabs': True, 'qh': 0.6, 'ql': 0.4}, {'f_agg': 'mean', 'isabs': True, 'qh': 0.2, 'ql': 0.0}, {'f_agg': 'mean', 'isabs': True, 'qh': 0.6, 'ql': 0.2}, {'f_agg': 'var', 'isabs': False, 'qh': 0.2, 'ql': 0.0}, {'f_agg': 'var', 'isabs': False, 'qh': 0.6, 'ql': 0.2}, {'f_agg': 'var', 'isabs': False, 'qh': 0.8, 'ql': 0.6}, {'f_agg': 'mean', 'isabs': True, 'qh': 0.8, 'ql': 0.6}, {'f_agg': 'var', 'isabs': True, 'qh': 0.2, 'ql': 0.0}, {'f_agg': 'var', 'isabs': True, 'qh': 0.8, 'ql': 0.6}, {'f_agg': 'var', 'isabs': True, 'qh': 0.6, 'ql': 0.2}, {'f_agg': 'mean', 'isabs': True, 'qh': 0.8, 'ql': 0.4}, {'f_agg': 'var', 'isabs': False, 'qh': 0.8, 'ql': 0.4}, {'f_agg': 'var', 'isabs': True, 'qh': 0.8, 'ql': 0.4}, {'f_agg': 'mean', 'isabs': True, 'qh': 0.8, 'ql': 0.2}, {'f_agg': 'mean', 'isabs': True, 'qh': 0.4, 'ql': 0.0}, {'f_agg': 'var', 'isabs': False, 'qh': 0.4, 'ql': 0.0}, {'f_agg': 'var', 'isabs': False, 'qh': 0.8, 'ql': 0.2}, {'f_agg': 'mean', 'isabs': True, 'qh': 0.6, 'ql': 0.0}, {'f_agg': 'var', 'isabs': True, 'qh': 0.8, 'ql': 0.2}, {'f_agg': 'var', 'isabs': True, 'qh': 0.4, 'ql': 0.0}, {'f_agg': 'var', 'isabs': False, 'qh': 0.6, 'ql': 0.0}, {'f_agg': 'mean', 'isabs': True, 'qh': 0.8, 'ql': 0.0}, {'f_agg': 'var', 'isabs': True, 'qh': 0.6, 'ql': 0.0}, {'f_agg': 'var', 'isabs': False, 'qh': 0.8, 'ql': 0.0}, {'f_agg': 'mean', 'isabs': True, 'qh': 1.0, 'ql': 0.2}, {'f_agg': 'mean', 'isabs': True, 'qh': 1.0, 'ql': 0.0}, {'f_agg': 'mean', 'isabs': True, 'qh': 1.0, 'ql': 0.4}, {'f_agg': 'var', 'isabs': True, 'qh': 0.8, 'ql': 0.0}, {'f_agg': 'var', 'isabs': False, 'qh': 1.0, 'ql': 0.2}, {'f_agg': 'mean', 'isabs': True, 'qh': 1.0, 'ql': 0.6}, {'f_agg': 'var', 'isabs': False, 'qh': 1.0, 'ql': 0.6}, {'f_agg': 'var', 'isabs': True, 'qh': 1.0, 'ql': 0.6}, {'f_agg': 'var', 'isabs': False, 'qh': 1.0, 'ql': 0.0}, {'f_agg': 'var', 'isabs': False, 'qh': 1.0, 'ql': 0.4}, {'f_agg': 'var', 'isabs': True, 'qh': 1.0, 'ql': 0.2}, {'f_agg': 'var', 'isabs': True, 'qh': 1.0, 'ql': 0.4}, {'f_agg': 'var', 'isabs': True, 'qh': 1.0, 'ql': 0.0}], 'agg_linear_trend': [{'attr': 'stderr', 'chunk_len': 10, 'f_agg': 'var'}, {'attr': 'intercept', 'chunk_len': 50, 'f_agg': 'var'}, {'attr': 'stderr', 'chunk_len': 10, 'f_agg': 'min'}, {'attr': 'stderr', 'chunk_len': 5, 'f_agg': 'var'}, {'attr': 'stderr', 'chunk_len': 5, 'f_agg': 'min'}, {'attr': 'intercept', 'chunk_len': 10, 'f_agg': 'var'}, {'attr': 'stderr', 'chunk_len': 5, 'f_agg': 'mean'}, {'attr': 'stderr', 'chunk_len': 10, 'f_agg': 'mean'}, {'attr': 'intercept', 'chunk_len': 5, 'f_agg': 'var'}, {'attr': 'stderr', 'chunk_len': 5, 'f_agg': 'max'}], 'absolute_sum_of_changes': None, 'mean_abs_change': None, 'linear_trend': [{'attr': 'stderr'}], 'standard_deviation': None, 'variance': None, 'cid_ce': [{'normalize': False}]}, 'acceleration': {'agg_linear_trend': [{'attr': 'stderr', 'chunk_len': 5, 'f_agg': 'max'}, {'attr': 'stderr', 'chunk_len': 10, 'f_agg': 'mean'}, {'attr': 'stderr', 'chunk_len': 5, 'f_agg': 'mean'}, {'attr': 'stderr', 'chunk_len': 10, 'f_agg': 'max'}, {'attr': 'stderr', 'chunk_len': 5, 'f_agg': 'min'}, {'attr': 'stderr', 'chunk_len': 10, 'f_agg': 'min'}, {'attr': 'stderr', 'chunk_len': 5, 'f_agg': 'var'}, {'attr': 'intercept', 'chunk_len': 50, 'f_agg': 'var'}, {'attr': 'stderr', 'chunk_len': 10, 'f_agg': 'var'}], 'change_quantiles': [{'f_agg': 'var', 'isabs': False, 'qh': 0.6, 'ql': 0.2}, {'f_agg': 'mean', 'isabs': True, 'qh': 0.8, 'ql': 0.2}, {'f_agg': 'mean', 'isabs': True, 'qh': 1.0, 'ql': 0.2}, {'f_agg': 'var', 'isabs': False, 'qh': 0.8, 'ql': 0.2}, {'f_agg': 'var', 'isabs': False, 'qh': 1.0, 'ql': 0.2}, {'f_agg': 'mean', 'isabs': True, 'qh': 0.6, 'ql': 0.4}, {'f_agg': 'var', 'isabs': False, 'qh': 1.0, 'ql': 0.4}, {'f_agg': 'var', 'isabs': False, 'qh': 0.8, 'ql': 0.0}, {'f_agg': 'mean', 'isabs': True, 'qh': 0.8, 'ql': 0.4}, {'f_agg': 'mean', 'isabs': True, 'qh': 1.0, 'ql': 0.4}, {'f_agg': 'mean', 'isabs': True, 'qh': 0.6, 'ql': 0.2}, {'f_agg': 'var', 'isabs': False, 'qh': 0.8, 'ql': 0.4}, {'f_agg': 'var', 'isabs': False, 'qh': 1.0, 'ql': 0.0}, {'f_agg': 'var', 'isabs': False, 'qh': 0.6, 'ql': 0.0}, {'f_agg': 'mean', 'isabs': True, 'qh': 1.0, 'ql': 0.0}, {'f_agg': 'mean', 'isabs': True, 'qh': 0.8, 'ql': 0.0}, {'f_agg': 'var', 'isabs': False, 'qh': 0.6, 'ql': 0.4}, {'f_agg': 'mean', 'isabs': True, 'qh': 0.6, 'ql': 0.0}, {'f_agg': 'var', 'isabs': False, 'qh': 1.0, 'ql': 0.6}, {'f_agg': 'mean', 'isabs': True, 'qh': 1.0, 'ql': 0.6}, {'f_agg': 'var', 'isabs': False, 'qh': 0.4, 'ql': 0.0}, {'f_agg': 'mean', 'isabs': True, 'qh': 0.8, 'ql': 0.6}, {'f_agg': 'mean', 'isabs': True, 'qh': 0.4, 'ql': 0.2}, {'f_agg': 'var', 'isabs': False, 'qh': 0.4, 'ql': 0.2}, {'f_agg': 'var', 'isabs': True, 'qh': 1.0, 'ql': 0.0}, {'f_agg': 'var', 'isabs': True, 'qh': 0.6, 'ql': 0.2}, {'f_agg': 'var', 'isabs': True, 'qh': 0.8, 'ql': 0.0}, {'f_agg': 'var', 'isabs': True, 'qh': 1.0, 'ql': 0.2}, {'f_agg': 'mean', 'isabs': True, 'qh': 0.4, 'ql': 0.0}, {'f_agg': 'var', 'isabs': True, 'qh': 0.6, 'ql': 0.0}, {'f_agg': 'var', 'isabs': True, 'qh': 0.8, 'ql': 0.2}, {'f_agg': 'var', 'isabs': True, 'qh': 1.0, 'ql': 0.4}, {'f_agg': 'var', 'isabs': True, 'qh': 0.6, 'ql': 0.4}, {'f_agg': 'var', 'isabs': False, 'qh': 0.8, 'ql': 0.6}, {'f_agg': 'var', 'isabs': True, 'qh': 0.8, 'ql': 0.4}, {'f_agg': 'mean', 'isabs': True, 'qh': 1.0, 'ql': 0.8}, {'f_agg': 'var', 'isabs': True, 'qh': 1.0, 'ql': 0.6}, {'f_agg': 'var', 'isabs': False, 'qh': 0.2, 'ql': 0.0}, {'f_agg': 'mean', 'isabs': True, 'qh': 0.2, 'ql': 0.0}, {'f_agg': 'var', 'isabs': True, 'qh': 0.4, 'ql': 0.2}, {'f_agg': 'var', 'isabs': True, 'qh': 0.4, 'ql': 0.0}, {'f_agg': 'var', 'isabs': False, 'qh': 1.0, 'ql': 0.8}, {'f_agg': 'var', 'isabs': True, 'qh': 0.8, 'ql': 0.6}], 'linear_trend': [{'attr': 'stderr'}], 'absolute_sum_of_changes': None, 'mean_abs_change': None, 'spkt_welch_density': [{'coeff': 2}, {'coeff': 5}, {'coeff': 8}], 'cid_ce': [{'normalize': False}], 'fft_coefficient': [{'attr': 'abs', 'coeff': 1}, {'attr': 'abs', 'coeff': 2}, {'attr': 'abs', 'coeff': 3}, {'attr': 'abs', 'coeff': 4}], 'standard_deviation': None, 'variance': None, 'minimum': None, 'symmetry_looking': [{'r': 0.5}, {'r': 0.55}, {'r': 0.65}, {'r': 0.6000000000000001}, {'r': 0.9}, {'r': 0.9500000000000001}, {'r': 0.8500000000000001}, {'r': 0.75}, {'r': 0.7000000000000001}, {'r': 0.8}, {'r': 0.45}], 'large_standard_deviation': [{'r': 0.05}, {'r': 0.1}], 'quantile': [{'q': 0.1}], 'root_mean_square': None, 'abs_energy': None, 'mean_n_absolute_max': [{'number_of_maxima': 7}], 'absolute_maximum': None}, 'z_gyro_clean': {'ar_coefficient': [{'coeff': 1, 'k': 10}, {'coeff': 2, 'k': 10}]}, 'x_acc_clean': {'change_quantiles': [{'f_agg': 'var', 'isabs': False, 'qh': 0.6, 'ql': 0.4}, {'f_agg': 'var', 'isabs': False, 'qh': 0.4, 'ql': 0.2}, {'f_agg': 'var', 'isabs': True, 'qh': 0.6, 'ql': 0.4}, {'f_agg': 'mean', 'isabs': True, 'qh': 0.6, 'ql': 0.4}, {'f_agg': 'var', 'isabs': False, 'qh': 0.8, 'ql': 0.6}, {'f_agg': 'var', 'isabs': True, 'qh': 0.4, 'ql': 0.2}, {'f_agg': 'mean', 'isabs': True, 'qh': 0.4, 'ql': 0.2}, {'f_agg': 'var', 'isabs': False, 'qh': 0.6, 'ql': 0.2}, {'f_agg': 'var', 'isabs': False, 'qh': 0.8, 'ql': 0.4}, {'f_agg': 'mean', 'isabs': True, 'qh': 0.6, 'ql': 0.2}, {'f_agg': 'mean', 'isabs': True, 'qh': 0.8, 'ql': 0.4}, {'f_agg': 'mean', 'isabs': True, 'qh': 0.8, 'ql': 0.6}, {'f_agg': 'var', 'isabs': True, 'qh': 0.8, 'ql': 0.6}, {'f_agg': 'var', 'isabs': False, 'qh': 0.8, 'ql': 0.2}, {'f_agg': 'mean', 'isabs': True, 'qh': 0.8, 'ql': 0.2}, {'f_agg': 'var', 'isabs': False, 'qh': 0.2, 'ql': 0.0}, {'f_agg': 'var', 'isabs': True, 'qh': 0.6, 'ql': 0.2}, {'f_agg': 'var', 'isabs': False, 'qh': 0.4, 'ql': 0.0}, {'f_agg': 'mean', 'isabs': True, 'qh': 0.6, 'ql': 0.0}, {'f_agg': 'mean', 'isabs': True, 'qh': 0.4, 'ql': 0.0}, {'f_agg': 'var', 'isabs': False, 'qh': 0.6, 'ql': 0.0}, {'f_agg': 'mean', 'isabs': True, 'qh': 0.2, 'ql': 0.0}, {'f_agg': 'var', 'isabs': True, 'qh': 0.8, 'ql': 0.4}, {'f_agg': 'mean', 'isabs': True, 'qh': 0.8, 'ql': 0.0}, {'f_agg': 'var', 'isabs': False, 'qh': 1.0, 'ql': 0.8}, {'f_agg': 'var', 'isabs': True, 'qh': 0.2, 'ql': 0.0}, {'f_agg': 'mean', 'isabs': True, 'qh': 1.0, 'ql': 0.8}, {'f_agg': 'var', 'isabs': False, 'qh': 0.8, 'ql': 0.0}, {'f_agg': 'mean', 'isabs': True, 'qh': 1.0, 'ql': 0.2}], 'spkt_welch_density': [{'coeff': 2}], 'agg_linear_trend': [{'attr': 'stderr', 'chunk_len': 10, 'f_agg': 'min'}, {'attr': 'stderr', 'chunk_len': 10, 'f_agg': 'mean'}, {'attr': 'stderr', 'chunk_len': 5, 'f_agg': 'min'}, {'attr': 'stderr', 'chunk_len': 5, 'f_agg': 'mean'}, {'attr': 'stderr', 'chunk_len': 10, 'f_agg': 'max'}, {'attr': 'stderr', 'chunk_len': 5, 'f_agg': 'max'}, {'attr': 'intercept', 'chunk_len': 50, 'f_agg': 'var'}], 'linear_trend': [{'attr': 'stderr'}], 'fft_coefficient': [{'attr': 'abs', 'coeff': 1}, {'attr': 'abs', 'coeff': 2}, {'attr': 'abs', 'coeff': 48}, {'attr': 'abs', 'coeff': 49}, {'attr': 'abs', 'coeff': 40}, {'attr': 'abs', 'coeff': 43}, {'attr': 'abs', 'coeff': 46}, {'attr': 'abs', 'coeff': 47}, {'attr': 'abs', 'coeff': 45}], 'variance': None, 'standard_deviation': None}, 'x_gyro_clean': {'change_quantiles': [{'f_agg': 'var', 'isabs': False, 'qh': 0.2, 'ql': 0.0}, {'f_agg': 'var', 'isabs': True, 'qh': 0.2, 'ql': 0.0}, {'f_agg': 'var', 'isabs': False, 'qh': 0.4, 'ql': 0.0}, {'f_agg': 'mean', 'isabs': True, 'qh': 0.2, 'ql': 0.0}, {'f_agg': 'var', 'isabs': True, 'qh': 0.4, 'ql': 0.0}, {'f_agg': 'var', 'isabs': False, 'qh': 1.0, 'ql': 0.8}, {'f_agg': 'var', 'isabs': False, 'qh': 0.6, 'ql': 0.0}, {'f_agg': 'mean', 'isabs': True, 'qh': 0.4, 'ql': 0.0}, {'f_agg': 'var', 'isabs': False, 'qh': 0.8, 'ql': 0.0}, {'f_agg': 'var', 'isabs': True, 'qh': 1.0, 'ql': 0.8}, {'f_agg': 'var', 'isabs': True, 'qh': 0.6, 'ql': 0.0}, {'f_agg': 'var', 'isabs': False, 'qh': 1.0, 'ql': 0.6}, {'f_agg': 'var', 'isabs': False, 'qh': 1.0, 'ql': 0.0}, {'f_agg': 'mean', 'isabs': True, 'qh': 0.8, 'ql': 0.0}, {'f_agg': 'mean', 'isabs': True, 'qh': 0.6, 'ql': 0.0}, {'f_agg': 'mean', 'isabs': True, 'qh': 1.0, 'ql': 0.0}, {'f_agg': 'mean', 'isabs': True, 'qh': 1.0, 'ql': 0.8}, {'f_agg': 'var', 'isabs': False, 'qh': 1.0, 'ql': 0.4}, {'f_agg': 'var', 'isabs': True, 'qh': 0.8, 'ql': 0.0}, {'f_agg': 'mean', 'isabs': True, 'qh': 1.0, 'ql': 0.6}, {'f_agg': 'var', 'isabs': False, 'qh': 1.0, 'ql': 0.2}, {'f_agg': 'mean', 'isabs': True, 'qh': 1.0, 'ql': 0.2}, {'f_agg': 'mean', 'isabs': True, 'qh': 1.0, 'ql': 0.4}, {'f_agg': 'var', 'isabs': True, 'qh': 1.0, 'ql': 0.0}, {'f_agg': 'var', 'isabs': True, 'qh': 1.0, 'ql': 0.6}, {'f_agg': 'var', 'isabs': True, 'qh': 1.0, 'ql': 0.4}, {'f_agg': 'var', 'isabs': False, 'qh': 0.8, 'ql': 0.2}, {'f_agg': 'mean', 'isabs': True, 'qh': 0.8, 'ql': 0.2}, {'f_agg': 'var', 'isabs': True, 'qh': 1.0, 'ql': 0.2}, {'f_agg': 'var', 'isabs': False, 'qh': 0.6, 'ql': 0.2}, {'f_agg': 'var', 'isabs': False, 'qh': 0.8, 'ql': 0.4}], 'mean_abs_change': None, 'absolute_sum_of_changes': None, 'cid_ce': [{'normalize': False}], 'fft_coefficient': [{'attr': 'abs', 'coeff': 49}, {'attr': 'abs', 'coeff': 47}, {'attr': 'abs', 'coeff': 46}], 'spkt_welch_density': [{'coeff': 5}]}, 'y_acc_clean': {'agg_linear_trend': [{'attr': 'stderr', 'chunk_len': 10, 'f_agg': 'mean'}, {'attr': 'stderr', 'chunk_len': 10, 'f_agg': 'max'}, {'attr': 'stderr', 'chunk_len': 5, 'f_agg': 'mean'}, {'attr': 'stderr', 'chunk_len': 5, 'f_agg': 'max'}, {'attr': 'stderr', 'chunk_len': 10, 'f_agg': 'min'}, {'attr': 'stderr', 'chunk_len': 5, 'f_agg': 'min'}, {'attr': 'intercept', 'chunk_len': 50, 'f_agg': 'var'}], 'spkt_welch_density': [{'coeff': 2}], 'change_quantiles': [{'f_agg': 'var', 'isabs': True, 'qh': 0.8, 'ql': 0.6}, {'f_agg': 'var', 'isabs': False, 'qh': 0.8, 'ql': 0.6}, {'f_agg': 'var', 'isabs': True, 'qh': 0.8, 'ql': 0.4}, {'f_agg': 'var', 'isabs': False, 'qh': 0.4, 'ql': 0.2}, {'f_agg': 'var', 'isabs': False, 'qh': 0.8, 'ql': 0.4}, {'f_agg': 'var', 'isabs': True, 'qh': 0.4, 'ql': 0.2}, {'f_agg': 'var', 'isabs': False, 'qh': 1.0, 'ql': 0.8}, {'f_agg': 'var', 'isabs': True, 'qh': 1.0, 'ql': 0.8}, {'f_agg': 'var', 'isabs': True, 'qh': 0.6, 'ql': 0.4}, {'f_agg': 'var', 'isabs': False, 'qh': 0.2, 'ql': 0.0}, {'f_agg': 'var', 'isabs': False, 'qh': 0.8, 'ql': 0.2}, {'f_agg': 'var', 'isabs': True, 'qh': 0.8, 'ql': 0.2}, {'f_agg': 'var', 'isabs': False, 'qh': 0.6, 'ql': 0.4}, {'f_agg': 'var', 'isabs': True, 'qh': 0.2, 'ql': 0.0}, {'f_agg': 'mean', 'isabs': True, 'qh': 0.8, 'ql': 0.6}, {'f_agg': 'mean', 'isabs': True, 'qh': 0.8, 'ql': 0.4}, {'f_agg': 'var', 'isabs': False, 'qh': 0.6, 'ql': 0.2}, {'f_agg': 'mean', 'isabs': True, 'qh': 0.2, 'ql': 0.0}, {'f_agg': 'var', 'isabs': False, 'qh': 1.0, 'ql': 0.6}, {'f_agg': 'mean', 'isabs': True, 'qh': 0.4, 'ql': 0.2}, {'f_agg': 'var', 'isabs': True, 'qh': 0.6, 'ql': 0.2}, {'f_agg': 'var', 'isabs': True, 'qh': 1.0, 'ql': 0.6}, {'f_agg': 'mean', 'isabs': True, 'qh': 0.8, 'ql': 0.2}, {'f_agg': 'mean', 'isabs': True, 'qh': 0.6, 'ql': 0.4}, {'f_agg': 'var', 'isabs': False, 'qh': 1.0, 'ql': 0.4}, {'f_agg': 'var', 'isabs': False, 'qh': 1.0, 'ql': 0.2}, {'f_agg': 'var', 'isabs': False, 'qh': 0.4, 'ql': 0.0}, {'f_agg': 'var', 'isabs': True, 'qh': 1.0, 'ql': 0.4}, {'f_agg': 'var', 'isabs': False, 'qh': 0.8, 'ql': 0.0}, {'f_agg': 'mean', 'isabs': True, 'qh': 0.6, 'ql': 0.2}, {'f_agg': 'mean', 'isabs': True, 'qh': 1.0, 'ql': 0.8}, {'f_agg': 'var', 'isabs': True, 'qh': 1.0, 'ql': 0.2}, {'f_agg': 'var', 'isabs': True, 'qh': 0.4, 'ql': 0.0}, {'f_agg': 'mean', 'isabs': True, 'qh': 1.0, 'ql': 0.4}, {'f_agg': 'mean', 'isabs': True, 'qh': 1.0, 'ql': 0.6}, {'f_agg': 'mean', 'isabs': True, 'qh': 1.0, 'ql': 0.2}], 'linear_trend': [{'attr': 'stderr'}], 'fft_coefficient': [{'attr': 'abs', 'coeff': 1}, {'attr': 'abs', 'coeff': 48}, {'attr': 'abs', 'coeff': 46}, {'attr': 'abs', 'coeff': 49}, {'attr': 'abs', 'coeff': 45}, {'attr': 'abs', 'coeff': 47}, {'attr': 'abs', 'coeff': 2}], 'variance': None, 'standard_deviation': None}}\n",
      "chunk id 1\n",
      "x (102400, 100, 8)\n",
      "y (102400, 6)\n",
      "(10240000, 8)\n",
      "(10240000, 10)\n"
     ]
    },
    {
     "name": "stderr",
     "output_type": "stream",
     "text": [
      "Feature Extraction: 100%|██████████| 60/60 [11:23<00:00, 11.39s/it] \n"
     ]
    },
    {
     "name": "stdout",
     "output_type": "stream",
     "text": [
      "extracted shape (102400, 500)\n",
      "chunk id 2\n",
      "x (102400, 100, 8)\n",
      "y (102400, 6)\n",
      "(10240000, 8)\n",
      "(10240000, 10)\n"
     ]
    },
    {
     "name": "stderr",
     "output_type": "stream",
     "text": [
      "Feature Extraction: 100%|██████████| 60/60 [11:16<00:00, 11.27s/it] \n"
     ]
    },
    {
     "name": "stdout",
     "output_type": "stream",
     "text": [
      "extracted shape (102400, 500)\n",
      "chunk id 3\n",
      "x (102400, 100, 8)\n",
      "y (102400, 6)\n",
      "(10240000, 8)\n",
      "(10240000, 10)\n"
     ]
    },
    {
     "name": "stderr",
     "output_type": "stream",
     "text": [
      "Feature Extraction: 100%|██████████| 60/60 [11:09<00:00, 11.16s/it] \n"
     ]
    },
    {
     "name": "stdout",
     "output_type": "stream",
     "text": [
      "extracted shape (102400, 500)\n",
      "chunk id 4\n",
      "x (90468, 100, 8)\n",
      "y (90468, 6)\n",
      "(9046800, 8)\n",
      "(9046800, 10)\n"
     ]
    },
    {
     "name": "stderr",
     "output_type": "stream",
     "text": [
      "Feature Extraction: 100%|██████████| 60/60 [09:49<00:00,  9.82s/it] \n"
     ]
    },
    {
     "name": "stdout",
     "output_type": "stream",
     "text": [
      "extracted shape (90468, 500)\n",
      "data files ['chunk_1.npy', 'chunk_2.npy', 'chunk_3.npy', 'chunk_4.npy', 'chunk_5.npy']\n",
      "chunk id 1\n",
      "x (102400, 100, 8)\n",
      "chunk id 2\n",
      "x (102400, 100, 8)\n",
      "chunk id 3\n",
      "x (102400, 100, 8)\n",
      "chunk id 4\n",
      "x (102400, 100, 8)\n",
      "chunk id 5\n",
      "x (64568, 100, 8)\n",
      "y (33915,) (33915, 100, 8)\n",
      "(3391500, 8)\n",
      "Extracting feature only... 3391500\n"
     ]
    },
    {
     "name": "stderr",
     "output_type": "stream",
     "text": [
      "Feature Extraction: 100%|██████████| 60/60 [21:27<00:00, 21.46s/it]  \n"
     ]
    },
    {
     "name": "stdout",
     "output_type": "stream",
     "text": [
      "{'y_gyro_clean': {'change_quantiles': [{'f_agg': 'mean', 'isabs': True, 'qh': 0.8, 'ql': 0.6}, {'f_agg': 'var', 'isabs': True, 'qh': 0.8, 'ql': 0.2}, {'f_agg': 'var', 'isabs': False, 'qh': 0.8, 'ql': 0.6}, {'f_agg': 'var', 'isabs': True, 'qh': 1.0, 'ql': 0.4}, {'f_agg': 'mean', 'isabs': True, 'qh': 1.0, 'ql': 0.4}, {'f_agg': 'var', 'isabs': False, 'qh': 1.0, 'ql': 0.4}, {'f_agg': 'mean', 'isabs': True, 'qh': 0.6, 'ql': 0.0}, {'f_agg': 'var', 'isabs': True, 'qh': 0.6, 'ql': 0.0}, {'f_agg': 'var', 'isabs': False, 'qh': 0.8, 'ql': 0.0}, {'f_agg': 'mean', 'isabs': True, 'qh': 0.8, 'ql': 0.0}, {'f_agg': 'var', 'isabs': True, 'qh': 0.8, 'ql': 0.0}, {'f_agg': 'var', 'isabs': False, 'qh': 1.0, 'ql': 0.0}, {'f_agg': 'mean', 'isabs': True, 'qh': 1.0, 'ql': 0.0}, {'f_agg': 'var', 'isabs': True, 'qh': 1.0, 'ql': 0.0}, {'f_agg': 'var', 'isabs': False, 'qh': 0.4, 'ql': 0.2}, {'f_agg': 'mean', 'isabs': True, 'qh': 0.4, 'ql': 0.2}, {'f_agg': 'var', 'isabs': True, 'qh': 0.4, 'ql': 0.2}, {'f_agg': 'var', 'isabs': False, 'qh': 0.6, 'ql': 0.2}, {'f_agg': 'mean', 'isabs': True, 'qh': 0.6, 'ql': 0.2}, {'f_agg': 'var', 'isabs': True, 'qh': 0.6, 'ql': 0.2}, {'f_agg': 'var', 'isabs': False, 'qh': 0.8, 'ql': 0.2}, {'f_agg': 'mean', 'isabs': True, 'qh': 0.8, 'ql': 0.2}, {'f_agg': 'var', 'isabs': False, 'qh': 1.0, 'ql': 0.2}], 'permutation_entropy': [{'dimension': 3, 'tau': 1}, {'dimension': 4, 'tau': 1}, {'dimension': 5, 'tau': 1}, {'dimension': 6, 'tau': 1}, {'dimension': 7, 'tau': 1}], 'agg_linear_trend': [{'attr': 'stderr', 'chunk_len': 5, 'f_agg': 'max'}], 'lempel_ziv_complexity': [{'bins': 100}, {'bins': 5}], 'cid_ce': [{'normalize': True}, {'normalize': False}], 'quantile': [{'q': 0.1}, {'q': 0.8}, {'q': 0.9}], 'autocorrelation': [{'lag': 1}], 'partial_autocorrelation': [{'lag': 1}, {'lag': 2}], 'maximum': None, 'sample_entropy': None, 'fft_coefficient': [{'attr': 'abs', 'coeff': 40}, {'attr': 'abs', 'coeff': 42}, {'attr': 'abs', 'coeff': 43}, {'attr': 'abs', 'coeff': 44}, {'attr': 'abs', 'coeff': 45}, {'attr': 'abs', 'coeff': 46}, {'attr': 'abs', 'coeff': 47}, {'attr': 'abs', 'coeff': 48}, {'attr': 'abs', 'coeff': 49}, {'attr': 'abs', 'coeff': 50}, {'attr': 'abs', 'coeff': 41}], 'minimum': None, 'number_cwt_peaks': [{'n': 1}]}, 'z_acc_clean': {'change_quantiles': [{'f_agg': 'var', 'isabs': False, 'qh': 1.0, 'ql': 0.6}, {'f_agg': 'var', 'isabs': True, 'qh': 1.0, 'ql': 0.2}, {'f_agg': 'var', 'isabs': False, 'qh': 0.6, 'ql': 0.4}, {'f_agg': 'mean', 'isabs': True, 'qh': 0.6, 'ql': 0.4}, {'f_agg': 'var', 'isabs': True, 'qh': 0.6, 'ql': 0.4}, {'f_agg': 'var', 'isabs': False, 'qh': 1.0, 'ql': 0.8}, {'f_agg': 'var', 'isabs': True, 'qh': 1.0, 'ql': 0.6}, {'f_agg': 'mean', 'isabs': True, 'qh': 1.0, 'ql': 0.6}, {'f_agg': 'var', 'isabs': False, 'qh': 1.0, 'ql': 0.2}, {'f_agg': 'var', 'isabs': True, 'qh': 0.8, 'ql': 0.6}, {'f_agg': 'mean', 'isabs': True, 'qh': 0.8, 'ql': 0.6}, {'f_agg': 'var', 'isabs': False, 'qh': 0.8, 'ql': 0.6}, {'f_agg': 'var', 'isabs': True, 'qh': 1.0, 'ql': 0.4}, {'f_agg': 'mean', 'isabs': True, 'qh': 1.0, 'ql': 0.4}, {'f_agg': 'var', 'isabs': False, 'qh': 1.0, 'ql': 0.4}, {'f_agg': 'var', 'isabs': True, 'qh': 0.8, 'ql': 0.4}, {'f_agg': 'mean', 'isabs': True, 'qh': 0.8, 'ql': 0.4}, {'f_agg': 'var', 'isabs': False, 'qh': 0.8, 'ql': 0.4}, {'f_agg': 'mean', 'isabs': True, 'qh': 1.0, 'ql': 0.8}, {'f_agg': 'mean', 'isabs': True, 'qh': 1.0, 'ql': 0.2}, {'f_agg': 'var', 'isabs': True, 'qh': 0.8, 'ql': 0.2}, {'f_agg': 'var', 'isabs': False, 'qh': 0.4, 'ql': 0.2}, {'f_agg': 'var', 'isabs': True, 'qh': 1.0, 'ql': 0.0}, {'f_agg': 'mean', 'isabs': True, 'qh': 1.0, 'ql': 0.0}, {'f_agg': 'var', 'isabs': False, 'qh': 1.0, 'ql': 0.0}, {'f_agg': 'var', 'isabs': True, 'qh': 0.8, 'ql': 0.0}, {'f_agg': 'mean', 'isabs': True, 'qh': 0.8, 'ql': 0.0}, {'f_agg': 'var', 'isabs': False, 'qh': 0.8, 'ql': 0.0}, {'f_agg': 'mean', 'isabs': True, 'qh': 0.8, 'ql': 0.2}, {'f_agg': 'var', 'isabs': True, 'qh': 0.6, 'ql': 0.0}, {'f_agg': 'var', 'isabs': False, 'qh': 0.6, 'ql': 0.0}, {'f_agg': 'var', 'isabs': True, 'qh': 0.4, 'ql': 0.0}, {'f_agg': 'mean', 'isabs': True, 'qh': 0.4, 'ql': 0.0}, {'f_agg': 'var', 'isabs': False, 'qh': 0.4, 'ql': 0.0}, {'f_agg': 'var', 'isabs': True, 'qh': 0.2, 'ql': 0.0}, {'f_agg': 'mean', 'isabs': True, 'qh': 0.2, 'ql': 0.0}, {'f_agg': 'var', 'isabs': False, 'qh': 0.2, 'ql': 0.0}, {'f_agg': 'mean', 'isabs': True, 'qh': 0.6, 'ql': 0.0}, {'f_agg': 'mean', 'isabs': True, 'qh': 0.4, 'ql': 0.2}, {'f_agg': 'var', 'isabs': True, 'qh': 0.4, 'ql': 0.2}, {'f_agg': 'mean', 'isabs': True, 'qh': 0.6, 'ql': 0.2}, {'f_agg': 'var', 'isabs': False, 'qh': 0.8, 'ql': 0.2}, {'f_agg': 'var', 'isabs': True, 'qh': 0.6, 'ql': 0.2}, {'f_agg': 'var', 'isabs': False, 'qh': 0.6, 'ql': 0.2}, {'f_agg': 'var', 'isabs': True, 'qh': 1.0, 'ql': 0.8}], 'binned_entropy': [{'max_bins': 10}], 'root_mean_square': None, 'kurtosis': None, 'variance': None, 'standard_deviation': None, 'mean_abs_change': None, 'abs_energy': None, 'absolute_sum_of_changes': None, 'fft_coefficient': [{'attr': 'abs', 'coeff': 35}, {'attr': 'abs', 'coeff': 34}, {'attr': 'abs', 'coeff': 33}, {'attr': 'abs', 'coeff': 32}, {'attr': 'abs', 'coeff': 31}, {'attr': 'abs', 'coeff': 30}, {'attr': 'abs', 'coeff': 29}, {'attr': 'abs', 'coeff': 28}, {'attr': 'abs', 'coeff': 27}, {'attr': 'abs', 'coeff': 26}, {'attr': 'abs', 'coeff': 25}, {'attr': 'abs', 'coeff': 24}, {'attr': 'abs', 'coeff': 23}, {'attr': 'abs', 'coeff': 21}, {'attr': 'abs', 'coeff': 20}, {'attr': 'abs', 'coeff': 19}, {'attr': 'abs', 'coeff': 18}, {'attr': 'abs', 'coeff': 17}, {'attr': 'abs', 'coeff': 16}, {'attr': 'abs', 'coeff': 15}, {'attr': 'abs', 'coeff': 14}, {'attr': 'abs', 'coeff': 13}, {'attr': 'abs', 'coeff': 12}, {'attr': 'abs', 'coeff': 11}, {'attr': 'abs', 'coeff': 10}, {'attr': 'abs', 'coeff': 9}, {'attr': 'abs', 'coeff': 22}, {'attr': 'abs', 'coeff': 8}, {'attr': 'abs', 'coeff': 7}, {'attr': 'abs', 'coeff': 5}, {'attr': 'abs', 'coeff': 6}, {'attr': 'abs', 'coeff': 4}, {'attr': 'abs', 'coeff': 3}, {'attr': 'abs', 'coeff': 2}, {'attr': 'abs', 'coeff': 1}], 'number_peaks': [{'n': 1}], 'partial_autocorrelation': [{'lag': 2}], 'cid_ce': [{'normalize': False}], 'minimum': None, 'absolute_maximum': None, 'maximum': None, 'ar_coefficient': [{'coeff': 2, 'k': 10}, {'coeff': 1, 'k': 10}], 'spkt_welch_density': [{'coeff': 8}, {'coeff': 5}, {'coeff': 2}], 'max_langevin_fixed_point': [{'m': 3, 'r': 30}], 'friedrich_coefficients': [{'coeff': 0, 'm': 3, 'r': 30}], 'fft_aggregated': [{'aggtype': 'variance'}], 'agg_linear_trend': [{'attr': 'intercept', 'chunk_len': 10, 'f_agg': 'var'}, {'attr': 'intercept', 'chunk_len': 50, 'f_agg': 'max'}, {'attr': 'intercept', 'chunk_len': 50, 'f_agg': 'var'}, {'attr': 'stderr', 'chunk_len': 5, 'f_agg': 'min'}, {'attr': 'stderr', 'chunk_len': 5, 'f_agg': 'mean'}, {'attr': 'stderr', 'chunk_len': 5, 'f_agg': 'var'}, {'attr': 'stderr', 'chunk_len': 10, 'f_agg': 'max'}, {'attr': 'stderr', 'chunk_len': 10, 'f_agg': 'min'}, {'attr': 'stderr', 'chunk_len': 10, 'f_agg': 'mean'}, {'attr': 'stderr', 'chunk_len': 10, 'f_agg': 'var'}, {'attr': 'intercept', 'chunk_len': 5, 'f_agg': 'var'}, {'attr': 'stderr', 'chunk_len': 5, 'f_agg': 'max'}], 'linear_trend': [{'attr': 'stderr'}], 'ratio_beyond_r_sigma': [{'r': 0.5}, {'r': 1}, {'r': 2.5}, {'r': 3}], 'permutation_entropy': [{'dimension': 3, 'tau': 1}, {'dimension': 4, 'tau': 1}, {'dimension': 5, 'tau': 1}, {'dimension': 6, 'tau': 1}, {'dimension': 7, 'tau': 1}], 'mean_n_absolute_max': [{'number_of_maxima': 7}]}, 'z_gyro_clean': {'change_quantiles': [{'f_agg': 'var', 'isabs': False, 'qh': 1.0, 'ql': 0.4}, {'f_agg': 'var', 'isabs': True, 'qh': 1.0, 'ql': 0.4}, {'f_agg': 'var', 'isabs': False, 'qh': 0.8, 'ql': 0.6}, {'f_agg': 'mean', 'isabs': True, 'qh': 0.8, 'ql': 0.6}, {'f_agg': 'var', 'isabs': True, 'qh': 0.8, 'ql': 0.6}, {'f_agg': 'var', 'isabs': False, 'qh': 1.0, 'ql': 0.6}, {'f_agg': 'mean', 'isabs': True, 'qh': 1.0, 'ql': 0.6}, {'f_agg': 'var', 'isabs': True, 'qh': 1.0, 'ql': 0.6}, {'f_agg': 'var', 'isabs': False, 'qh': 1.0, 'ql': 0.8}, {'f_agg': 'mean', 'isabs': True, 'qh': 1.0, 'ql': 0.8}, {'f_agg': 'var', 'isabs': True, 'qh': 1.0, 'ql': 0.8}, {'f_agg': 'mean', 'isabs': True, 'qh': 1.0, 'ql': 0.4}, {'f_agg': 'mean', 'isabs': True, 'qh': 0.8, 'ql': 0.4}, {'f_agg': 'var', 'isabs': False, 'qh': 0.2, 'ql': 0.0}, {'f_agg': 'var', 'isabs': True, 'qh': 0.8, 'ql': 0.4}, {'f_agg': 'var', 'isabs': False, 'qh': 0.8, 'ql': 0.4}, {'f_agg': 'var', 'isabs': False, 'qh': 0.6, 'ql': 0.2}, {'f_agg': 'var', 'isabs': False, 'qh': 0.4, 'ql': 0.0}, {'f_agg': 'mean', 'isabs': True, 'qh': 0.2, 'ql': 0.0}, {'f_agg': 'var', 'isabs': True, 'qh': 0.2, 'ql': 0.0}, {'f_agg': 'var', 'isabs': True, 'qh': 0.6, 'ql': 0.4}, {'f_agg': 'var', 'isabs': False, 'qh': 0.6, 'ql': 0.4}, {'f_agg': 'var', 'isabs': True, 'qh': 0.4, 'ql': 0.0}, {'f_agg': 'var', 'isabs': False, 'qh': 0.6, 'ql': 0.0}, {'f_agg': 'mean', 'isabs': True, 'qh': 0.6, 'ql': 0.0}, {'f_agg': 'var', 'isabs': True, 'qh': 0.6, 'ql': 0.0}, {'f_agg': 'var', 'isabs': False, 'qh': 0.8, 'ql': 0.0}, {'f_agg': 'mean', 'isabs': True, 'qh': 0.8, 'ql': 0.0}, {'f_agg': 'var', 'isabs': True, 'qh': 0.8, 'ql': 0.0}, {'f_agg': 'var', 'isabs': False, 'qh': 1.0, 'ql': 0.0}, {'f_agg': 'mean', 'isabs': True, 'qh': 1.0, 'ql': 0.0}, {'f_agg': 'var', 'isabs': True, 'qh': 1.0, 'ql': 0.0}, {'f_agg': 'var', 'isabs': False, 'qh': 0.4, 'ql': 0.2}, {'f_agg': 'mean', 'isabs': True, 'qh': 0.4, 'ql': 0.2}, {'f_agg': 'mean', 'isabs': True, 'qh': 0.4, 'ql': 0.0}, {'f_agg': 'var', 'isabs': True, 'qh': 0.4, 'ql': 0.2}, {'f_agg': 'mean', 'isabs': True, 'qh': 0.6, 'ql': 0.2}, {'f_agg': 'var', 'isabs': True, 'qh': 0.6, 'ql': 0.2}, {'f_agg': 'var', 'isabs': False, 'qh': 0.8, 'ql': 0.2}, {'f_agg': 'mean', 'isabs': True, 'qh': 0.8, 'ql': 0.2}, {'f_agg': 'var', 'isabs': True, 'qh': 0.8, 'ql': 0.2}, {'f_agg': 'var', 'isabs': False, 'qh': 1.0, 'ql': 0.2}, {'f_agg': 'mean', 'isabs': True, 'qh': 1.0, 'ql': 0.2}, {'f_agg': 'var', 'isabs': True, 'qh': 1.0, 'ql': 0.2}, {'f_agg': 'mean', 'isabs': True, 'qh': 0.6, 'ql': 0.4}], 'fft_coefficient': [{'attr': 'abs', 'coeff': 6}, {'attr': 'abs', 'coeff': 7}, {'attr': 'abs', 'coeff': 8}, {'attr': 'abs', 'coeff': 9}, {'attr': 'abs', 'coeff': 10}, {'attr': 'abs', 'coeff': 11}, {'attr': 'abs', 'coeff': 12}, {'attr': 'abs', 'coeff': 14}, {'attr': 'abs', 'coeff': 15}, {'attr': 'abs', 'coeff': 16}, {'attr': 'abs', 'coeff': 17}, {'attr': 'abs', 'coeff': 18}, {'attr': 'abs', 'coeff': 5}, {'attr': 'abs', 'coeff': 19}, {'attr': 'abs', 'coeff': 21}, {'attr': 'abs', 'coeff': 22}, {'attr': 'abs', 'coeff': 23}, {'attr': 'abs', 'coeff': 13}, {'attr': 'abs', 'coeff': 24}, {'attr': 'abs', 'coeff': 25}, {'attr': 'abs', 'coeff': 27}, {'attr': 'abs', 'coeff': 0}, {'attr': 'abs', 'coeff': 1}, {'attr': 'abs', 'coeff': 34}, {'attr': 'abs', 'coeff': 3}, {'attr': 'abs', 'coeff': 28}, {'attr': 'abs', 'coeff': 29}, {'attr': 'abs', 'coeff': 30}, {'attr': 'abs', 'coeff': 31}, {'attr': 'abs', 'coeff': 32}, {'attr': 'abs', 'coeff': 33}, {'attr': 'abs', 'coeff': 20}, {'attr': 'abs', 'coeff': 4}, {'attr': 'abs', 'coeff': 2}, {'attr': 'abs', 'coeff': 26}, {'attr': 'abs', 'coeff': 50}, {'attr': 'abs', 'coeff': 49}, {'attr': 'abs', 'coeff': 48}, {'attr': 'abs', 'coeff': 47}, {'attr': 'abs', 'coeff': 46}, {'attr': 'abs', 'coeff': 45}, {'attr': 'abs', 'coeff': 44}, {'attr': 'abs', 'coeff': 35}, {'attr': 'abs', 'coeff': 42}, {'attr': 'abs', 'coeff': 36}, {'attr': 'abs', 'coeff': 38}, {'attr': 'abs', 'coeff': 39}, {'attr': 'abs', 'coeff': 40}, {'attr': 'abs', 'coeff': 37}, {'attr': 'abs', 'coeff': 41}, {'attr': 'abs', 'coeff': 43}], 'binned_entropy': [{'max_bins': 10}], 'agg_linear_trend': [{'attr': 'intercept', 'chunk_len': 5, 'f_agg': 'var'}, {'attr': 'stderr', 'chunk_len': 10, 'f_agg': 'min'}, {'attr': 'stderr', 'chunk_len': 5, 'f_agg': 'mean'}, {'attr': 'stderr', 'chunk_len': 5, 'f_agg': 'min'}, {'attr': 'intercept', 'chunk_len': 50, 'f_agg': 'var'}, {'attr': 'stderr', 'chunk_len': 10, 'f_agg': 'mean'}, {'attr': 'intercept', 'chunk_len': 50, 'f_agg': 'max'}, {'attr': 'intercept', 'chunk_len': 10, 'f_agg': 'var'}, {'attr': 'stderr', 'chunk_len': 5, 'f_agg': 'var'}, {'attr': 'stderr', 'chunk_len': 10, 'f_agg': 'var'}, {'attr': 'stderr', 'chunk_len': 10, 'f_agg': 'max'}, {'attr': 'stderr', 'chunk_len': 5, 'f_agg': 'max'}], 'friedrich_coefficients': [{'coeff': 0, 'm': 3, 'r': 30}], 'spkt_welch_density': [{'coeff': 2}, {'coeff': 5}, {'coeff': 8}], 'ar_coefficient': [{'coeff': 1, 'k': 10}, {'coeff': 2, 'k': 10}], 'max_langevin_fixed_point': [{'m': 3, 'r': 30}], 'linear_trend': [{'attr': 'stderr'}], 'root_mean_square': None, 'absolute_sum_of_changes': None, 'partial_autocorrelation': [{'lag': 1}, {'lag': 2}], 'maximum': None, 'variance': None, 'absolute_maximum': None, 'cid_ce': [{'normalize': False}], 'quantile': [{'q': 0.7}, {'q': 0.8}, {'q': 0.9}], 'minimum': None, 'standard_deviation': None, 'number_peaks': [{'n': 1}], 'abs_energy': None, 'mean_abs_change': None, 'lempel_ziv_complexity': [{'bins': 5}, {'bins': 10}, {'bins': 100}]}, 'acceleration': {'spkt_welch_density': [{'coeff': 5}, {'coeff': 8}, {'coeff': 2}], 'change_quantiles': [{'f_agg': 'var', 'isabs': False, 'qh': 0.6, 'ql': 0.0}, {'f_agg': 'mean', 'isabs': True, 'qh': 0.6, 'ql': 0.0}, {'f_agg': 'var', 'isabs': True, 'qh': 0.4, 'ql': 0.0}, {'f_agg': 'mean', 'isabs': True, 'qh': 0.4, 'ql': 0.0}, {'f_agg': 'var', 'isabs': False, 'qh': 0.2, 'ql': 0.0}, {'f_agg': 'mean', 'isabs': True, 'qh': 0.2, 'ql': 0.0}, {'f_agg': 'var', 'isabs': True, 'qh': 0.2, 'ql': 0.0}, {'f_agg': 'var', 'isabs': False, 'qh': 0.4, 'ql': 0.0}, {'f_agg': 'mean', 'isabs': True, 'qh': 0.8, 'ql': 0.0}, {'f_agg': 'var', 'isabs': False, 'qh': 0.8, 'ql': 0.0}, {'f_agg': 'var', 'isabs': True, 'qh': 0.6, 'ql': 0.0}, {'f_agg': 'var', 'isabs': True, 'qh': 0.8, 'ql': 0.0}, {'f_agg': 'var', 'isabs': True, 'qh': 0.6, 'ql': 0.2}, {'f_agg': 'var', 'isabs': False, 'qh': 0.8, 'ql': 0.2}, {'f_agg': 'var', 'isabs': False, 'qh': 1.0, 'ql': 0.8}, {'f_agg': 'var', 'isabs': True, 'qh': 1.0, 'ql': 0.8}, {'f_agg': 'var', 'isabs': True, 'qh': 1.0, 'ql': 0.6}, {'f_agg': 'mean', 'isabs': True, 'qh': 1.0, 'ql': 0.6}, {'f_agg': 'var', 'isabs': False, 'qh': 1.0, 'ql': 0.6}, {'f_agg': 'var', 'isabs': True, 'qh': 0.8, 'ql': 0.6}, {'f_agg': 'var', 'isabs': False, 'qh': 1.0, 'ql': 0.0}, {'f_agg': 'mean', 'isabs': True, 'qh': 1.0, 'ql': 0.0}, {'f_agg': 'mean', 'isabs': True, 'qh': 0.6, 'ql': 0.2}, {'f_agg': 'var', 'isabs': False, 'qh': 0.6, 'ql': 0.2}, {'f_agg': 'var', 'isabs': True, 'qh': 0.4, 'ql': 0.2}, {'f_agg': 'mean', 'isabs': True, 'qh': 0.4, 'ql': 0.2}, {'f_agg': 'var', 'isabs': False, 'qh': 0.4, 'ql': 0.2}, {'f_agg': 'var', 'isabs': True, 'qh': 1.0, 'ql': 0.0}, {'f_agg': 'mean', 'isabs': True, 'qh': 0.8, 'ql': 0.6}, {'f_agg': 'var', 'isabs': False, 'qh': 0.8, 'ql': 0.6}, {'f_agg': 'var', 'isabs': True, 'qh': 1.0, 'ql': 0.4}, {'f_agg': 'mean', 'isabs': True, 'qh': 1.0, 'ql': 0.4}, {'f_agg': 'var', 'isabs': False, 'qh': 1.0, 'ql': 0.4}, {'f_agg': 'var', 'isabs': True, 'qh': 0.8, 'ql': 0.4}, {'f_agg': 'mean', 'isabs': True, 'qh': 0.8, 'ql': 0.4}, {'f_agg': 'var', 'isabs': False, 'qh': 0.8, 'ql': 0.4}, {'f_agg': 'var', 'isabs': True, 'qh': 0.6, 'ql': 0.4}, {'f_agg': 'mean', 'isabs': True, 'qh': 0.6, 'ql': 0.4}, {'f_agg': 'var', 'isabs': False, 'qh': 0.6, 'ql': 0.4}, {'f_agg': 'var', 'isabs': True, 'qh': 1.0, 'ql': 0.2}, {'f_agg': 'mean', 'isabs': True, 'qh': 1.0, 'ql': 0.2}, {'f_agg': 'var', 'isabs': True, 'qh': 0.8, 'ql': 0.2}, {'f_agg': 'mean', 'isabs': True, 'qh': 0.8, 'ql': 0.2}, {'f_agg': 'mean', 'isabs': True, 'qh': 1.0, 'ql': 0.8}, {'f_agg': 'var', 'isabs': False, 'qh': 1.0, 'ql': 0.2}], 'mean_abs_change': None, 'cid_ce': [{'normalize': False}, {'normalize': True}], 'absolute_maximum': None, 'standard_deviation': None, 'variance': None, 'absolute_sum_of_changes': None, 'minimum': None}, 'speed_kmh': {'change_quantiles': [{'f_agg': 'var', 'isabs': True, 'qh': 0.6, 'ql': 0.2}, {'f_agg': 'var', 'isabs': False, 'qh': 0.8, 'ql': 0.2}, {'f_agg': 'var', 'isabs': True, 'qh': 1.0, 'ql': 0.2}, {'f_agg': 'var', 'isabs': True, 'qh': 1.0, 'ql': 0.0}, {'f_agg': 'var', 'isabs': True, 'qh': 0.6, 'ql': 0.4}, {'f_agg': 'var', 'isabs': False, 'qh': 1.0, 'ql': 0.0}], 'agg_linear_trend': [{'attr': 'stderr', 'chunk_len': 10, 'f_agg': 'var'}, {'attr': 'stderr', 'chunk_len': 10, 'f_agg': 'mean'}, {'attr': 'stderr', 'chunk_len': 10, 'f_agg': 'min'}]}, 'x_gyro_clean': {'fft_aggregated': [{'aggtype': 'variance'}, {'aggtype': 'skew'}, {'aggtype': 'kurtosis'}, {'aggtype': 'centroid'}], 'change_quantiles': [{'f_agg': 'var', 'isabs': False, 'qh': 1.0, 'ql': 0.0}, {'f_agg': 'mean', 'isabs': True, 'qh': 1.0, 'ql': 0.0}, {'f_agg': 'var', 'isabs': True, 'qh': 1.0, 'ql': 0.0}, {'f_agg': 'var', 'isabs': False, 'qh': 0.4, 'ql': 0.2}, {'f_agg': 'mean', 'isabs': True, 'qh': 0.4, 'ql': 0.2}, {'f_agg': 'var', 'isabs': True, 'qh': 0.4, 'ql': 0.2}, {'f_agg': 'var', 'isabs': False, 'qh': 0.6, 'ql': 0.2}, {'f_agg': 'mean', 'isabs': True, 'qh': 0.6, 'ql': 0.2}, {'f_agg': 'var', 'isabs': True, 'qh': 0.6, 'ql': 0.2}, {'f_agg': 'var', 'isabs': False, 'qh': 0.8, 'ql': 0.2}, {'f_agg': 'var', 'isabs': True, 'qh': 0.8, 'ql': 0.0}, {'f_agg': 'mean', 'isabs': True, 'qh': 0.8, 'ql': 0.2}, {'f_agg': 'mean', 'isabs': True, 'qh': 0.8, 'ql': 0.0}, {'f_agg': 'var', 'isabs': False, 'qh': 0.8, 'ql': 0.0}, {'f_agg': 'var', 'isabs': True, 'qh': 0.6, 'ql': 0.0}, {'f_agg': 'var', 'isabs': False, 'qh': 0.2, 'ql': 0.0}, {'f_agg': 'mean', 'isabs': True, 'qh': 0.2, 'ql': 0.0}, {'f_agg': 'var', 'isabs': True, 'qh': 0.2, 'ql': 0.0}, {'f_agg': 'var', 'isabs': False, 'qh': 0.4, 'ql': 0.0}, {'f_agg': 'mean', 'isabs': True, 'qh': 0.4, 'ql': 0.0}, {'f_agg': 'var', 'isabs': True, 'qh': 0.4, 'ql': 0.0}, {'f_agg': 'var', 'isabs': False, 'qh': 0.6, 'ql': 0.0}, {'f_agg': 'mean', 'isabs': True, 'qh': 0.6, 'ql': 0.0}], 'spkt_welch_density': [{'coeff': 2}, {'coeff': 5}, {'coeff': 8}], 'quantile': [{'q': 0.8}, {'q': 0.9}, {'q': 0.1}, {'q': 0.2}], 'autocorrelation': [{'lag': 1}], 'ar_coefficient': [{'coeff': 1, 'k': 10}, {'coeff': 2, 'k': 10}, {'coeff': 3, 'k': 10}], 'partial_autocorrelation': [{'lag': 1}, {'lag': 2}], 'number_cwt_peaks': [{'n': 1}], 'number_peaks': [{'n': 1}, {'n': 3}, {'n': 5}], 'binned_entropy': [{'max_bins': 10}], 'approximate_entropy': [{'m': 2, 'r': 0.1}, {'m': 2, 'r': 0.3}]}, 'x_acc_clean': {'spkt_welch_density': [{'coeff': 5}, {'coeff': 8}], 'change_quantiles': [{'f_agg': 'mean', 'isabs': True, 'qh': 1.0, 'ql': 0.0}, {'f_agg': 'var', 'isabs': False, 'qh': 1.0, 'ql': 0.0}, {'f_agg': 'var', 'isabs': True, 'qh': 0.8, 'ql': 0.0}, {'f_agg': 'var', 'isabs': False, 'qh': 0.8, 'ql': 0.6}, {'f_agg': 'var', 'isabs': True, 'qh': 1.0, 'ql': 0.4}, {'f_agg': 'var', 'isabs': True, 'qh': 0.8, 'ql': 0.6}, {'f_agg': 'var', 'isabs': True, 'qh': 1.0, 'ql': 0.0}, {'f_agg': 'mean', 'isabs': True, 'qh': 0.8, 'ql': 0.0}, {'f_agg': 'var', 'isabs': False, 'qh': 0.8, 'ql': 0.0}, {'f_agg': 'var', 'isabs': True, 'qh': 0.6, 'ql': 0.0}, {'f_agg': 'mean', 'isabs': True, 'qh': 0.6, 'ql': 0.0}, {'f_agg': 'var', 'isabs': True, 'qh': 0.4, 'ql': 0.0}, {'f_agg': 'mean', 'isabs': True, 'qh': 0.4, 'ql': 0.0}, {'f_agg': 'var', 'isabs': False, 'qh': 0.4, 'ql': 0.0}, {'f_agg': 'var', 'isabs': True, 'qh': 0.2, 'ql': 0.0}, {'f_agg': 'mean', 'isabs': True, 'qh': 0.2, 'ql': 0.0}, {'f_agg': 'var', 'isabs': False, 'qh': 0.2, 'ql': 0.0}, {'f_agg': 'var', 'isabs': False, 'qh': 0.6, 'ql': 0.0}, {'f_agg': 'mean', 'isabs': True, 'qh': 0.8, 'ql': 0.6}], 'ar_coefficient': [{'coeff': 2, 'k': 10}, {'coeff': 1, 'k': 10}], 'fft_coefficient': [{'attr': 'abs', 'coeff': 7}]}, 'y_acc_clean': {'change_quantiles': [{'f_agg': 'var', 'isabs': True, 'qh': 1.0, 'ql': 0.4}, {'f_agg': 'mean', 'isabs': True, 'qh': 1.0, 'ql': 0.4}, {'f_agg': 'var', 'isabs': False, 'qh': 0.8, 'ql': 0.6}, {'f_agg': 'var', 'isabs': False, 'qh': 1.0, 'ql': 0.8}, {'f_agg': 'mean', 'isabs': True, 'qh': 0.8, 'ql': 0.6}, {'f_agg': 'var', 'isabs': True, 'qh': 0.8, 'ql': 0.6}, {'f_agg': 'var', 'isabs': False, 'qh': 1.0, 'ql': 0.6}, {'f_agg': 'var', 'isabs': True, 'qh': 1.0, 'ql': 0.6}, {'f_agg': 'mean', 'isabs': True, 'qh': 1.0, 'ql': 0.6}, {'f_agg': 'mean', 'isabs': True, 'qh': 1.0, 'ql': 0.8}, {'f_agg': 'var', 'isabs': True, 'qh': 1.0, 'ql': 0.8}, {'f_agg': 'mean', 'isabs': True, 'qh': 0.8, 'ql': 0.0}, {'f_agg': 'var', 'isabs': False, 'qh': 0.8, 'ql': 0.0}, {'f_agg': 'var', 'isabs': True, 'qh': 0.6, 'ql': 0.0}, {'f_agg': 'var', 'isabs': True, 'qh': 0.8, 'ql': 0.0}, {'f_agg': 'mean', 'isabs': True, 'qh': 0.6, 'ql': 0.0}, {'f_agg': 'var', 'isabs': True, 'qh': 0.4, 'ql': 0.0}, {'f_agg': 'mean', 'isabs': True, 'qh': 0.4, 'ql': 0.0}, {'f_agg': 'var', 'isabs': False, 'qh': 0.4, 'ql': 0.0}, {'f_agg': 'var', 'isabs': True, 'qh': 0.2, 'ql': 0.0}, {'f_agg': 'var', 'isabs': False, 'qh': 0.6, 'ql': 0.2}, {'f_agg': 'mean', 'isabs': True, 'qh': 0.6, 'ql': 0.2}, {'f_agg': 'var', 'isabs': False, 'qh': 0.6, 'ql': 0.0}, {'f_agg': 'var', 'isabs': False, 'qh': 1.0, 'ql': 0.0}, {'f_agg': 'mean', 'isabs': True, 'qh': 1.0, 'ql': 0.0}, {'f_agg': 'var', 'isabs': True, 'qh': 1.0, 'ql': 0.0}, {'f_agg': 'var', 'isabs': True, 'qh': 0.4, 'ql': 0.2}, {'f_agg': 'mean', 'isabs': True, 'qh': 0.4, 'ql': 0.2}, {'f_agg': 'var', 'isabs': False, 'qh': 0.4, 'ql': 0.2}, {'f_agg': 'var', 'isabs': True, 'qh': 0.8, 'ql': 0.4}], 'agg_linear_trend': [{'attr': 'intercept', 'chunk_len': 50, 'f_agg': 'var'}, {'attr': 'stderr', 'chunk_len': 10, 'f_agg': 'var'}, {'attr': 'intercept', 'chunk_len': 5, 'f_agg': 'var'}, {'attr': 'stderr', 'chunk_len': 5, 'f_agg': 'max'}, {'attr': 'stderr', 'chunk_len': 5, 'f_agg': 'min'}, {'attr': 'stderr', 'chunk_len': 5, 'f_agg': 'mean'}, {'attr': 'stderr', 'chunk_len': 5, 'f_agg': 'var'}, {'attr': 'stderr', 'chunk_len': 10, 'f_agg': 'max'}, {'attr': 'stderr', 'chunk_len': 10, 'f_agg': 'min'}, {'attr': 'stderr', 'chunk_len': 10, 'f_agg': 'mean'}, {'attr': 'intercept', 'chunk_len': 10, 'f_agg': 'var'}], 'fft_coefficient': [{'attr': 'abs', 'coeff': 7}, {'attr': 'abs', 'coeff': 8}, {'attr': 'abs', 'coeff': 9}, {'attr': 'abs', 'coeff': 10}, {'attr': 'abs', 'coeff': 4}, {'attr': 'abs', 'coeff': 6}, {'attr': 'abs', 'coeff': 5}], 'linear_trend': [{'attr': 'stderr'}]}}\n",
      "chunk id 1\n",
      "x (102400, 100, 8)\n",
      "y (102400, 6)\n",
      "(10240000, 8)\n",
      "(10240000, 10)\n"
     ]
    },
    {
     "name": "stderr",
     "output_type": "stream",
     "text": [
      "Feature Extraction: 100%|██████████| 60/60 [16:41<00:00, 16.70s/it]  \n"
     ]
    },
    {
     "name": "stdout",
     "output_type": "stream",
     "text": [
      "extracted shape (102400, 500)\n",
      "chunk id 2\n",
      "x (102400, 100, 8)\n",
      "y (102400, 6)\n",
      "(10240000, 8)\n",
      "(10240000, 10)\n"
     ]
    },
    {
     "name": "stderr",
     "output_type": "stream",
     "text": [
      "Feature Extraction: 100%|██████████| 60/60 [16:15<00:00, 16.26s/it]  \n"
     ]
    },
    {
     "name": "stdout",
     "output_type": "stream",
     "text": [
      "extracted shape (102400, 500)\n",
      "chunk id 3\n",
      "x (102400, 100, 8)\n",
      "y (102400, 6)\n",
      "(10240000, 8)\n",
      "(10240000, 10)\n"
     ]
    },
    {
     "name": "stderr",
     "output_type": "stream",
     "text": [
      "Feature Extraction: 100%|██████████| 60/60 [16:44<00:00, 16.73s/it]  \n"
     ]
    },
    {
     "name": "stdout",
     "output_type": "stream",
     "text": [
      "extracted shape (102400, 500)\n",
      "chunk id 4\n",
      "x (102400, 100, 8)\n",
      "y (102400, 6)\n",
      "(10240000, 8)\n",
      "(10240000, 10)\n"
     ]
    },
    {
     "name": "stderr",
     "output_type": "stream",
     "text": [
      "Feature Extraction: 100%|██████████| 60/60 [16:44<00:00, 16.74s/it]  \n"
     ]
    },
    {
     "name": "stdout",
     "output_type": "stream",
     "text": [
      "extracted shape (102400, 500)\n",
      "chunk id 5\n",
      "x (64568, 100, 8)\n",
      "y (64568, 6)\n",
      "(6456800, 8)\n",
      "(6456800, 10)\n"
     ]
    },
    {
     "name": "stderr",
     "output_type": "stream",
     "text": [
      "Feature Extraction: 100%|██████████| 60/60 [09:55<00:00,  9.93s/it] \n"
     ]
    },
    {
     "name": "stdout",
     "output_type": "stream",
     "text": [
      "extracted shape (64568, 500)\n",
      "data files ['chunk_1.npy', 'chunk_2.npy', 'chunk_3.npy', 'chunk_4.npy']\n",
      "chunk id 1\n",
      "x (102400, 100, 8)\n",
      "chunk id 2\n",
      "x (102400, 100, 8)\n",
      "chunk id 3\n",
      "x (102400, 100, 8)\n",
      "chunk id 4\n",
      "x (91068, 100, 8)\n",
      "y (16030,) (16030, 100, 8)\n",
      "(1603000, 8)\n",
      "Extracting feature only... 1603000\n"
     ]
    },
    {
     "name": "stderr",
     "output_type": "stream",
     "text": [
      "Feature Extraction: 100%|██████████| 60/60 [11:09<00:00, 11.16s/it]  \n"
     ]
    },
    {
     "name": "stdout",
     "output_type": "stream",
     "text": [
      "{'y_acc_clean': {'linear_trend': [{'attr': 'stderr'}], 'agg_linear_trend': [{'attr': 'stderr', 'chunk_len': 5, 'f_agg': 'max'}, {'attr': 'stderr', 'chunk_len': 5, 'f_agg': 'min'}, {'attr': 'stderr', 'chunk_len': 5, 'f_agg': 'mean'}, {'attr': 'intercept', 'chunk_len': 50, 'f_agg': 'var'}, {'attr': 'stderr', 'chunk_len': 10, 'f_agg': 'max'}, {'attr': 'stderr', 'chunk_len': 10, 'f_agg': 'mean'}, {'attr': 'stderr', 'chunk_len': 10, 'f_agg': 'min'}, {'attr': 'stderr', 'chunk_len': 10, 'f_agg': 'var'}, {'attr': 'stderr', 'chunk_len': 5, 'f_agg': 'var'}, {'attr': 'intercept', 'chunk_len': 10, 'f_agg': 'var'}, {'attr': 'intercept', 'chunk_len': 5, 'f_agg': 'var'}], 'variance': None, 'standard_deviation': None, 'change_quantiles': [{'f_agg': 'mean', 'isabs': True, 'qh': 0.8, 'ql': 0.6}, {'f_agg': 'var', 'isabs': False, 'qh': 0.8, 'ql': 0.6}, {'f_agg': 'mean', 'isabs': True, 'qh': 0.8, 'ql': 0.4}, {'f_agg': 'mean', 'isabs': True, 'qh': 0.8, 'ql': 0.2}, {'f_agg': 'mean', 'isabs': True, 'qh': 0.6, 'ql': 0.2}, {'f_agg': 'mean', 'isabs': True, 'qh': 0.4, 'ql': 0.2}, {'f_agg': 'var', 'isabs': False, 'qh': 0.4, 'ql': 0.2}, {'f_agg': 'var', 'isabs': False, 'qh': 0.8, 'ql': 0.4}, {'f_agg': 'var', 'isabs': False, 'qh': 0.6, 'ql': 0.4}, {'f_agg': 'var', 'isabs': False, 'qh': 0.6, 'ql': 0.2}, {'f_agg': 'var', 'isabs': False, 'qh': 0.8, 'ql': 0.2}, {'f_agg': 'mean', 'isabs': True, 'qh': 0.6, 'ql': 0.4}, {'f_agg': 'mean', 'isabs': True, 'qh': 0.8, 'ql': 0.0}, {'f_agg': 'mean', 'isabs': True, 'qh': 1.0, 'ql': 0.2}, {'f_agg': 'mean', 'isabs': True, 'qh': 0.6, 'ql': 0.0}, {'f_agg': 'mean', 'isabs': True, 'qh': 1.0, 'ql': 0.4}, {'f_agg': 'mean', 'isabs': True, 'qh': 0.4, 'ql': 0.0}, {'f_agg': 'mean', 'isabs': True, 'qh': 1.0, 'ql': 0.0}, {'f_agg': 'var', 'isabs': False, 'qh': 1.0, 'ql': 0.2}, {'f_agg': 'var', 'isabs': False, 'qh': 0.8, 'ql': 0.0}, {'f_agg': 'mean', 'isabs': True, 'qh': 1.0, 'ql': 0.6}, {'f_agg': 'var', 'isabs': False, 'qh': 1.0, 'ql': 0.4}, {'f_agg': 'var', 'isabs': False, 'qh': 1.0, 'ql': 0.6}, {'f_agg': 'var', 'isabs': False, 'qh': 0.6, 'ql': 0.0}, {'f_agg': 'var', 'isabs': False, 'qh': 1.0, 'ql': 0.0}, {'f_agg': 'var', 'isabs': False, 'qh': 0.4, 'ql': 0.0}, {'f_agg': 'var', 'isabs': True, 'qh': 0.8, 'ql': 0.6}, {'f_agg': 'var', 'isabs': True, 'qh': 0.4, 'ql': 0.2}, {'f_agg': 'mean', 'isabs': True, 'qh': 0.2, 'ql': 0.0}, {'f_agg': 'var', 'isabs': False, 'qh': 1.0, 'ql': 0.8}, {'f_agg': 'var', 'isabs': True, 'qh': 0.6, 'ql': 0.4}, {'f_agg': 'mean', 'isabs': True, 'qh': 1.0, 'ql': 0.8}, {'f_agg': 'var', 'isabs': True, 'qh': 0.8, 'ql': 0.4}, {'f_agg': 'var', 'isabs': True, 'qh': 1.0, 'ql': 0.6}, {'f_agg': 'var', 'isabs': False, 'qh': 0.2, 'ql': 0.0}, {'f_agg': 'var', 'isabs': True, 'qh': 0.6, 'ql': 0.2}, {'f_agg': 'var', 'isabs': True, 'qh': 1.0, 'ql': 0.4}, {'f_agg': 'var', 'isabs': True, 'qh': 0.8, 'ql': 0.2}, {'f_agg': 'var', 'isabs': True, 'qh': 1.0, 'ql': 0.8}, {'f_agg': 'var', 'isabs': True, 'qh': 0.4, 'ql': 0.0}, {'f_agg': 'var', 'isabs': True, 'qh': 1.0, 'ql': 0.2}, {'f_agg': 'var', 'isabs': True, 'qh': 0.2, 'ql': 0.0}, {'f_agg': 'var', 'isabs': True, 'qh': 0.6, 'ql': 0.0}, {'f_agg': 'var', 'isabs': True, 'qh': 0.8, 'ql': 0.0}, {'f_agg': 'var', 'isabs': True, 'qh': 1.0, 'ql': 0.0}], 'fft_coefficient': [{'attr': 'abs', 'coeff': 1}, {'attr': 'abs', 'coeff': 2}, {'attr': 'abs', 'coeff': 3}, {'attr': 'abs', 'coeff': 4}, {'attr': 'abs', 'coeff': 40}, {'attr': 'abs', 'coeff': 5}, {'attr': 'abs', 'coeff': 39}, {'attr': 'abs', 'coeff': 36}, {'attr': 'abs', 'coeff': 22}, {'attr': 'abs', 'coeff': 47}, {'attr': 'abs', 'coeff': 11}, {'attr': 'abs', 'coeff': 19}, {'attr': 'abs', 'coeff': 6}, {'attr': 'abs', 'coeff': 18}, {'attr': 'abs', 'coeff': 30}, {'attr': 'abs', 'coeff': 23}, {'attr': 'abs', 'coeff': 17}, {'attr': 'abs', 'coeff': 16}, {'attr': 'abs', 'coeff': 31}, {'attr': 'abs', 'coeff': 15}, {'attr': 'abs', 'coeff': 34}, {'attr': 'abs', 'coeff': 10}, {'attr': 'abs', 'coeff': 24}, {'attr': 'abs', 'coeff': 21}, {'attr': 'abs', 'coeff': 48}, {'attr': 'abs', 'coeff': 26}, {'attr': 'abs', 'coeff': 49}, {'attr': 'abs', 'coeff': 28}, {'attr': 'abs', 'coeff': 45}, {'attr': 'abs', 'coeff': 29}, {'attr': 'abs', 'coeff': 14}, {'attr': 'abs', 'coeff': 33}, {'attr': 'abs', 'coeff': 46}, {'attr': 'abs', 'coeff': 13}, {'attr': 'abs', 'coeff': 12}, {'attr': 'abs', 'coeff': 20}, {'attr': 'abs', 'coeff': 7}, {'attr': 'abs', 'coeff': 37}, {'attr': 'abs', 'coeff': 32}, {'attr': 'abs', 'coeff': 44}, {'attr': 'abs', 'coeff': 35}, {'attr': 'abs', 'coeff': 41}, {'attr': 'abs', 'coeff': 9}, {'attr': 'abs', 'coeff': 38}, {'attr': 'abs', 'coeff': 43}, {'attr': 'abs', 'coeff': 8}, {'attr': 'abs', 'coeff': 25}, {'attr': 'abs', 'coeff': 27}, {'attr': 'abs', 'coeff': 42}, {'attr': 'abs', 'coeff': 50}], 'spkt_welch_density': [{'coeff': 2}], 'mean_abs_change': None, 'absolute_sum_of_changes': None, 'permutation_entropy': [{'dimension': 7, 'tau': 1}, {'dimension': 6, 'tau': 1}, {'dimension': 5, 'tau': 1}, {'dimension': 4, 'tau': 1}, {'dimension': 3, 'tau': 1}], 'cid_ce': [{'normalize': False}, {'normalize': True}], 'number_peaks': [{'n': 3}, {'n': 5}, {'n': 1}], 'absolute_maximum': None, 'mean_n_absolute_max': [{'number_of_maxima': 7}], 'root_mean_square': None, 'abs_energy': None, 'partial_autocorrelation': [{'lag': 1}], 'autocorrelation': [{'lag': 1}]}, 'speed_kmh': {'cwt_coefficients': [{'coeff': 12, 'w': 5, 'widths': (2, 5, 10, 20)}, {'coeff': 12, 'w': 10, 'widths': (2, 5, 10, 20)}, {'coeff': 12, 'w': 20, 'widths': (2, 5, 10, 20)}, {'coeff': 11, 'w': 20, 'widths': (2, 5, 10, 20)}, {'coeff': 13, 'w': 5, 'widths': (2, 5, 10, 20)}, {'coeff': 13, 'w': 10, 'widths': (2, 5, 10, 20)}, {'coeff': 13, 'w': 20, 'widths': (2, 5, 10, 20)}, {'coeff': 10, 'w': 5, 'widths': (2, 5, 10, 20)}, {'coeff': 14, 'w': 5, 'widths': (2, 5, 10, 20)}, {'coeff': 3, 'w': 5, 'widths': (2, 5, 10, 20)}, {'coeff': 14, 'w': 10, 'widths': (2, 5, 10, 20)}, {'coeff': 11, 'w': 10, 'widths': (2, 5, 10, 20)}, {'coeff': 11, 'w': 5, 'widths': (2, 5, 10, 20)}, {'coeff': 11, 'w': 2, 'widths': (2, 5, 10, 20)}, {'coeff': 10, 'w': 20, 'widths': (2, 5, 10, 20)}, {'coeff': 10, 'w': 10, 'widths': (2, 5, 10, 20)}, {'coeff': 3, 'w': 10, 'widths': (2, 5, 10, 20)}, {'coeff': 3, 'w': 2, 'widths': (2, 5, 10, 20)}, {'coeff': 7, 'w': 2, 'widths': (2, 5, 10, 20)}, {'coeff': 7, 'w': 5, 'widths': (2, 5, 10, 20)}, {'coeff': 4, 'w': 2, 'widths': (2, 5, 10, 20)}, {'coeff': 7, 'w': 10, 'widths': (2, 5, 10, 20)}, {'coeff': 7, 'w': 20, 'widths': (2, 5, 10, 20)}, {'coeff': 8, 'w': 5, 'widths': (2, 5, 10, 20)}, {'coeff': 8, 'w': 10, 'widths': (2, 5, 10, 20)}, {'coeff': 8, 'w': 20, 'widths': (2, 5, 10, 20)}, {'coeff': 9, 'w': 2, 'widths': (2, 5, 10, 20)}, {'coeff': 9, 'w': 5, 'widths': (2, 5, 10, 20)}, {'coeff': 8, 'w': 2, 'widths': (2, 5, 10, 20)}, {'coeff': 6, 'w': 5, 'widths': (2, 5, 10, 20)}, {'coeff': 6, 'w': 20, 'widths': (2, 5, 10, 20)}, {'coeff': 6, 'w': 10, 'widths': (2, 5, 10, 20)}, {'coeff': 4, 'w': 5, 'widths': (2, 5, 10, 20)}, {'coeff': 6, 'w': 2, 'widths': (2, 5, 10, 20)}, {'coeff': 10, 'w': 2, 'widths': (2, 5, 10, 20)}, {'coeff': 14, 'w': 20, 'widths': (2, 5, 10, 20)}, {'coeff': 9, 'w': 10, 'widths': (2, 5, 10, 20)}, {'coeff': 3, 'w': 20, 'widths': (2, 5, 10, 20)}, {'coeff': 4, 'w': 10, 'widths': (2, 5, 10, 20)}, {'coeff': 5, 'w': 2, 'widths': (2, 5, 10, 20)}, {'coeff': 5, 'w': 5, 'widths': (2, 5, 10, 20)}, {'coeff': 5, 'w': 10, 'widths': (2, 5, 10, 20)}, {'coeff': 5, 'w': 20, 'widths': (2, 5, 10, 20)}, {'coeff': 9, 'w': 20, 'widths': (2, 5, 10, 20)}, {'coeff': 4, 'w': 20, 'widths': (2, 5, 10, 20)}, {'coeff': 0, 'w': 20, 'widths': (2, 5, 10, 20)}, {'coeff': 1, 'w': 2, 'widths': (2, 5, 10, 20)}, {'coeff': 1, 'w': 5, 'widths': (2, 5, 10, 20)}, {'coeff': 1, 'w': 10, 'widths': (2, 5, 10, 20)}, {'coeff': 1, 'w': 20, 'widths': (2, 5, 10, 20)}, {'coeff': 2, 'w': 2, 'widths': (2, 5, 10, 20)}, {'coeff': 2, 'w': 10, 'widths': (2, 5, 10, 20)}, {'coeff': 2, 'w': 5, 'widths': (2, 5, 10, 20)}, {'coeff': 2, 'w': 20, 'widths': (2, 5, 10, 20)}, {'coeff': 12, 'w': 2, 'widths': (2, 5, 10, 20)}], 'agg_linear_trend': [{'attr': 'intercept', 'chunk_len': 5, 'f_agg': 'mean'}, {'attr': 'intercept', 'chunk_len': 5, 'f_agg': 'min'}, {'attr': 'intercept', 'chunk_len': 10, 'f_agg': 'max'}, {'attr': 'intercept', 'chunk_len': 5, 'f_agg': 'max'}, {'attr': 'intercept', 'chunk_len': 10, 'f_agg': 'mean'}, {'attr': 'intercept', 'chunk_len': 10, 'f_agg': 'min'}, {'attr': 'intercept', 'chunk_len': 50, 'f_agg': 'mean'}, {'attr': 'intercept', 'chunk_len': 50, 'f_agg': 'min'}, {'attr': 'intercept', 'chunk_len': 50, 'f_agg': 'max'}], 'max_langevin_fixed_point': [{'m': 3, 'r': 30}], 'linear_trend': [{'attr': 'intercept'}], 'fft_coefficient': [{'attr': 'real', 'coeff': 0}, {'attr': 'abs', 'coeff': 0}], 'quantile': [{'q': 0.7}, {'q': 0.4}, {'q': 0.3}, {'q': 0.2}, {'q': 0.1}, {'q': 0.9}, {'q': 0.6}, {'q': 0.8}], 'mean_n_absolute_max': [{'number_of_maxima': 7}], 'c3': [{'lag': 3}, {'lag': 2}, {'lag': 1}], 'benford_correlation': None, 'minimum': None, 'maximum': None, 'root_mean_square': None, 'mean': None, 'median': None, 'abs_energy': None, 'sum_values': None, 'absolute_maximum': None, 'number_cwt_peaks': [{'n': 1}], 'fft_aggregated': [{'aggtype': 'skew'}, {'aggtype': 'kurtosis'}], 'range_count': [{'max': 1, 'min': -1}]}, 'x_acc_clean': {'spkt_welch_density': [{'coeff': 2}], 'agg_linear_trend': [{'attr': 'stderr', 'chunk_len': 10, 'f_agg': 'max'}, {'attr': 'stderr', 'chunk_len': 10, 'f_agg': 'min'}, {'attr': 'stderr', 'chunk_len': 10, 'f_agg': 'mean'}, {'attr': 'stderr', 'chunk_len': 10, 'f_agg': 'var'}, {'attr': 'stderr', 'chunk_len': 5, 'f_agg': 'mean'}, {'attr': 'stderr', 'chunk_len': 5, 'f_agg': 'min'}, {'attr': 'stderr', 'chunk_len': 5, 'f_agg': 'max'}, {'attr': 'intercept', 'chunk_len': 50, 'f_agg': 'var'}, {'attr': 'stderr', 'chunk_len': 5, 'f_agg': 'var'}, {'attr': 'intercept', 'chunk_len': 10, 'f_agg': 'var'}, {'attr': 'intercept', 'chunk_len': 5, 'f_agg': 'var'}], 'fft_coefficient': [{'attr': 'abs', 'coeff': 1}, {'attr': 'abs', 'coeff': 2}, {'attr': 'abs', 'coeff': 3}, {'attr': 'abs', 'coeff': 4}, {'attr': 'abs', 'coeff': 15}, {'attr': 'abs', 'coeff': 14}, {'attr': 'abs', 'coeff': 30}, {'attr': 'abs', 'coeff': 24}, {'attr': 'abs', 'coeff': 16}, {'attr': 'abs', 'coeff': 25}, {'attr': 'abs', 'coeff': 23}, {'attr': 'abs', 'coeff': 5}, {'attr': 'abs', 'coeff': 13}, {'attr': 'abs', 'coeff': 20}, {'attr': 'abs', 'coeff': 6}, {'attr': 'abs', 'coeff': 32}, {'attr': 'abs', 'coeff': 29}, {'attr': 'abs', 'coeff': 22}, {'attr': 'abs', 'coeff': 45}, {'attr': 'abs', 'coeff': 12}, {'attr': 'abs', 'coeff': 28}, {'attr': 'abs', 'coeff': 47}, {'attr': 'abs', 'coeff': 19}, {'attr': 'abs', 'coeff': 26}, {'attr': 'abs', 'coeff': 11}, {'attr': 'abs', 'coeff': 39}, {'attr': 'abs', 'coeff': 36}, {'attr': 'abs', 'coeff': 42}, {'attr': 'abs', 'coeff': 17}, {'attr': 'abs', 'coeff': 31}, {'attr': 'abs', 'coeff': 43}, {'attr': 'abs', 'coeff': 18}, {'attr': 'abs', 'coeff': 27}, {'attr': 'abs', 'coeff': 46}, {'attr': 'abs', 'coeff': 8}, {'attr': 'abs', 'coeff': 49}, {'attr': 'abs', 'coeff': 33}, {'attr': 'abs', 'coeff': 44}, {'attr': 'abs', 'coeff': 34}, {'attr': 'abs', 'coeff': 35}, {'attr': 'abs', 'coeff': 48}, {'attr': 'abs', 'coeff': 21}, {'attr': 'abs', 'coeff': 10}, {'attr': 'abs', 'coeff': 50}, {'attr': 'abs', 'coeff': 9}, {'attr': 'abs', 'coeff': 41}, {'attr': 'abs', 'coeff': 40}, {'attr': 'abs', 'coeff': 7}, {'attr': 'abs', 'coeff': 38}, {'attr': 'abs', 'coeff': 37}], 'linear_trend': [{'attr': 'stderr'}], 'variance': None, 'standard_deviation': None, 'change_quantiles': [{'f_agg': 'var', 'isabs': False, 'qh': 0.6, 'ql': 0.4}, {'f_agg': 'mean', 'isabs': True, 'qh': 0.4, 'ql': 0.2}, {'f_agg': 'mean', 'isabs': True, 'qh': 0.6, 'ql': 0.4}, {'f_agg': 'var', 'isabs': False, 'qh': 0.6, 'ql': 0.2}, {'f_agg': 'mean', 'isabs': True, 'qh': 0.6, 'ql': 0.2}, {'f_agg': 'var', 'isabs': False, 'qh': 0.4, 'ql': 0.2}, {'f_agg': 'var', 'isabs': False, 'qh': 0.8, 'ql': 0.4}, {'f_agg': 'mean', 'isabs': True, 'qh': 0.8, 'ql': 0.4}, {'f_agg': 'mean', 'isabs': True, 'qh': 0.8, 'ql': 0.2}, {'f_agg': 'mean', 'isabs': True, 'qh': 0.8, 'ql': 0.6}, {'f_agg': 'var', 'isabs': False, 'qh': 0.8, 'ql': 0.2}, {'f_agg': 'var', 'isabs': False, 'qh': 0.8, 'ql': 0.6}, {'f_agg': 'mean', 'isabs': True, 'qh': 0.8, 'ql': 0.0}, {'f_agg': 'mean', 'isabs': True, 'qh': 0.6, 'ql': 0.0}, {'f_agg': 'mean', 'isabs': True, 'qh': 1.0, 'ql': 0.2}, {'f_agg': 'var', 'isabs': False, 'qh': 0.8, 'ql': 0.0}, {'f_agg': 'var', 'isabs': False, 'qh': 0.6, 'ql': 0.0}, {'f_agg': 'var', 'isabs': False, 'qh': 1.0, 'ql': 0.2}, {'f_agg': 'mean', 'isabs': True, 'qh': 1.0, 'ql': 0.4}, {'f_agg': 'mean', 'isabs': True, 'qh': 0.4, 'ql': 0.0}, {'f_agg': 'mean', 'isabs': True, 'qh': 1.0, 'ql': 0.0}, {'f_agg': 'var', 'isabs': False, 'qh': 1.0, 'ql': 0.4}, {'f_agg': 'var', 'isabs': False, 'qh': 0.4, 'ql': 0.0}, {'f_agg': 'var', 'isabs': False, 'qh': 1.0, 'ql': 0.0}, {'f_agg': 'mean', 'isabs': True, 'qh': 1.0, 'ql': 0.6}, {'f_agg': 'var', 'isabs': True, 'qh': 0.6, 'ql': 0.4}, {'f_agg': 'var', 'isabs': False, 'qh': 1.0, 'ql': 0.6}, {'f_agg': 'var', 'isabs': True, 'qh': 0.4, 'ql': 0.2}, {'f_agg': 'var', 'isabs': True, 'qh': 0.8, 'ql': 0.6}, {'f_agg': 'mean', 'isabs': True, 'qh': 0.2, 'ql': 0.0}, {'f_agg': 'var', 'isabs': True, 'qh': 0.6, 'ql': 0.2}, {'f_agg': 'var', 'isabs': False, 'qh': 0.2, 'ql': 0.0}, {'f_agg': 'var', 'isabs': True, 'qh': 0.8, 'ql': 0.4}, {'f_agg': 'var', 'isabs': True, 'qh': 1.0, 'ql': 0.6}, {'f_agg': 'mean', 'isabs': True, 'qh': 1.0, 'ql': 0.8}, {'f_agg': 'var', 'isabs': False, 'qh': 1.0, 'ql': 0.8}, {'f_agg': 'var', 'isabs': True, 'qh': 0.4, 'ql': 0.0}, {'f_agg': 'var', 'isabs': True, 'qh': 1.0, 'ql': 0.4}, {'f_agg': 'var', 'isabs': True, 'qh': 0.8, 'ql': 0.2}, {'f_agg': 'var', 'isabs': True, 'qh': 0.6, 'ql': 0.0}, {'f_agg': 'var', 'isabs': True, 'qh': 1.0, 'ql': 0.2}, {'f_agg': 'var', 'isabs': True, 'qh': 0.2, 'ql': 0.0}, {'f_agg': 'var', 'isabs': True, 'qh': 0.8, 'ql': 0.0}, {'f_agg': 'var', 'isabs': True, 'qh': 1.0, 'ql': 0.0}, {'f_agg': 'var', 'isabs': True, 'qh': 1.0, 'ql': 0.8}], 'mean_abs_change': None, 'absolute_sum_of_changes': None, 'permutation_entropy': [{'dimension': 7, 'tau': 1}, {'dimension': 6, 'tau': 1}, {'dimension': 5, 'tau': 1}, {'dimension': 4, 'tau': 1}, {'dimension': 3, 'tau': 1}], 'cid_ce': [{'normalize': False}, {'normalize': True}], 'mean_n_absolute_max': [{'number_of_maxima': 7}], 'absolute_maximum': None, 'number_peaks': [{'n': 5}, {'n': 3}, {'n': 1}], 'abs_energy': None, 'root_mean_square': None, 'partial_autocorrelation': [{'lag': 1}], 'autocorrelation': [{'lag': 1}]}, 'z_gyro_clean': {'agg_linear_trend': [{'attr': 'stderr', 'chunk_len': 10, 'f_agg': 'min'}, {'attr': 'stderr', 'chunk_len': 10, 'f_agg': 'max'}, {'attr': 'stderr', 'chunk_len': 5, 'f_agg': 'mean'}, {'attr': 'stderr', 'chunk_len': 5, 'f_agg': 'min'}, {'attr': 'stderr', 'chunk_len': 5, 'f_agg': 'max'}, {'attr': 'stderr', 'chunk_len': 10, 'f_agg': 'var'}, {'attr': 'stderr', 'chunk_len': 10, 'f_agg': 'mean'}, {'attr': 'intercept', 'chunk_len': 50, 'f_agg': 'var'}, {'attr': 'stderr', 'chunk_len': 5, 'f_agg': 'var'}, {'attr': 'intercept', 'chunk_len': 10, 'f_agg': 'var'}, {'attr': 'intercept', 'chunk_len': 5, 'f_agg': 'var'}], 'change_quantiles': [{'f_agg': 'var', 'isabs': False, 'qh': 0.6, 'ql': 0.2}, {'f_agg': 'var', 'isabs': False, 'qh': 0.4, 'ql': 0.0}, {'f_agg': 'var', 'isabs': False, 'qh': 0.4, 'ql': 0.2}, {'f_agg': 'var', 'isabs': False, 'qh': 0.8, 'ql': 0.2}, {'f_agg': 'var', 'isabs': False, 'qh': 0.6, 'ql': 0.4}, {'f_agg': 'var', 'isabs': False, 'qh': 0.8, 'ql': 0.4}, {'f_agg': 'var', 'isabs': False, 'qh': 0.8, 'ql': 0.6}, {'f_agg': 'mean', 'isabs': True, 'qh': 0.4, 'ql': 0.2}, {'f_agg': 'var', 'isabs': False, 'qh': 0.6, 'ql': 0.0}, {'f_agg': 'mean', 'isabs': True, 'qh': 0.8, 'ql': 0.6}, {'f_agg': 'var', 'isabs': True, 'qh': 0.4, 'ql': 0.2}, {'f_agg': 'var', 'isabs': True, 'qh': 0.6, 'ql': 0.4}, {'f_agg': 'var', 'isabs': False, 'qh': 0.8, 'ql': 0.0}, {'f_agg': 'var', 'isabs': False, 'qh': 1.0, 'ql': 0.4}, {'f_agg': 'var', 'isabs': False, 'qh': 1.0, 'ql': 0.6}, {'f_agg': 'mean', 'isabs': True, 'qh': 0.8, 'ql': 0.4}, {'f_agg': 'var', 'isabs': False, 'qh': 0.2, 'ql': 0.0}, {'f_agg': 'var', 'isabs': False, 'qh': 1.0, 'ql': 0.2}, {'f_agg': 'mean', 'isabs': True, 'qh': 0.6, 'ql': 0.2}, {'f_agg': 'mean', 'isabs': True, 'qh': 0.6, 'ql': 0.4}, {'f_agg': 'var', 'isabs': True, 'qh': 0.8, 'ql': 0.6}, {'f_agg': 'mean', 'isabs': True, 'qh': 0.8, 'ql': 0.2}, {'f_agg': 'var', 'isabs': False, 'qh': 1.0, 'ql': 0.8}, {'f_agg': 'var', 'isabs': True, 'qh': 0.6, 'ql': 0.2}, {'f_agg': 'var', 'isabs': False, 'qh': 1.0, 'ql': 0.0}, {'f_agg': 'var', 'isabs': True, 'qh': 0.8, 'ql': 0.4}, {'f_agg': 'mean', 'isabs': True, 'qh': 0.8, 'ql': 0.0}, {'f_agg': 'mean', 'isabs': True, 'qh': 0.4, 'ql': 0.0}, {'f_agg': 'mean', 'isabs': True, 'qh': 0.6, 'ql': 0.0}, {'f_agg': 'mean', 'isabs': True, 'qh': 1.0, 'ql': 0.2}, {'f_agg': 'mean', 'isabs': True, 'qh': 1.0, 'ql': 0.4}, {'f_agg': 'mean', 'isabs': True, 'qh': 1.0, 'ql': 0.6}, {'f_agg': 'var', 'isabs': True, 'qh': 0.2, 'ql': 0.0}, {'f_agg': 'mean', 'isabs': True, 'qh': 1.0, 'ql': 0.0}, {'f_agg': 'var', 'isabs': True, 'qh': 0.4, 'ql': 0.0}, {'f_agg': 'var', 'isabs': True, 'qh': 0.8, 'ql': 0.2}, {'f_agg': 'mean', 'isabs': True, 'qh': 0.2, 'ql': 0.0}, {'f_agg': 'mean', 'isabs': True, 'qh': 1.0, 'ql': 0.8}, {'f_agg': 'var', 'isabs': True, 'qh': 1.0, 'ql': 0.8}, {'f_agg': 'var', 'isabs': True, 'qh': 0.6, 'ql': 0.0}, {'f_agg': 'var', 'isabs': True, 'qh': 1.0, 'ql': 0.6}, {'f_agg': 'var', 'isabs': True, 'qh': 1.0, 'ql': 0.4}, {'f_agg': 'var', 'isabs': True, 'qh': 0.8, 'ql': 0.0}, {'f_agg': 'var', 'isabs': True, 'qh': 1.0, 'ql': 0.2}, {'f_agg': 'var', 'isabs': True, 'qh': 1.0, 'ql': 0.0}], 'spkt_welch_density': [{'coeff': 2}, {'coeff': 5}], 'linear_trend': [{'attr': 'stderr'}], 'fft_coefficient': [{'attr': 'abs', 'coeff': 1}, {'attr': 'abs', 'coeff': 2}, {'attr': 'abs', 'coeff': 3}, {'attr': 'abs', 'coeff': 4}], 'standard_deviation': None, 'variance': None, 'mean_abs_change': None, 'absolute_sum_of_changes': None, 'partial_autocorrelation': [{'lag': 1}], 'cid_ce': [{'normalize': False}, {'normalize': True}], 'number_peaks': [{'n': 3}, {'n': 5}], 'permutation_entropy': [{'dimension': 7, 'tau': 1}, {'dimension': 6, 'tau': 1}, {'dimension': 5, 'tau': 1}, {'dimension': 4, 'tau': 1}], 'autocorrelation': [{'lag': 1}, {'lag': 2}], 'agg_autocorrelation': [{'f_agg': 'var', 'maxlag': 40}], 'ar_coefficient': [{'coeff': 2, 'k': 10}], 'mean_n_absolute_max': [{'number_of_maxima': 7}]}, 'z_acc_clean': {'spkt_welch_density': [{'coeff': 8}, {'coeff': 2}, {'coeff': 5}], 'partial_autocorrelation': [{'lag': 3}], 'fft_coefficient': [{'attr': 'abs', 'coeff': 36}, {'attr': 'abs', 'coeff': 40}, {'attr': 'abs', 'coeff': 42}, {'attr': 'abs', 'coeff': 2}, {'attr': 'abs', 'coeff': 44}, {'attr': 'abs', 'coeff': 38}, {'attr': 'abs', 'coeff': 45}, {'attr': 'abs', 'coeff': 41}, {'attr': 'abs', 'coeff': 43}, {'attr': 'abs', 'coeff': 8}, {'attr': 'abs', 'coeff': 39}, {'attr': 'abs', 'coeff': 46}, {'attr': 'abs', 'coeff': 37}], 'change_quantiles': [{'f_agg': 'mean', 'isabs': True, 'qh': 0.6, 'ql': 0.4}, {'f_agg': 'var', 'isabs': False, 'qh': 0.6, 'ql': 0.4}, {'f_agg': 'mean', 'isabs': True, 'qh': 0.8, 'ql': 0.4}, {'f_agg': 'var', 'isabs': True, 'qh': 0.6, 'ql': 0.4}, {'f_agg': 'var', 'isabs': False, 'qh': 0.8, 'ql': 0.6}, {'f_agg': 'var', 'isabs': False, 'qh': 0.8, 'ql': 0.4}, {'f_agg': 'mean', 'isabs': True, 'qh': 0.8, 'ql': 0.6}, {'f_agg': 'var', 'isabs': True, 'qh': 0.8, 'ql': 0.6}, {'f_agg': 'var', 'isabs': False, 'qh': 0.4, 'ql': 0.2}, {'f_agg': 'mean', 'isabs': True, 'qh': 0.4, 'ql': 0.2}, {'f_agg': 'var', 'isabs': True, 'qh': 0.8, 'ql': 0.4}, {'f_agg': 'mean', 'isabs': True, 'qh': 0.8, 'ql': 0.2}], 'agg_linear_trend': [{'attr': 'stderr', 'chunk_len': 10, 'f_agg': 'mean'}, {'attr': 'stderr', 'chunk_len': 5, 'f_agg': 'min'}, {'attr': 'stderr', 'chunk_len': 10, 'f_agg': 'min'}, {'attr': 'stderr', 'chunk_len': 5, 'f_agg': 'mean'}, {'attr': 'stderr', 'chunk_len': 5, 'f_agg': 'max'}], 'ar_coefficient': [{'coeff': 2, 'k': 10}]}, 'x_gyro_clean': {'agg_linear_trend': [{'attr': 'stderr', 'chunk_len': 10, 'f_agg': 'mean'}, {'attr': 'stderr', 'chunk_len': 10, 'f_agg': 'max'}, {'attr': 'stderr', 'chunk_len': 10, 'f_agg': 'min'}, {'attr': 'stderr', 'chunk_len': 5, 'f_agg': 'min'}, {'attr': 'stderr', 'chunk_len': 5, 'f_agg': 'mean'}, {'attr': 'stderr', 'chunk_len': 5, 'f_agg': 'max'}], 'spkt_welch_density': [{'coeff': 2}], 'linear_trend': [{'attr': 'stderr'}], 'change_quantiles': [{'f_agg': 'var', 'isabs': False, 'qh': 0.6, 'ql': 0.4}, {'f_agg': 'var', 'isabs': False, 'qh': 0.4, 'ql': 0.2}]}, 'y_gyro_clean': {'agg_linear_trend': [{'attr': 'stderr', 'chunk_len': 10, 'f_agg': 'mean'}, {'attr': 'stderr', 'chunk_len': 10, 'f_agg': 'max'}, {'attr': 'stderr', 'chunk_len': 5, 'f_agg': 'max'}, {'attr': 'stderr', 'chunk_len': 10, 'f_agg': 'min'}, {'attr': 'stderr', 'chunk_len': 5, 'f_agg': 'min'}, {'attr': 'stderr', 'chunk_len': 5, 'f_agg': 'mean'}], 'change_quantiles': [{'f_agg': 'var', 'isabs': False, 'qh': 1.0, 'ql': 0.2}, {'f_agg': 'var', 'isabs': False, 'qh': 0.8, 'ql': 0.6}, {'f_agg': 'var', 'isabs': True, 'qh': 1.0, 'ql': 0.2}, {'f_agg': 'var', 'isabs': False, 'qh': 1.0, 'ql': 0.4}, {'f_agg': 'var', 'isabs': True, 'qh': 1.0, 'ql': 0.4}, {'f_agg': 'var', 'isabs': False, 'qh': 0.8, 'ql': 0.2}, {'f_agg': 'var', 'isabs': False, 'qh': 1.0, 'ql': 0.0}, {'f_agg': 'var', 'isabs': True, 'qh': 0.8, 'ql': 0.6}, {'f_agg': 'var', 'isabs': True, 'qh': 1.0, 'ql': 0.0}, {'f_agg': 'var', 'isabs': False, 'qh': 0.8, 'ql': 0.4}, {'f_agg': 'mean', 'isabs': True, 'qh': 1.0, 'ql': 0.2}, {'f_agg': 'var', 'isabs': True, 'qh': 0.8, 'ql': 0.4}, {'f_agg': 'var', 'isabs': True, 'qh': 0.8, 'ql': 0.2}, {'f_agg': 'mean', 'isabs': True, 'qh': 0.8, 'ql': 0.6}, {'f_agg': 'var', 'isabs': False, 'qh': 0.8, 'ql': 0.0}, {'f_agg': 'var', 'isabs': False, 'qh': 0.6, 'ql': 0.2}], 'linear_trend': [{'attr': 'stderr'}], 'cid_ce': [{'normalize': False}], 'spkt_welch_density': [{'coeff': 2}]}}\n",
      "chunk id 1\n",
      "x (102400, 100, 8)\n",
      "y (102400, 6)\n",
      "(10240000, 8)\n",
      "(10240000, 10)\n"
     ]
    },
    {
     "name": "stderr",
     "output_type": "stream",
     "text": [
      "Feature Extraction: 100%|██████████| 60/60 [10:09<00:00, 10.16s/it] \n"
     ]
    },
    {
     "name": "stdout",
     "output_type": "stream",
     "text": [
      "extracted shape (102400, 500)\n",
      "chunk id 2\n",
      "x (102400, 100, 8)\n",
      "y (102400, 6)\n",
      "(10240000, 8)\n",
      "(10240000, 10)\n"
     ]
    },
    {
     "name": "stderr",
     "output_type": "stream",
     "text": [
      "Feature Extraction: 100%|██████████| 60/60 [09:56<00:00,  9.94s/it] \n"
     ]
    },
    {
     "name": "stdout",
     "output_type": "stream",
     "text": [
      "extracted shape (102400, 500)\n",
      "chunk id 3\n",
      "x (102400, 100, 8)\n",
      "y (102400, 6)\n",
      "(10240000, 8)\n",
      "(10240000, 10)\n"
     ]
    },
    {
     "name": "stderr",
     "output_type": "stream",
     "text": [
      "Feature Extraction: 100%|██████████| 60/60 [11:18<00:00, 11.31s/it] \n"
     ]
    },
    {
     "name": "stdout",
     "output_type": "stream",
     "text": [
      "extracted shape (102400, 500)\n",
      "chunk id 4\n",
      "x (91068, 100, 8)\n",
      "y (91068, 6)\n",
      "(9106800, 8)\n",
      "(9106800, 10)\n"
     ]
    },
    {
     "name": "stderr",
     "output_type": "stream",
     "text": [
      "Feature Extraction: 100%|██████████| 60/60 [09:40<00:00,  9.67s/it] \n"
     ]
    },
    {
     "name": "stdout",
     "output_type": "stream",
     "text": [
      "extracted shape (91068, 500)\n"
     ]
    }
   ],
   "source": [
    "# # extracting features from nothing\n",
    "# for label_title in labels:\n",
    "#     # load our data shape (sample_id, timestamp, time series)\n",
    "#     label_ = []\n",
    "#     data_ = []\n",
    "#     data_files = [f for f in os.listdir(basedir + f'/{label_title}/') if '.npy' in f]\n",
    "#     print('data files', data_files)\n",
    "\n",
    "#     for data_file in data_files:\n",
    "#         # data_file = basedir + f'/{label_title}/chunk_1.npy'\n",
    "#         chunk_id = data_file.split('.')[0].split('_')[1]\n",
    "#         print('chunk id', chunk_id)\n",
    "\n",
    "#         data = np.load(basedir + f'/{label_title}/' + data_file)\n",
    "#         print('x', data.shape)\n",
    "\n",
    "#         label_file = basedir + f'/{label_title}/train_label_{label_title}_chunk_{chunk_id}.csv'\n",
    "#         label = pd.read_csv(label_file)\n",
    "\n",
    "#         pos = label[(label.label == 1) & (label.type == 0)]\n",
    "#         # pos_1 = label[(label.label == 1) & (label.type == 1)]\n",
    "#         pos_1 = label[(label.label == 1) & (label.type == 1)].sample(n=len(pos)*5, replace=False, random_state=123)\n",
    "#         neg = label[label.label == 0].sample(n=len(pos) + len(pos_1), replace=False, random_state=123)\n",
    "#         label_tmp = pd.concat((pos, neg))\n",
    "#         data_tmp = data[label_tmp.index] # previously made a mistake here, which wrongly mapped the features to wrong labels\n",
    "#         label_tmp = label_tmp.reset_index() # should reset index after mapping, NOT before\n",
    "\n",
    "#         label_.append(label_tmp)\n",
    "#         data_.append(data_tmp)\n",
    "\n",
    "#     label_ = pd.concat(label_).reset_index().label\n",
    "#     data_ = np.concatenate(data_)\n",
    "#     print('y', label_.shape, data_.shape)\n",
    "\n",
    "#     # Create a list of column names for the DataFrame\n",
    "#     column_names = ['id', 'timestamp'] + features[str(label_title)]\n",
    "\n",
    "#     # Reshape the numpy array to have 2 dimensions\n",
    "#     reshaped_array = data_.reshape(-1, data_.shape[2])\n",
    "\n",
    "#     # Create a pandas DataFrame\n",
    "#     my_df = pd.DataFrame(reshaped_array, columns=column_names[2:])\n",
    "#     print(my_df.shape)\n",
    "\n",
    "#     # Assign sample ids and timestamps to the DataFrame\n",
    "#     num_samples = data_.shape[0]\n",
    "#     num_timestamps = data_.shape[1]\n",
    "#     my_df['id'] = np.repeat(np.arange(num_samples), num_timestamps)\n",
    "#     my_df['timestamp'] = np.tile(np.arange(num_timestamps), num_samples)\n",
    "#     # my_df = my_df[column_names]\n",
    "\n",
    "#     # Print the resulting DataFrame\n",
    "#     Distributor = MultiprocessingDistributor(n_workers=4,\n",
    "#                                             disable_progressbar=False,\n",
    "#                                             progressbar_title=\"Feature Extraction\")\n",
    "    \n",
    "              \n",
    "#     print('Extracting feature only...', len(my_df))\n",
    "#     # extract all possible features\n",
    "#     temp = extract_features(my_df, \n",
    "#                             column_id='id', \n",
    "#                             column_sort='timestamp', \n",
    "#                             column_kind=None, \n",
    "#                             column_value=None, \n",
    "#                             impute_function=impute)    \n",
    "    \n",
    "#     # calculate independent p-value for relevance\n",
    "#     relevance_table = calculate_relevance_table(temp, label_, fdr_level=0.5)\n",
    "\n",
    "#     # filter relevant features (True if the Benjamini Hochberg procedure rejected the null hypothesis [the feature is not relevant])\n",
    "#     relevance_table = relevance_table[relevance_table['relevant'] == True]\n",
    "\n",
    "#     # Among relevant features, sort out top window_length0 with smallest p-values\n",
    "#     sorted_relevance_table = relevance_table.sort_values(by='p_value', ascending=True) \n",
    "#     top_extracted_features = sorted_relevance_table.head(500)\n",
    "#     temp = temp[top_extracted_features.feature]\n",
    "\n",
    "#     # save the features setting\n",
    "#     kind_to_fc_parameters = tsfresh.feature_extraction.settings.from_columns(temp)\n",
    "#     with open(basedir + f'/{label_title}/feature_config_{label_title}.json', 'w') as file:\n",
    "#         json.dump(kind_to_fc_parameters, file, indent=4)\n",
    "#     print(kind_to_fc_parameters)\n",
    "    \n",
    "#     ###########################################\n",
    "#     # extract features using the saved features\n",
    "#     for data_file in data_files:\n",
    "#         # data_file = basedir + f'/{label_title}/chunk_1.npy'\n",
    "#         chunk_id = data_file.split('.')[0].split('_')[1]\n",
    "#         print('chunk id', chunk_id)\n",
    "\n",
    "#         data = np.load(basedir + f'/{label_title}/' + data_file)\n",
    "#         print('x', data.shape)\n",
    "\n",
    "#         label_file = basedir + f'/{label_title}/train_label_{label_title}_chunk_{chunk_id}.csv'\n",
    "#         label = pd.read_csv(label_file)\n",
    "#         print('y', label.shape)\n",
    "\n",
    "#         # Create a list of column names for the DataFrame\n",
    "#         column_names = ['id', 'timestamp'] + features[str(label_title)]\n",
    "\n",
    "#         # Reshape the numpy array to have 2 dimensions\n",
    "#         reshaped_array = data.reshape(-1, data.shape[2])\n",
    "\n",
    "#         # Create a pandas DataFrame\n",
    "#         my_df = pd.DataFrame(reshaped_array, columns=column_names[2:])\n",
    "#         print(my_df.shape)\n",
    "\n",
    "#         # Assign sample ids and timestamps to the DataFrame\n",
    "#         num_samples = data.shape[0]\n",
    "#         num_timestamps = data.shape[1]\n",
    "#         my_df['id'] = np.repeat(np.arange(num_samples), num_timestamps)\n",
    "#         my_df['timestamp'] = np.tile(np.arange(num_timestamps), num_samples)\n",
    "#         # my_df = my_df[column_names]\n",
    "\n",
    "#         # Print the resulting DataFrame\n",
    "#         print(my_df.shape)\n",
    "#         temp = extract_features(my_df, \n",
    "#                                 kind_to_fc_parameters=kind_to_fc_parameters, \n",
    "#                                 column_id='id', \n",
    "#                                 column_sort='timestamp', \n",
    "#                                 column_kind=None, \n",
    "#                                 column_value=None, \n",
    "#                                 impute_function=impute)\n",
    "#         temp.to_csv(basedir + f'/{label_title}/extract_features_{label_title}_{chunk_id}.csv')\n",
    "#         print('extracted shape', temp.shape)"
   ]
  },
  {
   "cell_type": "code",
   "execution_count": 27,
   "metadata": {},
   "outputs": [
    {
     "name": "stdout",
     "output_type": "stream",
     "text": [
      "{'y_acc_clean': {'linear_trend': [{'attr': 'stderr'}], 'agg_linear_trend': [{'attr': 'stderr', 'chunk_len': 5, 'f_agg': 'max'}, {'attr': 'stderr', 'chunk_len': 5, 'f_agg': 'min'}, {'attr': 'stderr', 'chunk_len': 5, 'f_agg': 'mean'}, {'attr': 'intercept', 'chunk_len': 50, 'f_agg': 'var'}, {'attr': 'stderr', 'chunk_len': 10, 'f_agg': 'max'}, {'attr': 'stderr', 'chunk_len': 10, 'f_agg': 'mean'}, {'attr': 'stderr', 'chunk_len': 10, 'f_agg': 'min'}, {'attr': 'stderr', 'chunk_len': 10, 'f_agg': 'var'}, {'attr': 'stderr', 'chunk_len': 5, 'f_agg': 'var'}, {'attr': 'intercept', 'chunk_len': 10, 'f_agg': 'var'}, {'attr': 'intercept', 'chunk_len': 5, 'f_agg': 'var'}], 'variance': None, 'standard_deviation': None, 'change_quantiles': [{'f_agg': 'mean', 'isabs': True, 'qh': 0.8, 'ql': 0.6}, {'f_agg': 'var', 'isabs': False, 'qh': 0.8, 'ql': 0.6}, {'f_agg': 'mean', 'isabs': True, 'qh': 0.8, 'ql': 0.4}, {'f_agg': 'mean', 'isabs': True, 'qh': 0.8, 'ql': 0.2}, {'f_agg': 'mean', 'isabs': True, 'qh': 0.6, 'ql': 0.2}, {'f_agg': 'mean', 'isabs': True, 'qh': 0.4, 'ql': 0.2}, {'f_agg': 'var', 'isabs': False, 'qh': 0.4, 'ql': 0.2}, {'f_agg': 'var', 'isabs': False, 'qh': 0.8, 'ql': 0.4}, {'f_agg': 'var', 'isabs': False, 'qh': 0.6, 'ql': 0.4}, {'f_agg': 'var', 'isabs': False, 'qh': 0.6, 'ql': 0.2}, {'f_agg': 'var', 'isabs': False, 'qh': 0.8, 'ql': 0.2}, {'f_agg': 'mean', 'isabs': True, 'qh': 0.6, 'ql': 0.4}, {'f_agg': 'mean', 'isabs': True, 'qh': 0.8, 'ql': 0.0}, {'f_agg': 'mean', 'isabs': True, 'qh': 1.0, 'ql': 0.2}, {'f_agg': 'mean', 'isabs': True, 'qh': 0.6, 'ql': 0.0}, {'f_agg': 'mean', 'isabs': True, 'qh': 1.0, 'ql': 0.4}, {'f_agg': 'mean', 'isabs': True, 'qh': 0.4, 'ql': 0.0}, {'f_agg': 'mean', 'isabs': True, 'qh': 1.0, 'ql': 0.0}, {'f_agg': 'var', 'isabs': False, 'qh': 1.0, 'ql': 0.2}, {'f_agg': 'var', 'isabs': False, 'qh': 0.8, 'ql': 0.0}, {'f_agg': 'mean', 'isabs': True, 'qh': 1.0, 'ql': 0.6}, {'f_agg': 'var', 'isabs': False, 'qh': 1.0, 'ql': 0.4}, {'f_agg': 'var', 'isabs': False, 'qh': 1.0, 'ql': 0.6}, {'f_agg': 'var', 'isabs': False, 'qh': 0.6, 'ql': 0.0}, {'f_agg': 'var', 'isabs': False, 'qh': 1.0, 'ql': 0.0}, {'f_agg': 'var', 'isabs': False, 'qh': 0.4, 'ql': 0.0}, {'f_agg': 'var', 'isabs': True, 'qh': 0.8, 'ql': 0.6}, {'f_agg': 'var', 'isabs': True, 'qh': 0.4, 'ql': 0.2}, {'f_agg': 'mean', 'isabs': True, 'qh': 0.2, 'ql': 0.0}, {'f_agg': 'var', 'isabs': False, 'qh': 1.0, 'ql': 0.8}, {'f_agg': 'var', 'isabs': True, 'qh': 0.6, 'ql': 0.4}, {'f_agg': 'mean', 'isabs': True, 'qh': 1.0, 'ql': 0.8}, {'f_agg': 'var', 'isabs': True, 'qh': 0.8, 'ql': 0.4}, {'f_agg': 'var', 'isabs': True, 'qh': 1.0, 'ql': 0.6}, {'f_agg': 'var', 'isabs': False, 'qh': 0.2, 'ql': 0.0}, {'f_agg': 'var', 'isabs': True, 'qh': 0.6, 'ql': 0.2}, {'f_agg': 'var', 'isabs': True, 'qh': 1.0, 'ql': 0.4}, {'f_agg': 'var', 'isabs': True, 'qh': 0.8, 'ql': 0.2}, {'f_agg': 'var', 'isabs': True, 'qh': 1.0, 'ql': 0.8}, {'f_agg': 'var', 'isabs': True, 'qh': 0.4, 'ql': 0.0}, {'f_agg': 'var', 'isabs': True, 'qh': 1.0, 'ql': 0.2}, {'f_agg': 'var', 'isabs': True, 'qh': 0.2, 'ql': 0.0}, {'f_agg': 'var', 'isabs': True, 'qh': 0.6, 'ql': 0.0}, {'f_agg': 'var', 'isabs': True, 'qh': 0.8, 'ql': 0.0}, {'f_agg': 'var', 'isabs': True, 'qh': 1.0, 'ql': 0.0}], 'fft_coefficient': [{'attr': 'abs', 'coeff': 1}, {'attr': 'abs', 'coeff': 2}, {'attr': 'abs', 'coeff': 3}, {'attr': 'abs', 'coeff': 4}, {'attr': 'abs', 'coeff': 40}, {'attr': 'abs', 'coeff': 5}, {'attr': 'abs', 'coeff': 39}, {'attr': 'abs', 'coeff': 36}, {'attr': 'abs', 'coeff': 22}, {'attr': 'abs', 'coeff': 47}, {'attr': 'abs', 'coeff': 11}, {'attr': 'abs', 'coeff': 19}, {'attr': 'abs', 'coeff': 6}, {'attr': 'abs', 'coeff': 18}, {'attr': 'abs', 'coeff': 30}, {'attr': 'abs', 'coeff': 23}, {'attr': 'abs', 'coeff': 17}, {'attr': 'abs', 'coeff': 16}, {'attr': 'abs', 'coeff': 31}, {'attr': 'abs', 'coeff': 15}, {'attr': 'abs', 'coeff': 34}, {'attr': 'abs', 'coeff': 10}, {'attr': 'abs', 'coeff': 24}, {'attr': 'abs', 'coeff': 21}, {'attr': 'abs', 'coeff': 48}, {'attr': 'abs', 'coeff': 26}, {'attr': 'abs', 'coeff': 49}, {'attr': 'abs', 'coeff': 28}, {'attr': 'abs', 'coeff': 45}, {'attr': 'abs', 'coeff': 29}, {'attr': 'abs', 'coeff': 14}, {'attr': 'abs', 'coeff': 33}, {'attr': 'abs', 'coeff': 46}, {'attr': 'abs', 'coeff': 13}, {'attr': 'abs', 'coeff': 12}, {'attr': 'abs', 'coeff': 20}, {'attr': 'abs', 'coeff': 7}, {'attr': 'abs', 'coeff': 37}, {'attr': 'abs', 'coeff': 32}, {'attr': 'abs', 'coeff': 44}, {'attr': 'abs', 'coeff': 35}, {'attr': 'abs', 'coeff': 41}, {'attr': 'abs', 'coeff': 9}, {'attr': 'abs', 'coeff': 38}, {'attr': 'abs', 'coeff': 43}, {'attr': 'abs', 'coeff': 8}, {'attr': 'abs', 'coeff': 25}, {'attr': 'abs', 'coeff': 27}, {'attr': 'abs', 'coeff': 42}, {'attr': 'abs', 'coeff': 50}], 'spkt_welch_density': [{'coeff': 2}], 'mean_abs_change': None, 'absolute_sum_of_changes': None, 'permutation_entropy': [{'dimension': 7, 'tau': 1}, {'dimension': 6, 'tau': 1}, {'dimension': 5, 'tau': 1}, {'dimension': 4, 'tau': 1}, {'dimension': 3, 'tau': 1}], 'cid_ce': [{'normalize': False}, {'normalize': True}], 'number_peaks': [{'n': 3}, {'n': 5}, {'n': 1}], 'absolute_maximum': None, 'mean_n_absolute_max': [{'number_of_maxima': 7}], 'root_mean_square': None, 'abs_energy': None, 'partial_autocorrelation': [{'lag': 1}], 'autocorrelation': [{'lag': 1}]}, 'speed_kmh': {'cwt_coefficients': [{'coeff': 12, 'w': 5, 'widths': [2, 5, 10, 20]}, {'coeff': 12, 'w': 10, 'widths': [2, 5, 10, 20]}, {'coeff': 12, 'w': 20, 'widths': [2, 5, 10, 20]}, {'coeff': 11, 'w': 20, 'widths': [2, 5, 10, 20]}, {'coeff': 13, 'w': 5, 'widths': [2, 5, 10, 20]}, {'coeff': 13, 'w': 10, 'widths': [2, 5, 10, 20]}, {'coeff': 13, 'w': 20, 'widths': [2, 5, 10, 20]}, {'coeff': 10, 'w': 5, 'widths': [2, 5, 10, 20]}, {'coeff': 14, 'w': 5, 'widths': [2, 5, 10, 20]}, {'coeff': 3, 'w': 5, 'widths': [2, 5, 10, 20]}, {'coeff': 14, 'w': 10, 'widths': [2, 5, 10, 20]}, {'coeff': 11, 'w': 10, 'widths': [2, 5, 10, 20]}, {'coeff': 11, 'w': 5, 'widths': [2, 5, 10, 20]}, {'coeff': 11, 'w': 2, 'widths': [2, 5, 10, 20]}, {'coeff': 10, 'w': 20, 'widths': [2, 5, 10, 20]}, {'coeff': 10, 'w': 10, 'widths': [2, 5, 10, 20]}, {'coeff': 3, 'w': 10, 'widths': [2, 5, 10, 20]}, {'coeff': 3, 'w': 2, 'widths': [2, 5, 10, 20]}, {'coeff': 7, 'w': 2, 'widths': [2, 5, 10, 20]}, {'coeff': 7, 'w': 5, 'widths': [2, 5, 10, 20]}, {'coeff': 4, 'w': 2, 'widths': [2, 5, 10, 20]}, {'coeff': 7, 'w': 10, 'widths': [2, 5, 10, 20]}, {'coeff': 7, 'w': 20, 'widths': [2, 5, 10, 20]}, {'coeff': 8, 'w': 5, 'widths': [2, 5, 10, 20]}, {'coeff': 8, 'w': 10, 'widths': [2, 5, 10, 20]}, {'coeff': 8, 'w': 20, 'widths': [2, 5, 10, 20]}, {'coeff': 9, 'w': 2, 'widths': [2, 5, 10, 20]}, {'coeff': 9, 'w': 5, 'widths': [2, 5, 10, 20]}, {'coeff': 8, 'w': 2, 'widths': [2, 5, 10, 20]}, {'coeff': 6, 'w': 5, 'widths': [2, 5, 10, 20]}, {'coeff': 6, 'w': 20, 'widths': [2, 5, 10, 20]}, {'coeff': 6, 'w': 10, 'widths': [2, 5, 10, 20]}, {'coeff': 4, 'w': 5, 'widths': [2, 5, 10, 20]}, {'coeff': 6, 'w': 2, 'widths': [2, 5, 10, 20]}, {'coeff': 10, 'w': 2, 'widths': [2, 5, 10, 20]}, {'coeff': 14, 'w': 20, 'widths': [2, 5, 10, 20]}, {'coeff': 9, 'w': 10, 'widths': [2, 5, 10, 20]}, {'coeff': 3, 'w': 20, 'widths': [2, 5, 10, 20]}, {'coeff': 4, 'w': 10, 'widths': [2, 5, 10, 20]}, {'coeff': 5, 'w': 2, 'widths': [2, 5, 10, 20]}, {'coeff': 5, 'w': 5, 'widths': [2, 5, 10, 20]}, {'coeff': 5, 'w': 10, 'widths': [2, 5, 10, 20]}, {'coeff': 5, 'w': 20, 'widths': [2, 5, 10, 20]}, {'coeff': 9, 'w': 20, 'widths': [2, 5, 10, 20]}, {'coeff': 4, 'w': 20, 'widths': [2, 5, 10, 20]}, {'coeff': 0, 'w': 20, 'widths': [2, 5, 10, 20]}, {'coeff': 1, 'w': 2, 'widths': [2, 5, 10, 20]}, {'coeff': 1, 'w': 5, 'widths': [2, 5, 10, 20]}, {'coeff': 1, 'w': 10, 'widths': [2, 5, 10, 20]}, {'coeff': 1, 'w': 20, 'widths': [2, 5, 10, 20]}, {'coeff': 2, 'w': 2, 'widths': [2, 5, 10, 20]}, {'coeff': 2, 'w': 10, 'widths': [2, 5, 10, 20]}, {'coeff': 2, 'w': 5, 'widths': [2, 5, 10, 20]}, {'coeff': 2, 'w': 20, 'widths': [2, 5, 10, 20]}, {'coeff': 12, 'w': 2, 'widths': [2, 5, 10, 20]}], 'agg_linear_trend': [{'attr': 'intercept', 'chunk_len': 5, 'f_agg': 'mean'}, {'attr': 'intercept', 'chunk_len': 5, 'f_agg': 'min'}, {'attr': 'intercept', 'chunk_len': 10, 'f_agg': 'max'}, {'attr': 'intercept', 'chunk_len': 5, 'f_agg': 'max'}, {'attr': 'intercept', 'chunk_len': 10, 'f_agg': 'mean'}, {'attr': 'intercept', 'chunk_len': 10, 'f_agg': 'min'}, {'attr': 'intercept', 'chunk_len': 50, 'f_agg': 'mean'}, {'attr': 'intercept', 'chunk_len': 50, 'f_agg': 'min'}, {'attr': 'intercept', 'chunk_len': 50, 'f_agg': 'max'}], 'max_langevin_fixed_point': [{'m': 3, 'r': 30}], 'linear_trend': [{'attr': 'intercept'}], 'fft_coefficient': [{'attr': 'real', 'coeff': 0}, {'attr': 'abs', 'coeff': 0}], 'quantile': [{'q': 0.7}, {'q': 0.4}, {'q': 0.3}, {'q': 0.2}, {'q': 0.1}, {'q': 0.9}, {'q': 0.6}, {'q': 0.8}], 'mean_n_absolute_max': [{'number_of_maxima': 7}], 'c3': [{'lag': 3}, {'lag': 2}, {'lag': 1}], 'benford_correlation': None, 'minimum': None, 'maximum': None, 'root_mean_square': None, 'mean': None, 'median': None, 'abs_energy': None, 'sum_values': None, 'absolute_maximum': None, 'number_cwt_peaks': [{'n': 1}], 'fft_aggregated': [{'aggtype': 'skew'}, {'aggtype': 'kurtosis'}], 'range_count': [{'max': 1, 'min': -1}]}, 'x_acc_clean': {'spkt_welch_density': [{'coeff': 2}], 'agg_linear_trend': [{'attr': 'stderr', 'chunk_len': 10, 'f_agg': 'max'}, {'attr': 'stderr', 'chunk_len': 10, 'f_agg': 'min'}, {'attr': 'stderr', 'chunk_len': 10, 'f_agg': 'mean'}, {'attr': 'stderr', 'chunk_len': 10, 'f_agg': 'var'}, {'attr': 'stderr', 'chunk_len': 5, 'f_agg': 'mean'}, {'attr': 'stderr', 'chunk_len': 5, 'f_agg': 'min'}, {'attr': 'stderr', 'chunk_len': 5, 'f_agg': 'max'}, {'attr': 'intercept', 'chunk_len': 50, 'f_agg': 'var'}, {'attr': 'stderr', 'chunk_len': 5, 'f_agg': 'var'}, {'attr': 'intercept', 'chunk_len': 10, 'f_agg': 'var'}, {'attr': 'intercept', 'chunk_len': 5, 'f_agg': 'var'}], 'fft_coefficient': [{'attr': 'abs', 'coeff': 1}, {'attr': 'abs', 'coeff': 2}, {'attr': 'abs', 'coeff': 3}, {'attr': 'abs', 'coeff': 4}, {'attr': 'abs', 'coeff': 15}, {'attr': 'abs', 'coeff': 14}, {'attr': 'abs', 'coeff': 30}, {'attr': 'abs', 'coeff': 24}, {'attr': 'abs', 'coeff': 16}, {'attr': 'abs', 'coeff': 25}, {'attr': 'abs', 'coeff': 23}, {'attr': 'abs', 'coeff': 5}, {'attr': 'abs', 'coeff': 13}, {'attr': 'abs', 'coeff': 20}, {'attr': 'abs', 'coeff': 6}, {'attr': 'abs', 'coeff': 32}, {'attr': 'abs', 'coeff': 29}, {'attr': 'abs', 'coeff': 22}, {'attr': 'abs', 'coeff': 45}, {'attr': 'abs', 'coeff': 12}, {'attr': 'abs', 'coeff': 28}, {'attr': 'abs', 'coeff': 47}, {'attr': 'abs', 'coeff': 19}, {'attr': 'abs', 'coeff': 26}, {'attr': 'abs', 'coeff': 11}, {'attr': 'abs', 'coeff': 39}, {'attr': 'abs', 'coeff': 36}, {'attr': 'abs', 'coeff': 42}, {'attr': 'abs', 'coeff': 17}, {'attr': 'abs', 'coeff': 31}, {'attr': 'abs', 'coeff': 43}, {'attr': 'abs', 'coeff': 18}, {'attr': 'abs', 'coeff': 27}, {'attr': 'abs', 'coeff': 46}, {'attr': 'abs', 'coeff': 8}, {'attr': 'abs', 'coeff': 49}, {'attr': 'abs', 'coeff': 33}, {'attr': 'abs', 'coeff': 44}, {'attr': 'abs', 'coeff': 34}, {'attr': 'abs', 'coeff': 35}, {'attr': 'abs', 'coeff': 48}, {'attr': 'abs', 'coeff': 21}, {'attr': 'abs', 'coeff': 10}, {'attr': 'abs', 'coeff': 50}, {'attr': 'abs', 'coeff': 9}, {'attr': 'abs', 'coeff': 41}, {'attr': 'abs', 'coeff': 40}, {'attr': 'abs', 'coeff': 7}, {'attr': 'abs', 'coeff': 38}, {'attr': 'abs', 'coeff': 37}], 'linear_trend': [{'attr': 'stderr'}], 'variance': None, 'standard_deviation': None, 'change_quantiles': [{'f_agg': 'var', 'isabs': False, 'qh': 0.6, 'ql': 0.4}, {'f_agg': 'mean', 'isabs': True, 'qh': 0.4, 'ql': 0.2}, {'f_agg': 'mean', 'isabs': True, 'qh': 0.6, 'ql': 0.4}, {'f_agg': 'var', 'isabs': False, 'qh': 0.6, 'ql': 0.2}, {'f_agg': 'mean', 'isabs': True, 'qh': 0.6, 'ql': 0.2}, {'f_agg': 'var', 'isabs': False, 'qh': 0.4, 'ql': 0.2}, {'f_agg': 'var', 'isabs': False, 'qh': 0.8, 'ql': 0.4}, {'f_agg': 'mean', 'isabs': True, 'qh': 0.8, 'ql': 0.4}, {'f_agg': 'mean', 'isabs': True, 'qh': 0.8, 'ql': 0.2}, {'f_agg': 'mean', 'isabs': True, 'qh': 0.8, 'ql': 0.6}, {'f_agg': 'var', 'isabs': False, 'qh': 0.8, 'ql': 0.2}, {'f_agg': 'var', 'isabs': False, 'qh': 0.8, 'ql': 0.6}, {'f_agg': 'mean', 'isabs': True, 'qh': 0.8, 'ql': 0.0}, {'f_agg': 'mean', 'isabs': True, 'qh': 0.6, 'ql': 0.0}, {'f_agg': 'mean', 'isabs': True, 'qh': 1.0, 'ql': 0.2}, {'f_agg': 'var', 'isabs': False, 'qh': 0.8, 'ql': 0.0}, {'f_agg': 'var', 'isabs': False, 'qh': 0.6, 'ql': 0.0}, {'f_agg': 'var', 'isabs': False, 'qh': 1.0, 'ql': 0.2}, {'f_agg': 'mean', 'isabs': True, 'qh': 1.0, 'ql': 0.4}, {'f_agg': 'mean', 'isabs': True, 'qh': 0.4, 'ql': 0.0}, {'f_agg': 'mean', 'isabs': True, 'qh': 1.0, 'ql': 0.0}, {'f_agg': 'var', 'isabs': False, 'qh': 1.0, 'ql': 0.4}, {'f_agg': 'var', 'isabs': False, 'qh': 0.4, 'ql': 0.0}, {'f_agg': 'var', 'isabs': False, 'qh': 1.0, 'ql': 0.0}, {'f_agg': 'mean', 'isabs': True, 'qh': 1.0, 'ql': 0.6}, {'f_agg': 'var', 'isabs': True, 'qh': 0.6, 'ql': 0.4}, {'f_agg': 'var', 'isabs': False, 'qh': 1.0, 'ql': 0.6}, {'f_agg': 'var', 'isabs': True, 'qh': 0.4, 'ql': 0.2}, {'f_agg': 'var', 'isabs': True, 'qh': 0.8, 'ql': 0.6}, {'f_agg': 'mean', 'isabs': True, 'qh': 0.2, 'ql': 0.0}, {'f_agg': 'var', 'isabs': True, 'qh': 0.6, 'ql': 0.2}, {'f_agg': 'var', 'isabs': False, 'qh': 0.2, 'ql': 0.0}, {'f_agg': 'var', 'isabs': True, 'qh': 0.8, 'ql': 0.4}, {'f_agg': 'var', 'isabs': True, 'qh': 1.0, 'ql': 0.6}, {'f_agg': 'mean', 'isabs': True, 'qh': 1.0, 'ql': 0.8}, {'f_agg': 'var', 'isabs': False, 'qh': 1.0, 'ql': 0.8}, {'f_agg': 'var', 'isabs': True, 'qh': 0.4, 'ql': 0.0}, {'f_agg': 'var', 'isabs': True, 'qh': 1.0, 'ql': 0.4}, {'f_agg': 'var', 'isabs': True, 'qh': 0.8, 'ql': 0.2}, {'f_agg': 'var', 'isabs': True, 'qh': 0.6, 'ql': 0.0}, {'f_agg': 'var', 'isabs': True, 'qh': 1.0, 'ql': 0.2}, {'f_agg': 'var', 'isabs': True, 'qh': 0.2, 'ql': 0.0}, {'f_agg': 'var', 'isabs': True, 'qh': 0.8, 'ql': 0.0}, {'f_agg': 'var', 'isabs': True, 'qh': 1.0, 'ql': 0.0}, {'f_agg': 'var', 'isabs': True, 'qh': 1.0, 'ql': 0.8}], 'mean_abs_change': None, 'absolute_sum_of_changes': None, 'permutation_entropy': [{'dimension': 7, 'tau': 1}, {'dimension': 6, 'tau': 1}, {'dimension': 5, 'tau': 1}, {'dimension': 4, 'tau': 1}, {'dimension': 3, 'tau': 1}], 'cid_ce': [{'normalize': False}, {'normalize': True}], 'mean_n_absolute_max': [{'number_of_maxima': 7}], 'absolute_maximum': None, 'number_peaks': [{'n': 5}, {'n': 3}, {'n': 1}], 'abs_energy': None, 'root_mean_square': None, 'partial_autocorrelation': [{'lag': 1}], 'autocorrelation': [{'lag': 1}]}, 'z_gyro_clean': {'agg_linear_trend': [{'attr': 'stderr', 'chunk_len': 10, 'f_agg': 'min'}, {'attr': 'stderr', 'chunk_len': 10, 'f_agg': 'max'}, {'attr': 'stderr', 'chunk_len': 5, 'f_agg': 'mean'}, {'attr': 'stderr', 'chunk_len': 5, 'f_agg': 'min'}, {'attr': 'stderr', 'chunk_len': 5, 'f_agg': 'max'}, {'attr': 'stderr', 'chunk_len': 10, 'f_agg': 'var'}, {'attr': 'stderr', 'chunk_len': 10, 'f_agg': 'mean'}, {'attr': 'intercept', 'chunk_len': 50, 'f_agg': 'var'}, {'attr': 'stderr', 'chunk_len': 5, 'f_agg': 'var'}, {'attr': 'intercept', 'chunk_len': 10, 'f_agg': 'var'}, {'attr': 'intercept', 'chunk_len': 5, 'f_agg': 'var'}], 'change_quantiles': [{'f_agg': 'var', 'isabs': False, 'qh': 0.6, 'ql': 0.2}, {'f_agg': 'var', 'isabs': False, 'qh': 0.4, 'ql': 0.0}, {'f_agg': 'var', 'isabs': False, 'qh': 0.4, 'ql': 0.2}, {'f_agg': 'var', 'isabs': False, 'qh': 0.8, 'ql': 0.2}, {'f_agg': 'var', 'isabs': False, 'qh': 0.6, 'ql': 0.4}, {'f_agg': 'var', 'isabs': False, 'qh': 0.8, 'ql': 0.4}, {'f_agg': 'var', 'isabs': False, 'qh': 0.8, 'ql': 0.6}, {'f_agg': 'mean', 'isabs': True, 'qh': 0.4, 'ql': 0.2}, {'f_agg': 'var', 'isabs': False, 'qh': 0.6, 'ql': 0.0}, {'f_agg': 'mean', 'isabs': True, 'qh': 0.8, 'ql': 0.6}, {'f_agg': 'var', 'isabs': True, 'qh': 0.4, 'ql': 0.2}, {'f_agg': 'var', 'isabs': True, 'qh': 0.6, 'ql': 0.4}, {'f_agg': 'var', 'isabs': False, 'qh': 0.8, 'ql': 0.0}, {'f_agg': 'var', 'isabs': False, 'qh': 1.0, 'ql': 0.4}, {'f_agg': 'var', 'isabs': False, 'qh': 1.0, 'ql': 0.6}, {'f_agg': 'mean', 'isabs': True, 'qh': 0.8, 'ql': 0.4}, {'f_agg': 'var', 'isabs': False, 'qh': 0.2, 'ql': 0.0}, {'f_agg': 'var', 'isabs': False, 'qh': 1.0, 'ql': 0.2}, {'f_agg': 'mean', 'isabs': True, 'qh': 0.6, 'ql': 0.2}, {'f_agg': 'mean', 'isabs': True, 'qh': 0.6, 'ql': 0.4}, {'f_agg': 'var', 'isabs': True, 'qh': 0.8, 'ql': 0.6}, {'f_agg': 'mean', 'isabs': True, 'qh': 0.8, 'ql': 0.2}, {'f_agg': 'var', 'isabs': False, 'qh': 1.0, 'ql': 0.8}, {'f_agg': 'var', 'isabs': True, 'qh': 0.6, 'ql': 0.2}, {'f_agg': 'var', 'isabs': False, 'qh': 1.0, 'ql': 0.0}, {'f_agg': 'var', 'isabs': True, 'qh': 0.8, 'ql': 0.4}, {'f_agg': 'mean', 'isabs': True, 'qh': 0.8, 'ql': 0.0}, {'f_agg': 'mean', 'isabs': True, 'qh': 0.4, 'ql': 0.0}, {'f_agg': 'mean', 'isabs': True, 'qh': 0.6, 'ql': 0.0}, {'f_agg': 'mean', 'isabs': True, 'qh': 1.0, 'ql': 0.2}, {'f_agg': 'mean', 'isabs': True, 'qh': 1.0, 'ql': 0.4}, {'f_agg': 'mean', 'isabs': True, 'qh': 1.0, 'ql': 0.6}, {'f_agg': 'var', 'isabs': True, 'qh': 0.2, 'ql': 0.0}, {'f_agg': 'mean', 'isabs': True, 'qh': 1.0, 'ql': 0.0}, {'f_agg': 'var', 'isabs': True, 'qh': 0.4, 'ql': 0.0}, {'f_agg': 'var', 'isabs': True, 'qh': 0.8, 'ql': 0.2}, {'f_agg': 'mean', 'isabs': True, 'qh': 0.2, 'ql': 0.0}, {'f_agg': 'mean', 'isabs': True, 'qh': 1.0, 'ql': 0.8}, {'f_agg': 'var', 'isabs': True, 'qh': 1.0, 'ql': 0.8}, {'f_agg': 'var', 'isabs': True, 'qh': 0.6, 'ql': 0.0}, {'f_agg': 'var', 'isabs': True, 'qh': 1.0, 'ql': 0.6}, {'f_agg': 'var', 'isabs': True, 'qh': 1.0, 'ql': 0.4}, {'f_agg': 'var', 'isabs': True, 'qh': 0.8, 'ql': 0.0}, {'f_agg': 'var', 'isabs': True, 'qh': 1.0, 'ql': 0.2}, {'f_agg': 'var', 'isabs': True, 'qh': 1.0, 'ql': 0.0}], 'spkt_welch_density': [{'coeff': 2}, {'coeff': 5}], 'linear_trend': [{'attr': 'stderr'}], 'fft_coefficient': [{'attr': 'abs', 'coeff': 1}, {'attr': 'abs', 'coeff': 2}, {'attr': 'abs', 'coeff': 3}, {'attr': 'abs', 'coeff': 4}], 'standard_deviation': None, 'variance': None, 'mean_abs_change': None, 'absolute_sum_of_changes': None, 'partial_autocorrelation': [{'lag': 1}], 'cid_ce': [{'normalize': False}, {'normalize': True}], 'number_peaks': [{'n': 3}, {'n': 5}], 'permutation_entropy': [{'dimension': 7, 'tau': 1}, {'dimension': 6, 'tau': 1}, {'dimension': 5, 'tau': 1}, {'dimension': 4, 'tau': 1}], 'autocorrelation': [{'lag': 1}, {'lag': 2}], 'agg_autocorrelation': [{'f_agg': 'var', 'maxlag': 40}], 'ar_coefficient': [{'coeff': 2, 'k': 10}], 'mean_n_absolute_max': [{'number_of_maxima': 7}]}, 'z_acc_clean': {'spkt_welch_density': [{'coeff': 8}, {'coeff': 2}, {'coeff': 5}], 'partial_autocorrelation': [{'lag': 3}], 'fft_coefficient': [{'attr': 'abs', 'coeff': 36}, {'attr': 'abs', 'coeff': 40}, {'attr': 'abs', 'coeff': 42}, {'attr': 'abs', 'coeff': 2}, {'attr': 'abs', 'coeff': 44}, {'attr': 'abs', 'coeff': 38}, {'attr': 'abs', 'coeff': 45}, {'attr': 'abs', 'coeff': 41}, {'attr': 'abs', 'coeff': 43}, {'attr': 'abs', 'coeff': 8}, {'attr': 'abs', 'coeff': 39}, {'attr': 'abs', 'coeff': 46}, {'attr': 'abs', 'coeff': 37}], 'change_quantiles': [{'f_agg': 'mean', 'isabs': True, 'qh': 0.6, 'ql': 0.4}, {'f_agg': 'var', 'isabs': False, 'qh': 0.6, 'ql': 0.4}, {'f_agg': 'mean', 'isabs': True, 'qh': 0.8, 'ql': 0.4}, {'f_agg': 'var', 'isabs': True, 'qh': 0.6, 'ql': 0.4}, {'f_agg': 'var', 'isabs': False, 'qh': 0.8, 'ql': 0.6}, {'f_agg': 'var', 'isabs': False, 'qh': 0.8, 'ql': 0.4}, {'f_agg': 'mean', 'isabs': True, 'qh': 0.8, 'ql': 0.6}, {'f_agg': 'var', 'isabs': True, 'qh': 0.8, 'ql': 0.6}, {'f_agg': 'var', 'isabs': False, 'qh': 0.4, 'ql': 0.2}, {'f_agg': 'mean', 'isabs': True, 'qh': 0.4, 'ql': 0.2}, {'f_agg': 'var', 'isabs': True, 'qh': 0.8, 'ql': 0.4}, {'f_agg': 'mean', 'isabs': True, 'qh': 0.8, 'ql': 0.2}], 'agg_linear_trend': [{'attr': 'stderr', 'chunk_len': 10, 'f_agg': 'mean'}, {'attr': 'stderr', 'chunk_len': 5, 'f_agg': 'min'}, {'attr': 'stderr', 'chunk_len': 10, 'f_agg': 'min'}, {'attr': 'stderr', 'chunk_len': 5, 'f_agg': 'mean'}, {'attr': 'stderr', 'chunk_len': 5, 'f_agg': 'max'}], 'ar_coefficient': [{'coeff': 2, 'k': 10}]}, 'x_gyro_clean': {'agg_linear_trend': [{'attr': 'stderr', 'chunk_len': 10, 'f_agg': 'mean'}, {'attr': 'stderr', 'chunk_len': 10, 'f_agg': 'max'}, {'attr': 'stderr', 'chunk_len': 10, 'f_agg': 'min'}, {'attr': 'stderr', 'chunk_len': 5, 'f_agg': 'min'}, {'attr': 'stderr', 'chunk_len': 5, 'f_agg': 'mean'}, {'attr': 'stderr', 'chunk_len': 5, 'f_agg': 'max'}], 'spkt_welch_density': [{'coeff': 2}], 'linear_trend': [{'attr': 'stderr'}], 'change_quantiles': [{'f_agg': 'var', 'isabs': False, 'qh': 0.6, 'ql': 0.4}, {'f_agg': 'var', 'isabs': False, 'qh': 0.4, 'ql': 0.2}]}, 'y_gyro_clean': {'agg_linear_trend': [{'attr': 'stderr', 'chunk_len': 10, 'f_agg': 'mean'}, {'attr': 'stderr', 'chunk_len': 10, 'f_agg': 'max'}, {'attr': 'stderr', 'chunk_len': 5, 'f_agg': 'max'}, {'attr': 'stderr', 'chunk_len': 10, 'f_agg': 'min'}, {'attr': 'stderr', 'chunk_len': 5, 'f_agg': 'min'}, {'attr': 'stderr', 'chunk_len': 5, 'f_agg': 'mean'}], 'change_quantiles': [{'f_agg': 'var', 'isabs': False, 'qh': 1.0, 'ql': 0.2}, {'f_agg': 'var', 'isabs': False, 'qh': 0.8, 'ql': 0.6}, {'f_agg': 'var', 'isabs': True, 'qh': 1.0, 'ql': 0.2}, {'f_agg': 'var', 'isabs': False, 'qh': 1.0, 'ql': 0.4}, {'f_agg': 'var', 'isabs': True, 'qh': 1.0, 'ql': 0.4}, {'f_agg': 'var', 'isabs': False, 'qh': 0.8, 'ql': 0.2}, {'f_agg': 'var', 'isabs': False, 'qh': 1.0, 'ql': 0.0}, {'f_agg': 'var', 'isabs': True, 'qh': 0.8, 'ql': 0.6}, {'f_agg': 'var', 'isabs': True, 'qh': 1.0, 'ql': 0.0}, {'f_agg': 'var', 'isabs': False, 'qh': 0.8, 'ql': 0.4}, {'f_agg': 'mean', 'isabs': True, 'qh': 1.0, 'ql': 0.2}, {'f_agg': 'var', 'isabs': True, 'qh': 0.8, 'ql': 0.4}, {'f_agg': 'var', 'isabs': True, 'qh': 0.8, 'ql': 0.2}, {'f_agg': 'mean', 'isabs': True, 'qh': 0.8, 'ql': 0.6}, {'f_agg': 'var', 'isabs': False, 'qh': 0.8, 'ql': 0.0}, {'f_agg': 'var', 'isabs': False, 'qh': 0.6, 'ql': 0.2}], 'linear_trend': [{'attr': 'stderr'}], 'cid_ce': [{'normalize': False}], 'spkt_welch_density': [{'coeff': 2}]}}\n",
      "chunk id 1\n",
      "x (102400, 100, 8)\n",
      "y (102400, 6)\n",
      "(10240000, 8)\n",
      "(10240000, 10)\n"
     ]
    },
    {
     "name": "stderr",
     "output_type": "stream",
     "text": [
      "Feature Extraction: 100%|██████████| 60/60 [12:07<00:00, 12.13s/it] \n"
     ]
    },
    {
     "name": "stdout",
     "output_type": "stream",
     "text": [
      "extracted shape (102400, 500)\n",
      "chunk id 2\n",
      "x (102400, 100, 8)\n",
      "y (102400, 6)\n",
      "(10240000, 8)\n",
      "(10240000, 10)\n"
     ]
    },
    {
     "name": "stderr",
     "output_type": "stream",
     "text": [
      "Feature Extraction: 100%|██████████| 60/60 [11:48<00:00, 11.80s/it]  \n"
     ]
    },
    {
     "name": "stdout",
     "output_type": "stream",
     "text": [
      "extracted shape (102400, 500)\n",
      "chunk id 3\n",
      "x (102400, 100, 8)\n",
      "y (102400, 6)\n",
      "(10240000, 8)\n",
      "(10240000, 10)\n"
     ]
    },
    {
     "name": "stderr",
     "output_type": "stream",
     "text": [
      "Feature Extraction: 100%|██████████| 60/60 [10:41<00:00, 10.69s/it] \n"
     ]
    },
    {
     "name": "stdout",
     "output_type": "stream",
     "text": [
      "extracted shape (102400, 500)\n",
      "chunk id 4\n",
      "x (90468, 100, 8)\n",
      "y (90468, 6)\n",
      "(9046800, 8)\n",
      "(9046800, 10)\n"
     ]
    },
    {
     "name": "stderr",
     "output_type": "stream",
     "text": [
      "Feature Extraction: 100%|██████████| 60/60 [09:13<00:00,  9.22s/it] \n"
     ]
    },
    {
     "name": "stdout",
     "output_type": "stream",
     "text": [
      "extracted shape (90468, 500)\n",
      "{'y_acc_clean': {'linear_trend': [{'attr': 'stderr'}], 'agg_linear_trend': [{'attr': 'stderr', 'chunk_len': 5, 'f_agg': 'max'}, {'attr': 'stderr', 'chunk_len': 5, 'f_agg': 'min'}, {'attr': 'stderr', 'chunk_len': 5, 'f_agg': 'mean'}, {'attr': 'intercept', 'chunk_len': 50, 'f_agg': 'var'}, {'attr': 'stderr', 'chunk_len': 10, 'f_agg': 'max'}, {'attr': 'stderr', 'chunk_len': 10, 'f_agg': 'mean'}, {'attr': 'stderr', 'chunk_len': 10, 'f_agg': 'min'}, {'attr': 'stderr', 'chunk_len': 10, 'f_agg': 'var'}, {'attr': 'stderr', 'chunk_len': 5, 'f_agg': 'var'}, {'attr': 'intercept', 'chunk_len': 10, 'f_agg': 'var'}, {'attr': 'intercept', 'chunk_len': 5, 'f_agg': 'var'}], 'variance': None, 'standard_deviation': None, 'change_quantiles': [{'f_agg': 'mean', 'isabs': True, 'qh': 0.8, 'ql': 0.6}, {'f_agg': 'var', 'isabs': False, 'qh': 0.8, 'ql': 0.6}, {'f_agg': 'mean', 'isabs': True, 'qh': 0.8, 'ql': 0.4}, {'f_agg': 'mean', 'isabs': True, 'qh': 0.8, 'ql': 0.2}, {'f_agg': 'mean', 'isabs': True, 'qh': 0.6, 'ql': 0.2}, {'f_agg': 'mean', 'isabs': True, 'qh': 0.4, 'ql': 0.2}, {'f_agg': 'var', 'isabs': False, 'qh': 0.4, 'ql': 0.2}, {'f_agg': 'var', 'isabs': False, 'qh': 0.8, 'ql': 0.4}, {'f_agg': 'var', 'isabs': False, 'qh': 0.6, 'ql': 0.4}, {'f_agg': 'var', 'isabs': False, 'qh': 0.6, 'ql': 0.2}, {'f_agg': 'var', 'isabs': False, 'qh': 0.8, 'ql': 0.2}, {'f_agg': 'mean', 'isabs': True, 'qh': 0.6, 'ql': 0.4}, {'f_agg': 'mean', 'isabs': True, 'qh': 0.8, 'ql': 0.0}, {'f_agg': 'mean', 'isabs': True, 'qh': 1.0, 'ql': 0.2}, {'f_agg': 'mean', 'isabs': True, 'qh': 0.6, 'ql': 0.0}, {'f_agg': 'mean', 'isabs': True, 'qh': 1.0, 'ql': 0.4}, {'f_agg': 'mean', 'isabs': True, 'qh': 0.4, 'ql': 0.0}, {'f_agg': 'mean', 'isabs': True, 'qh': 1.0, 'ql': 0.0}, {'f_agg': 'var', 'isabs': False, 'qh': 1.0, 'ql': 0.2}, {'f_agg': 'var', 'isabs': False, 'qh': 0.8, 'ql': 0.0}, {'f_agg': 'mean', 'isabs': True, 'qh': 1.0, 'ql': 0.6}, {'f_agg': 'var', 'isabs': False, 'qh': 1.0, 'ql': 0.4}, {'f_agg': 'var', 'isabs': False, 'qh': 1.0, 'ql': 0.6}, {'f_agg': 'var', 'isabs': False, 'qh': 0.6, 'ql': 0.0}, {'f_agg': 'var', 'isabs': False, 'qh': 1.0, 'ql': 0.0}, {'f_agg': 'var', 'isabs': False, 'qh': 0.4, 'ql': 0.0}, {'f_agg': 'var', 'isabs': True, 'qh': 0.8, 'ql': 0.6}, {'f_agg': 'var', 'isabs': True, 'qh': 0.4, 'ql': 0.2}, {'f_agg': 'mean', 'isabs': True, 'qh': 0.2, 'ql': 0.0}, {'f_agg': 'var', 'isabs': False, 'qh': 1.0, 'ql': 0.8}, {'f_agg': 'var', 'isabs': True, 'qh': 0.6, 'ql': 0.4}, {'f_agg': 'mean', 'isabs': True, 'qh': 1.0, 'ql': 0.8}, {'f_agg': 'var', 'isabs': True, 'qh': 0.8, 'ql': 0.4}, {'f_agg': 'var', 'isabs': True, 'qh': 1.0, 'ql': 0.6}, {'f_agg': 'var', 'isabs': False, 'qh': 0.2, 'ql': 0.0}, {'f_agg': 'var', 'isabs': True, 'qh': 0.6, 'ql': 0.2}, {'f_agg': 'var', 'isabs': True, 'qh': 1.0, 'ql': 0.4}, {'f_agg': 'var', 'isabs': True, 'qh': 0.8, 'ql': 0.2}, {'f_agg': 'var', 'isabs': True, 'qh': 1.0, 'ql': 0.8}, {'f_agg': 'var', 'isabs': True, 'qh': 0.4, 'ql': 0.0}, {'f_agg': 'var', 'isabs': True, 'qh': 1.0, 'ql': 0.2}, {'f_agg': 'var', 'isabs': True, 'qh': 0.2, 'ql': 0.0}, {'f_agg': 'var', 'isabs': True, 'qh': 0.6, 'ql': 0.0}, {'f_agg': 'var', 'isabs': True, 'qh': 0.8, 'ql': 0.0}, {'f_agg': 'var', 'isabs': True, 'qh': 1.0, 'ql': 0.0}], 'fft_coefficient': [{'attr': 'abs', 'coeff': 1}, {'attr': 'abs', 'coeff': 2}, {'attr': 'abs', 'coeff': 3}, {'attr': 'abs', 'coeff': 4}, {'attr': 'abs', 'coeff': 40}, {'attr': 'abs', 'coeff': 5}, {'attr': 'abs', 'coeff': 39}, {'attr': 'abs', 'coeff': 36}, {'attr': 'abs', 'coeff': 22}, {'attr': 'abs', 'coeff': 47}, {'attr': 'abs', 'coeff': 11}, {'attr': 'abs', 'coeff': 19}, {'attr': 'abs', 'coeff': 6}, {'attr': 'abs', 'coeff': 18}, {'attr': 'abs', 'coeff': 30}, {'attr': 'abs', 'coeff': 23}, {'attr': 'abs', 'coeff': 17}, {'attr': 'abs', 'coeff': 16}, {'attr': 'abs', 'coeff': 31}, {'attr': 'abs', 'coeff': 15}, {'attr': 'abs', 'coeff': 34}, {'attr': 'abs', 'coeff': 10}, {'attr': 'abs', 'coeff': 24}, {'attr': 'abs', 'coeff': 21}, {'attr': 'abs', 'coeff': 48}, {'attr': 'abs', 'coeff': 26}, {'attr': 'abs', 'coeff': 49}, {'attr': 'abs', 'coeff': 28}, {'attr': 'abs', 'coeff': 45}, {'attr': 'abs', 'coeff': 29}, {'attr': 'abs', 'coeff': 14}, {'attr': 'abs', 'coeff': 33}, {'attr': 'abs', 'coeff': 46}, {'attr': 'abs', 'coeff': 13}, {'attr': 'abs', 'coeff': 12}, {'attr': 'abs', 'coeff': 20}, {'attr': 'abs', 'coeff': 7}, {'attr': 'abs', 'coeff': 37}, {'attr': 'abs', 'coeff': 32}, {'attr': 'abs', 'coeff': 44}, {'attr': 'abs', 'coeff': 35}, {'attr': 'abs', 'coeff': 41}, {'attr': 'abs', 'coeff': 9}, {'attr': 'abs', 'coeff': 38}, {'attr': 'abs', 'coeff': 43}, {'attr': 'abs', 'coeff': 8}, {'attr': 'abs', 'coeff': 25}, {'attr': 'abs', 'coeff': 27}, {'attr': 'abs', 'coeff': 42}, {'attr': 'abs', 'coeff': 50}], 'spkt_welch_density': [{'coeff': 2}], 'mean_abs_change': None, 'absolute_sum_of_changes': None, 'permutation_entropy': [{'dimension': 7, 'tau': 1}, {'dimension': 6, 'tau': 1}, {'dimension': 5, 'tau': 1}, {'dimension': 4, 'tau': 1}, {'dimension': 3, 'tau': 1}], 'cid_ce': [{'normalize': False}, {'normalize': True}], 'number_peaks': [{'n': 3}, {'n': 5}, {'n': 1}], 'absolute_maximum': None, 'mean_n_absolute_max': [{'number_of_maxima': 7}], 'root_mean_square': None, 'abs_energy': None, 'partial_autocorrelation': [{'lag': 1}], 'autocorrelation': [{'lag': 1}]}, 'speed_kmh': {'cwt_coefficients': [{'coeff': 12, 'w': 5, 'widths': [2, 5, 10, 20]}, {'coeff': 12, 'w': 10, 'widths': [2, 5, 10, 20]}, {'coeff': 12, 'w': 20, 'widths': [2, 5, 10, 20]}, {'coeff': 11, 'w': 20, 'widths': [2, 5, 10, 20]}, {'coeff': 13, 'w': 5, 'widths': [2, 5, 10, 20]}, {'coeff': 13, 'w': 10, 'widths': [2, 5, 10, 20]}, {'coeff': 13, 'w': 20, 'widths': [2, 5, 10, 20]}, {'coeff': 10, 'w': 5, 'widths': [2, 5, 10, 20]}, {'coeff': 14, 'w': 5, 'widths': [2, 5, 10, 20]}, {'coeff': 3, 'w': 5, 'widths': [2, 5, 10, 20]}, {'coeff': 14, 'w': 10, 'widths': [2, 5, 10, 20]}, {'coeff': 11, 'w': 10, 'widths': [2, 5, 10, 20]}, {'coeff': 11, 'w': 5, 'widths': [2, 5, 10, 20]}, {'coeff': 11, 'w': 2, 'widths': [2, 5, 10, 20]}, {'coeff': 10, 'w': 20, 'widths': [2, 5, 10, 20]}, {'coeff': 10, 'w': 10, 'widths': [2, 5, 10, 20]}, {'coeff': 3, 'w': 10, 'widths': [2, 5, 10, 20]}, {'coeff': 3, 'w': 2, 'widths': [2, 5, 10, 20]}, {'coeff': 7, 'w': 2, 'widths': [2, 5, 10, 20]}, {'coeff': 7, 'w': 5, 'widths': [2, 5, 10, 20]}, {'coeff': 4, 'w': 2, 'widths': [2, 5, 10, 20]}, {'coeff': 7, 'w': 10, 'widths': [2, 5, 10, 20]}, {'coeff': 7, 'w': 20, 'widths': [2, 5, 10, 20]}, {'coeff': 8, 'w': 5, 'widths': [2, 5, 10, 20]}, {'coeff': 8, 'w': 10, 'widths': [2, 5, 10, 20]}, {'coeff': 8, 'w': 20, 'widths': [2, 5, 10, 20]}, {'coeff': 9, 'w': 2, 'widths': [2, 5, 10, 20]}, {'coeff': 9, 'w': 5, 'widths': [2, 5, 10, 20]}, {'coeff': 8, 'w': 2, 'widths': [2, 5, 10, 20]}, {'coeff': 6, 'w': 5, 'widths': [2, 5, 10, 20]}, {'coeff': 6, 'w': 20, 'widths': [2, 5, 10, 20]}, {'coeff': 6, 'w': 10, 'widths': [2, 5, 10, 20]}, {'coeff': 4, 'w': 5, 'widths': [2, 5, 10, 20]}, {'coeff': 6, 'w': 2, 'widths': [2, 5, 10, 20]}, {'coeff': 10, 'w': 2, 'widths': [2, 5, 10, 20]}, {'coeff': 14, 'w': 20, 'widths': [2, 5, 10, 20]}, {'coeff': 9, 'w': 10, 'widths': [2, 5, 10, 20]}, {'coeff': 3, 'w': 20, 'widths': [2, 5, 10, 20]}, {'coeff': 4, 'w': 10, 'widths': [2, 5, 10, 20]}, {'coeff': 5, 'w': 2, 'widths': [2, 5, 10, 20]}, {'coeff': 5, 'w': 5, 'widths': [2, 5, 10, 20]}, {'coeff': 5, 'w': 10, 'widths': [2, 5, 10, 20]}, {'coeff': 5, 'w': 20, 'widths': [2, 5, 10, 20]}, {'coeff': 9, 'w': 20, 'widths': [2, 5, 10, 20]}, {'coeff': 4, 'w': 20, 'widths': [2, 5, 10, 20]}, {'coeff': 0, 'w': 20, 'widths': [2, 5, 10, 20]}, {'coeff': 1, 'w': 2, 'widths': [2, 5, 10, 20]}, {'coeff': 1, 'w': 5, 'widths': [2, 5, 10, 20]}, {'coeff': 1, 'w': 10, 'widths': [2, 5, 10, 20]}, {'coeff': 1, 'w': 20, 'widths': [2, 5, 10, 20]}, {'coeff': 2, 'w': 2, 'widths': [2, 5, 10, 20]}, {'coeff': 2, 'w': 10, 'widths': [2, 5, 10, 20]}, {'coeff': 2, 'w': 5, 'widths': [2, 5, 10, 20]}, {'coeff': 2, 'w': 20, 'widths': [2, 5, 10, 20]}, {'coeff': 12, 'w': 2, 'widths': [2, 5, 10, 20]}], 'agg_linear_trend': [{'attr': 'intercept', 'chunk_len': 5, 'f_agg': 'mean'}, {'attr': 'intercept', 'chunk_len': 5, 'f_agg': 'min'}, {'attr': 'intercept', 'chunk_len': 10, 'f_agg': 'max'}, {'attr': 'intercept', 'chunk_len': 5, 'f_agg': 'max'}, {'attr': 'intercept', 'chunk_len': 10, 'f_agg': 'mean'}, {'attr': 'intercept', 'chunk_len': 10, 'f_agg': 'min'}, {'attr': 'intercept', 'chunk_len': 50, 'f_agg': 'mean'}, {'attr': 'intercept', 'chunk_len': 50, 'f_agg': 'min'}, {'attr': 'intercept', 'chunk_len': 50, 'f_agg': 'max'}], 'max_langevin_fixed_point': [{'m': 3, 'r': 30}], 'linear_trend': [{'attr': 'intercept'}], 'fft_coefficient': [{'attr': 'real', 'coeff': 0}, {'attr': 'abs', 'coeff': 0}], 'quantile': [{'q': 0.7}, {'q': 0.4}, {'q': 0.3}, {'q': 0.2}, {'q': 0.1}, {'q': 0.9}, {'q': 0.6}, {'q': 0.8}], 'mean_n_absolute_max': [{'number_of_maxima': 7}], 'c3': [{'lag': 3}, {'lag': 2}, {'lag': 1}], 'benford_correlation': None, 'minimum': None, 'maximum': None, 'root_mean_square': None, 'mean': None, 'median': None, 'abs_energy': None, 'sum_values': None, 'absolute_maximum': None, 'number_cwt_peaks': [{'n': 1}], 'fft_aggregated': [{'aggtype': 'skew'}, {'aggtype': 'kurtosis'}], 'range_count': [{'max': 1, 'min': -1}]}, 'x_acc_clean': {'spkt_welch_density': [{'coeff': 2}], 'agg_linear_trend': [{'attr': 'stderr', 'chunk_len': 10, 'f_agg': 'max'}, {'attr': 'stderr', 'chunk_len': 10, 'f_agg': 'min'}, {'attr': 'stderr', 'chunk_len': 10, 'f_agg': 'mean'}, {'attr': 'stderr', 'chunk_len': 10, 'f_agg': 'var'}, {'attr': 'stderr', 'chunk_len': 5, 'f_agg': 'mean'}, {'attr': 'stderr', 'chunk_len': 5, 'f_agg': 'min'}, {'attr': 'stderr', 'chunk_len': 5, 'f_agg': 'max'}, {'attr': 'intercept', 'chunk_len': 50, 'f_agg': 'var'}, {'attr': 'stderr', 'chunk_len': 5, 'f_agg': 'var'}, {'attr': 'intercept', 'chunk_len': 10, 'f_agg': 'var'}, {'attr': 'intercept', 'chunk_len': 5, 'f_agg': 'var'}], 'fft_coefficient': [{'attr': 'abs', 'coeff': 1}, {'attr': 'abs', 'coeff': 2}, {'attr': 'abs', 'coeff': 3}, {'attr': 'abs', 'coeff': 4}, {'attr': 'abs', 'coeff': 15}, {'attr': 'abs', 'coeff': 14}, {'attr': 'abs', 'coeff': 30}, {'attr': 'abs', 'coeff': 24}, {'attr': 'abs', 'coeff': 16}, {'attr': 'abs', 'coeff': 25}, {'attr': 'abs', 'coeff': 23}, {'attr': 'abs', 'coeff': 5}, {'attr': 'abs', 'coeff': 13}, {'attr': 'abs', 'coeff': 20}, {'attr': 'abs', 'coeff': 6}, {'attr': 'abs', 'coeff': 32}, {'attr': 'abs', 'coeff': 29}, {'attr': 'abs', 'coeff': 22}, {'attr': 'abs', 'coeff': 45}, {'attr': 'abs', 'coeff': 12}, {'attr': 'abs', 'coeff': 28}, {'attr': 'abs', 'coeff': 47}, {'attr': 'abs', 'coeff': 19}, {'attr': 'abs', 'coeff': 26}, {'attr': 'abs', 'coeff': 11}, {'attr': 'abs', 'coeff': 39}, {'attr': 'abs', 'coeff': 36}, {'attr': 'abs', 'coeff': 42}, {'attr': 'abs', 'coeff': 17}, {'attr': 'abs', 'coeff': 31}, {'attr': 'abs', 'coeff': 43}, {'attr': 'abs', 'coeff': 18}, {'attr': 'abs', 'coeff': 27}, {'attr': 'abs', 'coeff': 46}, {'attr': 'abs', 'coeff': 8}, {'attr': 'abs', 'coeff': 49}, {'attr': 'abs', 'coeff': 33}, {'attr': 'abs', 'coeff': 44}, {'attr': 'abs', 'coeff': 34}, {'attr': 'abs', 'coeff': 35}, {'attr': 'abs', 'coeff': 48}, {'attr': 'abs', 'coeff': 21}, {'attr': 'abs', 'coeff': 10}, {'attr': 'abs', 'coeff': 50}, {'attr': 'abs', 'coeff': 9}, {'attr': 'abs', 'coeff': 41}, {'attr': 'abs', 'coeff': 40}, {'attr': 'abs', 'coeff': 7}, {'attr': 'abs', 'coeff': 38}, {'attr': 'abs', 'coeff': 37}], 'linear_trend': [{'attr': 'stderr'}], 'variance': None, 'standard_deviation': None, 'change_quantiles': [{'f_agg': 'var', 'isabs': False, 'qh': 0.6, 'ql': 0.4}, {'f_agg': 'mean', 'isabs': True, 'qh': 0.4, 'ql': 0.2}, {'f_agg': 'mean', 'isabs': True, 'qh': 0.6, 'ql': 0.4}, {'f_agg': 'var', 'isabs': False, 'qh': 0.6, 'ql': 0.2}, {'f_agg': 'mean', 'isabs': True, 'qh': 0.6, 'ql': 0.2}, {'f_agg': 'var', 'isabs': False, 'qh': 0.4, 'ql': 0.2}, {'f_agg': 'var', 'isabs': False, 'qh': 0.8, 'ql': 0.4}, {'f_agg': 'mean', 'isabs': True, 'qh': 0.8, 'ql': 0.4}, {'f_agg': 'mean', 'isabs': True, 'qh': 0.8, 'ql': 0.2}, {'f_agg': 'mean', 'isabs': True, 'qh': 0.8, 'ql': 0.6}, {'f_agg': 'var', 'isabs': False, 'qh': 0.8, 'ql': 0.2}, {'f_agg': 'var', 'isabs': False, 'qh': 0.8, 'ql': 0.6}, {'f_agg': 'mean', 'isabs': True, 'qh': 0.8, 'ql': 0.0}, {'f_agg': 'mean', 'isabs': True, 'qh': 0.6, 'ql': 0.0}, {'f_agg': 'mean', 'isabs': True, 'qh': 1.0, 'ql': 0.2}, {'f_agg': 'var', 'isabs': False, 'qh': 0.8, 'ql': 0.0}, {'f_agg': 'var', 'isabs': False, 'qh': 0.6, 'ql': 0.0}, {'f_agg': 'var', 'isabs': False, 'qh': 1.0, 'ql': 0.2}, {'f_agg': 'mean', 'isabs': True, 'qh': 1.0, 'ql': 0.4}, {'f_agg': 'mean', 'isabs': True, 'qh': 0.4, 'ql': 0.0}, {'f_agg': 'mean', 'isabs': True, 'qh': 1.0, 'ql': 0.0}, {'f_agg': 'var', 'isabs': False, 'qh': 1.0, 'ql': 0.4}, {'f_agg': 'var', 'isabs': False, 'qh': 0.4, 'ql': 0.0}, {'f_agg': 'var', 'isabs': False, 'qh': 1.0, 'ql': 0.0}, {'f_agg': 'mean', 'isabs': True, 'qh': 1.0, 'ql': 0.6}, {'f_agg': 'var', 'isabs': True, 'qh': 0.6, 'ql': 0.4}, {'f_agg': 'var', 'isabs': False, 'qh': 1.0, 'ql': 0.6}, {'f_agg': 'var', 'isabs': True, 'qh': 0.4, 'ql': 0.2}, {'f_agg': 'var', 'isabs': True, 'qh': 0.8, 'ql': 0.6}, {'f_agg': 'mean', 'isabs': True, 'qh': 0.2, 'ql': 0.0}, {'f_agg': 'var', 'isabs': True, 'qh': 0.6, 'ql': 0.2}, {'f_agg': 'var', 'isabs': False, 'qh': 0.2, 'ql': 0.0}, {'f_agg': 'var', 'isabs': True, 'qh': 0.8, 'ql': 0.4}, {'f_agg': 'var', 'isabs': True, 'qh': 1.0, 'ql': 0.6}, {'f_agg': 'mean', 'isabs': True, 'qh': 1.0, 'ql': 0.8}, {'f_agg': 'var', 'isabs': False, 'qh': 1.0, 'ql': 0.8}, {'f_agg': 'var', 'isabs': True, 'qh': 0.4, 'ql': 0.0}, {'f_agg': 'var', 'isabs': True, 'qh': 1.0, 'ql': 0.4}, {'f_agg': 'var', 'isabs': True, 'qh': 0.8, 'ql': 0.2}, {'f_agg': 'var', 'isabs': True, 'qh': 0.6, 'ql': 0.0}, {'f_agg': 'var', 'isabs': True, 'qh': 1.0, 'ql': 0.2}, {'f_agg': 'var', 'isabs': True, 'qh': 0.2, 'ql': 0.0}, {'f_agg': 'var', 'isabs': True, 'qh': 0.8, 'ql': 0.0}, {'f_agg': 'var', 'isabs': True, 'qh': 1.0, 'ql': 0.0}, {'f_agg': 'var', 'isabs': True, 'qh': 1.0, 'ql': 0.8}], 'mean_abs_change': None, 'absolute_sum_of_changes': None, 'permutation_entropy': [{'dimension': 7, 'tau': 1}, {'dimension': 6, 'tau': 1}, {'dimension': 5, 'tau': 1}, {'dimension': 4, 'tau': 1}, {'dimension': 3, 'tau': 1}], 'cid_ce': [{'normalize': False}, {'normalize': True}], 'mean_n_absolute_max': [{'number_of_maxima': 7}], 'absolute_maximum': None, 'number_peaks': [{'n': 5}, {'n': 3}, {'n': 1}], 'abs_energy': None, 'root_mean_square': None, 'partial_autocorrelation': [{'lag': 1}], 'autocorrelation': [{'lag': 1}]}, 'z_gyro_clean': {'agg_linear_trend': [{'attr': 'stderr', 'chunk_len': 10, 'f_agg': 'min'}, {'attr': 'stderr', 'chunk_len': 10, 'f_agg': 'max'}, {'attr': 'stderr', 'chunk_len': 5, 'f_agg': 'mean'}, {'attr': 'stderr', 'chunk_len': 5, 'f_agg': 'min'}, {'attr': 'stderr', 'chunk_len': 5, 'f_agg': 'max'}, {'attr': 'stderr', 'chunk_len': 10, 'f_agg': 'var'}, {'attr': 'stderr', 'chunk_len': 10, 'f_agg': 'mean'}, {'attr': 'intercept', 'chunk_len': 50, 'f_agg': 'var'}, {'attr': 'stderr', 'chunk_len': 5, 'f_agg': 'var'}, {'attr': 'intercept', 'chunk_len': 10, 'f_agg': 'var'}, {'attr': 'intercept', 'chunk_len': 5, 'f_agg': 'var'}], 'change_quantiles': [{'f_agg': 'var', 'isabs': False, 'qh': 0.6, 'ql': 0.2}, {'f_agg': 'var', 'isabs': False, 'qh': 0.4, 'ql': 0.0}, {'f_agg': 'var', 'isabs': False, 'qh': 0.4, 'ql': 0.2}, {'f_agg': 'var', 'isabs': False, 'qh': 0.8, 'ql': 0.2}, {'f_agg': 'var', 'isabs': False, 'qh': 0.6, 'ql': 0.4}, {'f_agg': 'var', 'isabs': False, 'qh': 0.8, 'ql': 0.4}, {'f_agg': 'var', 'isabs': False, 'qh': 0.8, 'ql': 0.6}, {'f_agg': 'mean', 'isabs': True, 'qh': 0.4, 'ql': 0.2}, {'f_agg': 'var', 'isabs': False, 'qh': 0.6, 'ql': 0.0}, {'f_agg': 'mean', 'isabs': True, 'qh': 0.8, 'ql': 0.6}, {'f_agg': 'var', 'isabs': True, 'qh': 0.4, 'ql': 0.2}, {'f_agg': 'var', 'isabs': True, 'qh': 0.6, 'ql': 0.4}, {'f_agg': 'var', 'isabs': False, 'qh': 0.8, 'ql': 0.0}, {'f_agg': 'var', 'isabs': False, 'qh': 1.0, 'ql': 0.4}, {'f_agg': 'var', 'isabs': False, 'qh': 1.0, 'ql': 0.6}, {'f_agg': 'mean', 'isabs': True, 'qh': 0.8, 'ql': 0.4}, {'f_agg': 'var', 'isabs': False, 'qh': 0.2, 'ql': 0.0}, {'f_agg': 'var', 'isabs': False, 'qh': 1.0, 'ql': 0.2}, {'f_agg': 'mean', 'isabs': True, 'qh': 0.6, 'ql': 0.2}, {'f_agg': 'mean', 'isabs': True, 'qh': 0.6, 'ql': 0.4}, {'f_agg': 'var', 'isabs': True, 'qh': 0.8, 'ql': 0.6}, {'f_agg': 'mean', 'isabs': True, 'qh': 0.8, 'ql': 0.2}, {'f_agg': 'var', 'isabs': False, 'qh': 1.0, 'ql': 0.8}, {'f_agg': 'var', 'isabs': True, 'qh': 0.6, 'ql': 0.2}, {'f_agg': 'var', 'isabs': False, 'qh': 1.0, 'ql': 0.0}, {'f_agg': 'var', 'isabs': True, 'qh': 0.8, 'ql': 0.4}, {'f_agg': 'mean', 'isabs': True, 'qh': 0.8, 'ql': 0.0}, {'f_agg': 'mean', 'isabs': True, 'qh': 0.4, 'ql': 0.0}, {'f_agg': 'mean', 'isabs': True, 'qh': 0.6, 'ql': 0.0}, {'f_agg': 'mean', 'isabs': True, 'qh': 1.0, 'ql': 0.2}, {'f_agg': 'mean', 'isabs': True, 'qh': 1.0, 'ql': 0.4}, {'f_agg': 'mean', 'isabs': True, 'qh': 1.0, 'ql': 0.6}, {'f_agg': 'var', 'isabs': True, 'qh': 0.2, 'ql': 0.0}, {'f_agg': 'mean', 'isabs': True, 'qh': 1.0, 'ql': 0.0}, {'f_agg': 'var', 'isabs': True, 'qh': 0.4, 'ql': 0.0}, {'f_agg': 'var', 'isabs': True, 'qh': 0.8, 'ql': 0.2}, {'f_agg': 'mean', 'isabs': True, 'qh': 0.2, 'ql': 0.0}, {'f_agg': 'mean', 'isabs': True, 'qh': 1.0, 'ql': 0.8}, {'f_agg': 'var', 'isabs': True, 'qh': 1.0, 'ql': 0.8}, {'f_agg': 'var', 'isabs': True, 'qh': 0.6, 'ql': 0.0}, {'f_agg': 'var', 'isabs': True, 'qh': 1.0, 'ql': 0.6}, {'f_agg': 'var', 'isabs': True, 'qh': 1.0, 'ql': 0.4}, {'f_agg': 'var', 'isabs': True, 'qh': 0.8, 'ql': 0.0}, {'f_agg': 'var', 'isabs': True, 'qh': 1.0, 'ql': 0.2}, {'f_agg': 'var', 'isabs': True, 'qh': 1.0, 'ql': 0.0}], 'spkt_welch_density': [{'coeff': 2}, {'coeff': 5}], 'linear_trend': [{'attr': 'stderr'}], 'fft_coefficient': [{'attr': 'abs', 'coeff': 1}, {'attr': 'abs', 'coeff': 2}, {'attr': 'abs', 'coeff': 3}, {'attr': 'abs', 'coeff': 4}], 'standard_deviation': None, 'variance': None, 'mean_abs_change': None, 'absolute_sum_of_changes': None, 'partial_autocorrelation': [{'lag': 1}], 'cid_ce': [{'normalize': False}, {'normalize': True}], 'number_peaks': [{'n': 3}, {'n': 5}], 'permutation_entropy': [{'dimension': 7, 'tau': 1}, {'dimension': 6, 'tau': 1}, {'dimension': 5, 'tau': 1}, {'dimension': 4, 'tau': 1}], 'autocorrelation': [{'lag': 1}, {'lag': 2}], 'agg_autocorrelation': [{'f_agg': 'var', 'maxlag': 40}], 'ar_coefficient': [{'coeff': 2, 'k': 10}], 'mean_n_absolute_max': [{'number_of_maxima': 7}]}, 'z_acc_clean': {'spkt_welch_density': [{'coeff': 8}, {'coeff': 2}, {'coeff': 5}], 'partial_autocorrelation': [{'lag': 3}], 'fft_coefficient': [{'attr': 'abs', 'coeff': 36}, {'attr': 'abs', 'coeff': 40}, {'attr': 'abs', 'coeff': 42}, {'attr': 'abs', 'coeff': 2}, {'attr': 'abs', 'coeff': 44}, {'attr': 'abs', 'coeff': 38}, {'attr': 'abs', 'coeff': 45}, {'attr': 'abs', 'coeff': 41}, {'attr': 'abs', 'coeff': 43}, {'attr': 'abs', 'coeff': 8}, {'attr': 'abs', 'coeff': 39}, {'attr': 'abs', 'coeff': 46}, {'attr': 'abs', 'coeff': 37}], 'change_quantiles': [{'f_agg': 'mean', 'isabs': True, 'qh': 0.6, 'ql': 0.4}, {'f_agg': 'var', 'isabs': False, 'qh': 0.6, 'ql': 0.4}, {'f_agg': 'mean', 'isabs': True, 'qh': 0.8, 'ql': 0.4}, {'f_agg': 'var', 'isabs': True, 'qh': 0.6, 'ql': 0.4}, {'f_agg': 'var', 'isabs': False, 'qh': 0.8, 'ql': 0.6}, {'f_agg': 'var', 'isabs': False, 'qh': 0.8, 'ql': 0.4}, {'f_agg': 'mean', 'isabs': True, 'qh': 0.8, 'ql': 0.6}, {'f_agg': 'var', 'isabs': True, 'qh': 0.8, 'ql': 0.6}, {'f_agg': 'var', 'isabs': False, 'qh': 0.4, 'ql': 0.2}, {'f_agg': 'mean', 'isabs': True, 'qh': 0.4, 'ql': 0.2}, {'f_agg': 'var', 'isabs': True, 'qh': 0.8, 'ql': 0.4}, {'f_agg': 'mean', 'isabs': True, 'qh': 0.8, 'ql': 0.2}], 'agg_linear_trend': [{'attr': 'stderr', 'chunk_len': 10, 'f_agg': 'mean'}, {'attr': 'stderr', 'chunk_len': 5, 'f_agg': 'min'}, {'attr': 'stderr', 'chunk_len': 10, 'f_agg': 'min'}, {'attr': 'stderr', 'chunk_len': 5, 'f_agg': 'mean'}, {'attr': 'stderr', 'chunk_len': 5, 'f_agg': 'max'}], 'ar_coefficient': [{'coeff': 2, 'k': 10}]}, 'x_gyro_clean': {'agg_linear_trend': [{'attr': 'stderr', 'chunk_len': 10, 'f_agg': 'mean'}, {'attr': 'stderr', 'chunk_len': 10, 'f_agg': 'max'}, {'attr': 'stderr', 'chunk_len': 10, 'f_agg': 'min'}, {'attr': 'stderr', 'chunk_len': 5, 'f_agg': 'min'}, {'attr': 'stderr', 'chunk_len': 5, 'f_agg': 'mean'}, {'attr': 'stderr', 'chunk_len': 5, 'f_agg': 'max'}], 'spkt_welch_density': [{'coeff': 2}], 'linear_trend': [{'attr': 'stderr'}], 'change_quantiles': [{'f_agg': 'var', 'isabs': False, 'qh': 0.6, 'ql': 0.4}, {'f_agg': 'var', 'isabs': False, 'qh': 0.4, 'ql': 0.2}]}, 'y_gyro_clean': {'agg_linear_trend': [{'attr': 'stderr', 'chunk_len': 10, 'f_agg': 'mean'}, {'attr': 'stderr', 'chunk_len': 10, 'f_agg': 'max'}, {'attr': 'stderr', 'chunk_len': 5, 'f_agg': 'max'}, {'attr': 'stderr', 'chunk_len': 10, 'f_agg': 'min'}, {'attr': 'stderr', 'chunk_len': 5, 'f_agg': 'min'}, {'attr': 'stderr', 'chunk_len': 5, 'f_agg': 'mean'}], 'change_quantiles': [{'f_agg': 'var', 'isabs': False, 'qh': 1.0, 'ql': 0.2}, {'f_agg': 'var', 'isabs': False, 'qh': 0.8, 'ql': 0.6}, {'f_agg': 'var', 'isabs': True, 'qh': 1.0, 'ql': 0.2}, {'f_agg': 'var', 'isabs': False, 'qh': 1.0, 'ql': 0.4}, {'f_agg': 'var', 'isabs': True, 'qh': 1.0, 'ql': 0.4}, {'f_agg': 'var', 'isabs': False, 'qh': 0.8, 'ql': 0.2}, {'f_agg': 'var', 'isabs': False, 'qh': 1.0, 'ql': 0.0}, {'f_agg': 'var', 'isabs': True, 'qh': 0.8, 'ql': 0.6}, {'f_agg': 'var', 'isabs': True, 'qh': 1.0, 'ql': 0.0}, {'f_agg': 'var', 'isabs': False, 'qh': 0.8, 'ql': 0.4}, {'f_agg': 'mean', 'isabs': True, 'qh': 1.0, 'ql': 0.2}, {'f_agg': 'var', 'isabs': True, 'qh': 0.8, 'ql': 0.4}, {'f_agg': 'var', 'isabs': True, 'qh': 0.8, 'ql': 0.2}, {'f_agg': 'mean', 'isabs': True, 'qh': 0.8, 'ql': 0.6}, {'f_agg': 'var', 'isabs': False, 'qh': 0.8, 'ql': 0.0}, {'f_agg': 'var', 'isabs': False, 'qh': 0.6, 'ql': 0.2}], 'linear_trend': [{'attr': 'stderr'}], 'cid_ce': [{'normalize': False}], 'spkt_welch_density': [{'coeff': 2}]}}\n",
      "chunk id 1\n",
      "x (102400, 100, 8)\n",
      "y (102400, 6)\n",
      "(10240000, 8)\n",
      "(10240000, 10)\n"
     ]
    },
    {
     "name": "stderr",
     "output_type": "stream",
     "text": [
      "Feature Extraction: 100%|██████████| 60/60 [11:54<00:00, 11.91s/it] \n"
     ]
    },
    {
     "name": "stdout",
     "output_type": "stream",
     "text": [
      "extracted shape (102400, 500)\n",
      "chunk id 2\n",
      "x (102400, 100, 8)\n",
      "y (102400, 6)\n",
      "(10240000, 8)\n",
      "(10240000, 10)\n"
     ]
    },
    {
     "name": "stderr",
     "output_type": "stream",
     "text": [
      "Feature Extraction: 100%|██████████| 60/60 [11:34<00:00, 11.58s/it] \n"
     ]
    },
    {
     "name": "stdout",
     "output_type": "stream",
     "text": [
      "extracted shape (102400, 500)\n",
      "chunk id 3\n",
      "x (102400, 100, 8)\n",
      "y (102400, 6)\n",
      "(10240000, 8)\n",
      "(10240000, 10)\n"
     ]
    },
    {
     "name": "stderr",
     "output_type": "stream",
     "text": [
      "Feature Extraction: 100%|██████████| 60/60 [10:04<00:00, 10.08s/it] \n"
     ]
    },
    {
     "name": "stdout",
     "output_type": "stream",
     "text": [
      "extracted shape (102400, 500)\n",
      "chunk id 4\n",
      "x (102400, 100, 8)\n",
      "y (102400, 6)\n",
      "(10240000, 8)\n",
      "(10240000, 10)\n"
     ]
    },
    {
     "name": "stderr",
     "output_type": "stream",
     "text": [
      "Feature Extraction: 100%|██████████| 60/60 [10:58<00:00, 10.98s/it] \n"
     ]
    },
    {
     "name": "stdout",
     "output_type": "stream",
     "text": [
      "extracted shape (102400, 500)\n",
      "chunk id 5\n",
      "x (64568, 100, 8)\n",
      "y (64568, 6)\n",
      "(6456800, 8)\n",
      "(6456800, 10)\n"
     ]
    },
    {
     "name": "stderr",
     "output_type": "stream",
     "text": [
      "Feature Extraction: 100%|██████████| 60/60 [06:28<00:00,  6.48s/it] \n"
     ]
    },
    {
     "name": "stdout",
     "output_type": "stream",
     "text": [
      "extracted shape (64568, 500)\n",
      "{'y_acc_clean': {'linear_trend': [{'attr': 'stderr'}], 'agg_linear_trend': [{'attr': 'stderr', 'chunk_len': 5, 'f_agg': 'max'}, {'attr': 'stderr', 'chunk_len': 5, 'f_agg': 'min'}, {'attr': 'stderr', 'chunk_len': 5, 'f_agg': 'mean'}, {'attr': 'intercept', 'chunk_len': 50, 'f_agg': 'var'}, {'attr': 'stderr', 'chunk_len': 10, 'f_agg': 'max'}, {'attr': 'stderr', 'chunk_len': 10, 'f_agg': 'mean'}, {'attr': 'stderr', 'chunk_len': 10, 'f_agg': 'min'}, {'attr': 'stderr', 'chunk_len': 10, 'f_agg': 'var'}, {'attr': 'stderr', 'chunk_len': 5, 'f_agg': 'var'}, {'attr': 'intercept', 'chunk_len': 10, 'f_agg': 'var'}, {'attr': 'intercept', 'chunk_len': 5, 'f_agg': 'var'}], 'variance': None, 'standard_deviation': None, 'change_quantiles': [{'f_agg': 'mean', 'isabs': True, 'qh': 0.8, 'ql': 0.6}, {'f_agg': 'var', 'isabs': False, 'qh': 0.8, 'ql': 0.6}, {'f_agg': 'mean', 'isabs': True, 'qh': 0.8, 'ql': 0.4}, {'f_agg': 'mean', 'isabs': True, 'qh': 0.8, 'ql': 0.2}, {'f_agg': 'mean', 'isabs': True, 'qh': 0.6, 'ql': 0.2}, {'f_agg': 'mean', 'isabs': True, 'qh': 0.4, 'ql': 0.2}, {'f_agg': 'var', 'isabs': False, 'qh': 0.4, 'ql': 0.2}, {'f_agg': 'var', 'isabs': False, 'qh': 0.8, 'ql': 0.4}, {'f_agg': 'var', 'isabs': False, 'qh': 0.6, 'ql': 0.4}, {'f_agg': 'var', 'isabs': False, 'qh': 0.6, 'ql': 0.2}, {'f_agg': 'var', 'isabs': False, 'qh': 0.8, 'ql': 0.2}, {'f_agg': 'mean', 'isabs': True, 'qh': 0.6, 'ql': 0.4}, {'f_agg': 'mean', 'isabs': True, 'qh': 0.8, 'ql': 0.0}, {'f_agg': 'mean', 'isabs': True, 'qh': 1.0, 'ql': 0.2}, {'f_agg': 'mean', 'isabs': True, 'qh': 0.6, 'ql': 0.0}, {'f_agg': 'mean', 'isabs': True, 'qh': 1.0, 'ql': 0.4}, {'f_agg': 'mean', 'isabs': True, 'qh': 0.4, 'ql': 0.0}, {'f_agg': 'mean', 'isabs': True, 'qh': 1.0, 'ql': 0.0}, {'f_agg': 'var', 'isabs': False, 'qh': 1.0, 'ql': 0.2}, {'f_agg': 'var', 'isabs': False, 'qh': 0.8, 'ql': 0.0}, {'f_agg': 'mean', 'isabs': True, 'qh': 1.0, 'ql': 0.6}, {'f_agg': 'var', 'isabs': False, 'qh': 1.0, 'ql': 0.4}, {'f_agg': 'var', 'isabs': False, 'qh': 1.0, 'ql': 0.6}, {'f_agg': 'var', 'isabs': False, 'qh': 0.6, 'ql': 0.0}, {'f_agg': 'var', 'isabs': False, 'qh': 1.0, 'ql': 0.0}, {'f_agg': 'var', 'isabs': False, 'qh': 0.4, 'ql': 0.0}, {'f_agg': 'var', 'isabs': True, 'qh': 0.8, 'ql': 0.6}, {'f_agg': 'var', 'isabs': True, 'qh': 0.4, 'ql': 0.2}, {'f_agg': 'mean', 'isabs': True, 'qh': 0.2, 'ql': 0.0}, {'f_agg': 'var', 'isabs': False, 'qh': 1.0, 'ql': 0.8}, {'f_agg': 'var', 'isabs': True, 'qh': 0.6, 'ql': 0.4}, {'f_agg': 'mean', 'isabs': True, 'qh': 1.0, 'ql': 0.8}, {'f_agg': 'var', 'isabs': True, 'qh': 0.8, 'ql': 0.4}, {'f_agg': 'var', 'isabs': True, 'qh': 1.0, 'ql': 0.6}, {'f_agg': 'var', 'isabs': False, 'qh': 0.2, 'ql': 0.0}, {'f_agg': 'var', 'isabs': True, 'qh': 0.6, 'ql': 0.2}, {'f_agg': 'var', 'isabs': True, 'qh': 1.0, 'ql': 0.4}, {'f_agg': 'var', 'isabs': True, 'qh': 0.8, 'ql': 0.2}, {'f_agg': 'var', 'isabs': True, 'qh': 1.0, 'ql': 0.8}, {'f_agg': 'var', 'isabs': True, 'qh': 0.4, 'ql': 0.0}, {'f_agg': 'var', 'isabs': True, 'qh': 1.0, 'ql': 0.2}, {'f_agg': 'var', 'isabs': True, 'qh': 0.2, 'ql': 0.0}, {'f_agg': 'var', 'isabs': True, 'qh': 0.6, 'ql': 0.0}, {'f_agg': 'var', 'isabs': True, 'qh': 0.8, 'ql': 0.0}, {'f_agg': 'var', 'isabs': True, 'qh': 1.0, 'ql': 0.0}], 'fft_coefficient': [{'attr': 'abs', 'coeff': 1}, {'attr': 'abs', 'coeff': 2}, {'attr': 'abs', 'coeff': 3}, {'attr': 'abs', 'coeff': 4}, {'attr': 'abs', 'coeff': 40}, {'attr': 'abs', 'coeff': 5}, {'attr': 'abs', 'coeff': 39}, {'attr': 'abs', 'coeff': 36}, {'attr': 'abs', 'coeff': 22}, {'attr': 'abs', 'coeff': 47}, {'attr': 'abs', 'coeff': 11}, {'attr': 'abs', 'coeff': 19}, {'attr': 'abs', 'coeff': 6}, {'attr': 'abs', 'coeff': 18}, {'attr': 'abs', 'coeff': 30}, {'attr': 'abs', 'coeff': 23}, {'attr': 'abs', 'coeff': 17}, {'attr': 'abs', 'coeff': 16}, {'attr': 'abs', 'coeff': 31}, {'attr': 'abs', 'coeff': 15}, {'attr': 'abs', 'coeff': 34}, {'attr': 'abs', 'coeff': 10}, {'attr': 'abs', 'coeff': 24}, {'attr': 'abs', 'coeff': 21}, {'attr': 'abs', 'coeff': 48}, {'attr': 'abs', 'coeff': 26}, {'attr': 'abs', 'coeff': 49}, {'attr': 'abs', 'coeff': 28}, {'attr': 'abs', 'coeff': 45}, {'attr': 'abs', 'coeff': 29}, {'attr': 'abs', 'coeff': 14}, {'attr': 'abs', 'coeff': 33}, {'attr': 'abs', 'coeff': 46}, {'attr': 'abs', 'coeff': 13}, {'attr': 'abs', 'coeff': 12}, {'attr': 'abs', 'coeff': 20}, {'attr': 'abs', 'coeff': 7}, {'attr': 'abs', 'coeff': 37}, {'attr': 'abs', 'coeff': 32}, {'attr': 'abs', 'coeff': 44}, {'attr': 'abs', 'coeff': 35}, {'attr': 'abs', 'coeff': 41}, {'attr': 'abs', 'coeff': 9}, {'attr': 'abs', 'coeff': 38}, {'attr': 'abs', 'coeff': 43}, {'attr': 'abs', 'coeff': 8}, {'attr': 'abs', 'coeff': 25}, {'attr': 'abs', 'coeff': 27}, {'attr': 'abs', 'coeff': 42}, {'attr': 'abs', 'coeff': 50}], 'spkt_welch_density': [{'coeff': 2}], 'mean_abs_change': None, 'absolute_sum_of_changes': None, 'permutation_entropy': [{'dimension': 7, 'tau': 1}, {'dimension': 6, 'tau': 1}, {'dimension': 5, 'tau': 1}, {'dimension': 4, 'tau': 1}, {'dimension': 3, 'tau': 1}], 'cid_ce': [{'normalize': False}, {'normalize': True}], 'number_peaks': [{'n': 3}, {'n': 5}, {'n': 1}], 'absolute_maximum': None, 'mean_n_absolute_max': [{'number_of_maxima': 7}], 'root_mean_square': None, 'abs_energy': None, 'partial_autocorrelation': [{'lag': 1}], 'autocorrelation': [{'lag': 1}]}, 'speed_kmh': {'cwt_coefficients': [{'coeff': 12, 'w': 5, 'widths': [2, 5, 10, 20]}, {'coeff': 12, 'w': 10, 'widths': [2, 5, 10, 20]}, {'coeff': 12, 'w': 20, 'widths': [2, 5, 10, 20]}, {'coeff': 11, 'w': 20, 'widths': [2, 5, 10, 20]}, {'coeff': 13, 'w': 5, 'widths': [2, 5, 10, 20]}, {'coeff': 13, 'w': 10, 'widths': [2, 5, 10, 20]}, {'coeff': 13, 'w': 20, 'widths': [2, 5, 10, 20]}, {'coeff': 10, 'w': 5, 'widths': [2, 5, 10, 20]}, {'coeff': 14, 'w': 5, 'widths': [2, 5, 10, 20]}, {'coeff': 3, 'w': 5, 'widths': [2, 5, 10, 20]}, {'coeff': 14, 'w': 10, 'widths': [2, 5, 10, 20]}, {'coeff': 11, 'w': 10, 'widths': [2, 5, 10, 20]}, {'coeff': 11, 'w': 5, 'widths': [2, 5, 10, 20]}, {'coeff': 11, 'w': 2, 'widths': [2, 5, 10, 20]}, {'coeff': 10, 'w': 20, 'widths': [2, 5, 10, 20]}, {'coeff': 10, 'w': 10, 'widths': [2, 5, 10, 20]}, {'coeff': 3, 'w': 10, 'widths': [2, 5, 10, 20]}, {'coeff': 3, 'w': 2, 'widths': [2, 5, 10, 20]}, {'coeff': 7, 'w': 2, 'widths': [2, 5, 10, 20]}, {'coeff': 7, 'w': 5, 'widths': [2, 5, 10, 20]}, {'coeff': 4, 'w': 2, 'widths': [2, 5, 10, 20]}, {'coeff': 7, 'w': 10, 'widths': [2, 5, 10, 20]}, {'coeff': 7, 'w': 20, 'widths': [2, 5, 10, 20]}, {'coeff': 8, 'w': 5, 'widths': [2, 5, 10, 20]}, {'coeff': 8, 'w': 10, 'widths': [2, 5, 10, 20]}, {'coeff': 8, 'w': 20, 'widths': [2, 5, 10, 20]}, {'coeff': 9, 'w': 2, 'widths': [2, 5, 10, 20]}, {'coeff': 9, 'w': 5, 'widths': [2, 5, 10, 20]}, {'coeff': 8, 'w': 2, 'widths': [2, 5, 10, 20]}, {'coeff': 6, 'w': 5, 'widths': [2, 5, 10, 20]}, {'coeff': 6, 'w': 20, 'widths': [2, 5, 10, 20]}, {'coeff': 6, 'w': 10, 'widths': [2, 5, 10, 20]}, {'coeff': 4, 'w': 5, 'widths': [2, 5, 10, 20]}, {'coeff': 6, 'w': 2, 'widths': [2, 5, 10, 20]}, {'coeff': 10, 'w': 2, 'widths': [2, 5, 10, 20]}, {'coeff': 14, 'w': 20, 'widths': [2, 5, 10, 20]}, {'coeff': 9, 'w': 10, 'widths': [2, 5, 10, 20]}, {'coeff': 3, 'w': 20, 'widths': [2, 5, 10, 20]}, {'coeff': 4, 'w': 10, 'widths': [2, 5, 10, 20]}, {'coeff': 5, 'w': 2, 'widths': [2, 5, 10, 20]}, {'coeff': 5, 'w': 5, 'widths': [2, 5, 10, 20]}, {'coeff': 5, 'w': 10, 'widths': [2, 5, 10, 20]}, {'coeff': 5, 'w': 20, 'widths': [2, 5, 10, 20]}, {'coeff': 9, 'w': 20, 'widths': [2, 5, 10, 20]}, {'coeff': 4, 'w': 20, 'widths': [2, 5, 10, 20]}, {'coeff': 0, 'w': 20, 'widths': [2, 5, 10, 20]}, {'coeff': 1, 'w': 2, 'widths': [2, 5, 10, 20]}, {'coeff': 1, 'w': 5, 'widths': [2, 5, 10, 20]}, {'coeff': 1, 'w': 10, 'widths': [2, 5, 10, 20]}, {'coeff': 1, 'w': 20, 'widths': [2, 5, 10, 20]}, {'coeff': 2, 'w': 2, 'widths': [2, 5, 10, 20]}, {'coeff': 2, 'w': 10, 'widths': [2, 5, 10, 20]}, {'coeff': 2, 'w': 5, 'widths': [2, 5, 10, 20]}, {'coeff': 2, 'w': 20, 'widths': [2, 5, 10, 20]}, {'coeff': 12, 'w': 2, 'widths': [2, 5, 10, 20]}], 'agg_linear_trend': [{'attr': 'intercept', 'chunk_len': 5, 'f_agg': 'mean'}, {'attr': 'intercept', 'chunk_len': 5, 'f_agg': 'min'}, {'attr': 'intercept', 'chunk_len': 10, 'f_agg': 'max'}, {'attr': 'intercept', 'chunk_len': 5, 'f_agg': 'max'}, {'attr': 'intercept', 'chunk_len': 10, 'f_agg': 'mean'}, {'attr': 'intercept', 'chunk_len': 10, 'f_agg': 'min'}, {'attr': 'intercept', 'chunk_len': 50, 'f_agg': 'mean'}, {'attr': 'intercept', 'chunk_len': 50, 'f_agg': 'min'}, {'attr': 'intercept', 'chunk_len': 50, 'f_agg': 'max'}], 'max_langevin_fixed_point': [{'m': 3, 'r': 30}], 'linear_trend': [{'attr': 'intercept'}], 'fft_coefficient': [{'attr': 'real', 'coeff': 0}, {'attr': 'abs', 'coeff': 0}], 'quantile': [{'q': 0.7}, {'q': 0.4}, {'q': 0.3}, {'q': 0.2}, {'q': 0.1}, {'q': 0.9}, {'q': 0.6}, {'q': 0.8}], 'mean_n_absolute_max': [{'number_of_maxima': 7}], 'c3': [{'lag': 3}, {'lag': 2}, {'lag': 1}], 'benford_correlation': None, 'minimum': None, 'maximum': None, 'root_mean_square': None, 'mean': None, 'median': None, 'abs_energy': None, 'sum_values': None, 'absolute_maximum': None, 'number_cwt_peaks': [{'n': 1}], 'fft_aggregated': [{'aggtype': 'skew'}, {'aggtype': 'kurtosis'}], 'range_count': [{'max': 1, 'min': -1}]}, 'x_acc_clean': {'spkt_welch_density': [{'coeff': 2}], 'agg_linear_trend': [{'attr': 'stderr', 'chunk_len': 10, 'f_agg': 'max'}, {'attr': 'stderr', 'chunk_len': 10, 'f_agg': 'min'}, {'attr': 'stderr', 'chunk_len': 10, 'f_agg': 'mean'}, {'attr': 'stderr', 'chunk_len': 10, 'f_agg': 'var'}, {'attr': 'stderr', 'chunk_len': 5, 'f_agg': 'mean'}, {'attr': 'stderr', 'chunk_len': 5, 'f_agg': 'min'}, {'attr': 'stderr', 'chunk_len': 5, 'f_agg': 'max'}, {'attr': 'intercept', 'chunk_len': 50, 'f_agg': 'var'}, {'attr': 'stderr', 'chunk_len': 5, 'f_agg': 'var'}, {'attr': 'intercept', 'chunk_len': 10, 'f_agg': 'var'}, {'attr': 'intercept', 'chunk_len': 5, 'f_agg': 'var'}], 'fft_coefficient': [{'attr': 'abs', 'coeff': 1}, {'attr': 'abs', 'coeff': 2}, {'attr': 'abs', 'coeff': 3}, {'attr': 'abs', 'coeff': 4}, {'attr': 'abs', 'coeff': 15}, {'attr': 'abs', 'coeff': 14}, {'attr': 'abs', 'coeff': 30}, {'attr': 'abs', 'coeff': 24}, {'attr': 'abs', 'coeff': 16}, {'attr': 'abs', 'coeff': 25}, {'attr': 'abs', 'coeff': 23}, {'attr': 'abs', 'coeff': 5}, {'attr': 'abs', 'coeff': 13}, {'attr': 'abs', 'coeff': 20}, {'attr': 'abs', 'coeff': 6}, {'attr': 'abs', 'coeff': 32}, {'attr': 'abs', 'coeff': 29}, {'attr': 'abs', 'coeff': 22}, {'attr': 'abs', 'coeff': 45}, {'attr': 'abs', 'coeff': 12}, {'attr': 'abs', 'coeff': 28}, {'attr': 'abs', 'coeff': 47}, {'attr': 'abs', 'coeff': 19}, {'attr': 'abs', 'coeff': 26}, {'attr': 'abs', 'coeff': 11}, {'attr': 'abs', 'coeff': 39}, {'attr': 'abs', 'coeff': 36}, {'attr': 'abs', 'coeff': 42}, {'attr': 'abs', 'coeff': 17}, {'attr': 'abs', 'coeff': 31}, {'attr': 'abs', 'coeff': 43}, {'attr': 'abs', 'coeff': 18}, {'attr': 'abs', 'coeff': 27}, {'attr': 'abs', 'coeff': 46}, {'attr': 'abs', 'coeff': 8}, {'attr': 'abs', 'coeff': 49}, {'attr': 'abs', 'coeff': 33}, {'attr': 'abs', 'coeff': 44}, {'attr': 'abs', 'coeff': 34}, {'attr': 'abs', 'coeff': 35}, {'attr': 'abs', 'coeff': 48}, {'attr': 'abs', 'coeff': 21}, {'attr': 'abs', 'coeff': 10}, {'attr': 'abs', 'coeff': 50}, {'attr': 'abs', 'coeff': 9}, {'attr': 'abs', 'coeff': 41}, {'attr': 'abs', 'coeff': 40}, {'attr': 'abs', 'coeff': 7}, {'attr': 'abs', 'coeff': 38}, {'attr': 'abs', 'coeff': 37}], 'linear_trend': [{'attr': 'stderr'}], 'variance': None, 'standard_deviation': None, 'change_quantiles': [{'f_agg': 'var', 'isabs': False, 'qh': 0.6, 'ql': 0.4}, {'f_agg': 'mean', 'isabs': True, 'qh': 0.4, 'ql': 0.2}, {'f_agg': 'mean', 'isabs': True, 'qh': 0.6, 'ql': 0.4}, {'f_agg': 'var', 'isabs': False, 'qh': 0.6, 'ql': 0.2}, {'f_agg': 'mean', 'isabs': True, 'qh': 0.6, 'ql': 0.2}, {'f_agg': 'var', 'isabs': False, 'qh': 0.4, 'ql': 0.2}, {'f_agg': 'var', 'isabs': False, 'qh': 0.8, 'ql': 0.4}, {'f_agg': 'mean', 'isabs': True, 'qh': 0.8, 'ql': 0.4}, {'f_agg': 'mean', 'isabs': True, 'qh': 0.8, 'ql': 0.2}, {'f_agg': 'mean', 'isabs': True, 'qh': 0.8, 'ql': 0.6}, {'f_agg': 'var', 'isabs': False, 'qh': 0.8, 'ql': 0.2}, {'f_agg': 'var', 'isabs': False, 'qh': 0.8, 'ql': 0.6}, {'f_agg': 'mean', 'isabs': True, 'qh': 0.8, 'ql': 0.0}, {'f_agg': 'mean', 'isabs': True, 'qh': 0.6, 'ql': 0.0}, {'f_agg': 'mean', 'isabs': True, 'qh': 1.0, 'ql': 0.2}, {'f_agg': 'var', 'isabs': False, 'qh': 0.8, 'ql': 0.0}, {'f_agg': 'var', 'isabs': False, 'qh': 0.6, 'ql': 0.0}, {'f_agg': 'var', 'isabs': False, 'qh': 1.0, 'ql': 0.2}, {'f_agg': 'mean', 'isabs': True, 'qh': 1.0, 'ql': 0.4}, {'f_agg': 'mean', 'isabs': True, 'qh': 0.4, 'ql': 0.0}, {'f_agg': 'mean', 'isabs': True, 'qh': 1.0, 'ql': 0.0}, {'f_agg': 'var', 'isabs': False, 'qh': 1.0, 'ql': 0.4}, {'f_agg': 'var', 'isabs': False, 'qh': 0.4, 'ql': 0.0}, {'f_agg': 'var', 'isabs': False, 'qh': 1.0, 'ql': 0.0}, {'f_agg': 'mean', 'isabs': True, 'qh': 1.0, 'ql': 0.6}, {'f_agg': 'var', 'isabs': True, 'qh': 0.6, 'ql': 0.4}, {'f_agg': 'var', 'isabs': False, 'qh': 1.0, 'ql': 0.6}, {'f_agg': 'var', 'isabs': True, 'qh': 0.4, 'ql': 0.2}, {'f_agg': 'var', 'isabs': True, 'qh': 0.8, 'ql': 0.6}, {'f_agg': 'mean', 'isabs': True, 'qh': 0.2, 'ql': 0.0}, {'f_agg': 'var', 'isabs': True, 'qh': 0.6, 'ql': 0.2}, {'f_agg': 'var', 'isabs': False, 'qh': 0.2, 'ql': 0.0}, {'f_agg': 'var', 'isabs': True, 'qh': 0.8, 'ql': 0.4}, {'f_agg': 'var', 'isabs': True, 'qh': 1.0, 'ql': 0.6}, {'f_agg': 'mean', 'isabs': True, 'qh': 1.0, 'ql': 0.8}, {'f_agg': 'var', 'isabs': False, 'qh': 1.0, 'ql': 0.8}, {'f_agg': 'var', 'isabs': True, 'qh': 0.4, 'ql': 0.0}, {'f_agg': 'var', 'isabs': True, 'qh': 1.0, 'ql': 0.4}, {'f_agg': 'var', 'isabs': True, 'qh': 0.8, 'ql': 0.2}, {'f_agg': 'var', 'isabs': True, 'qh': 0.6, 'ql': 0.0}, {'f_agg': 'var', 'isabs': True, 'qh': 1.0, 'ql': 0.2}, {'f_agg': 'var', 'isabs': True, 'qh': 0.2, 'ql': 0.0}, {'f_agg': 'var', 'isabs': True, 'qh': 0.8, 'ql': 0.0}, {'f_agg': 'var', 'isabs': True, 'qh': 1.0, 'ql': 0.0}, {'f_agg': 'var', 'isabs': True, 'qh': 1.0, 'ql': 0.8}], 'mean_abs_change': None, 'absolute_sum_of_changes': None, 'permutation_entropy': [{'dimension': 7, 'tau': 1}, {'dimension': 6, 'tau': 1}, {'dimension': 5, 'tau': 1}, {'dimension': 4, 'tau': 1}, {'dimension': 3, 'tau': 1}], 'cid_ce': [{'normalize': False}, {'normalize': True}], 'mean_n_absolute_max': [{'number_of_maxima': 7}], 'absolute_maximum': None, 'number_peaks': [{'n': 5}, {'n': 3}, {'n': 1}], 'abs_energy': None, 'root_mean_square': None, 'partial_autocorrelation': [{'lag': 1}], 'autocorrelation': [{'lag': 1}]}, 'z_gyro_clean': {'agg_linear_trend': [{'attr': 'stderr', 'chunk_len': 10, 'f_agg': 'min'}, {'attr': 'stderr', 'chunk_len': 10, 'f_agg': 'max'}, {'attr': 'stderr', 'chunk_len': 5, 'f_agg': 'mean'}, {'attr': 'stderr', 'chunk_len': 5, 'f_agg': 'min'}, {'attr': 'stderr', 'chunk_len': 5, 'f_agg': 'max'}, {'attr': 'stderr', 'chunk_len': 10, 'f_agg': 'var'}, {'attr': 'stderr', 'chunk_len': 10, 'f_agg': 'mean'}, {'attr': 'intercept', 'chunk_len': 50, 'f_agg': 'var'}, {'attr': 'stderr', 'chunk_len': 5, 'f_agg': 'var'}, {'attr': 'intercept', 'chunk_len': 10, 'f_agg': 'var'}, {'attr': 'intercept', 'chunk_len': 5, 'f_agg': 'var'}], 'change_quantiles': [{'f_agg': 'var', 'isabs': False, 'qh': 0.6, 'ql': 0.2}, {'f_agg': 'var', 'isabs': False, 'qh': 0.4, 'ql': 0.0}, {'f_agg': 'var', 'isabs': False, 'qh': 0.4, 'ql': 0.2}, {'f_agg': 'var', 'isabs': False, 'qh': 0.8, 'ql': 0.2}, {'f_agg': 'var', 'isabs': False, 'qh': 0.6, 'ql': 0.4}, {'f_agg': 'var', 'isabs': False, 'qh': 0.8, 'ql': 0.4}, {'f_agg': 'var', 'isabs': False, 'qh': 0.8, 'ql': 0.6}, {'f_agg': 'mean', 'isabs': True, 'qh': 0.4, 'ql': 0.2}, {'f_agg': 'var', 'isabs': False, 'qh': 0.6, 'ql': 0.0}, {'f_agg': 'mean', 'isabs': True, 'qh': 0.8, 'ql': 0.6}, {'f_agg': 'var', 'isabs': True, 'qh': 0.4, 'ql': 0.2}, {'f_agg': 'var', 'isabs': True, 'qh': 0.6, 'ql': 0.4}, {'f_agg': 'var', 'isabs': False, 'qh': 0.8, 'ql': 0.0}, {'f_agg': 'var', 'isabs': False, 'qh': 1.0, 'ql': 0.4}, {'f_agg': 'var', 'isabs': False, 'qh': 1.0, 'ql': 0.6}, {'f_agg': 'mean', 'isabs': True, 'qh': 0.8, 'ql': 0.4}, {'f_agg': 'var', 'isabs': False, 'qh': 0.2, 'ql': 0.0}, {'f_agg': 'var', 'isabs': False, 'qh': 1.0, 'ql': 0.2}, {'f_agg': 'mean', 'isabs': True, 'qh': 0.6, 'ql': 0.2}, {'f_agg': 'mean', 'isabs': True, 'qh': 0.6, 'ql': 0.4}, {'f_agg': 'var', 'isabs': True, 'qh': 0.8, 'ql': 0.6}, {'f_agg': 'mean', 'isabs': True, 'qh': 0.8, 'ql': 0.2}, {'f_agg': 'var', 'isabs': False, 'qh': 1.0, 'ql': 0.8}, {'f_agg': 'var', 'isabs': True, 'qh': 0.6, 'ql': 0.2}, {'f_agg': 'var', 'isabs': False, 'qh': 1.0, 'ql': 0.0}, {'f_agg': 'var', 'isabs': True, 'qh': 0.8, 'ql': 0.4}, {'f_agg': 'mean', 'isabs': True, 'qh': 0.8, 'ql': 0.0}, {'f_agg': 'mean', 'isabs': True, 'qh': 0.4, 'ql': 0.0}, {'f_agg': 'mean', 'isabs': True, 'qh': 0.6, 'ql': 0.0}, {'f_agg': 'mean', 'isabs': True, 'qh': 1.0, 'ql': 0.2}, {'f_agg': 'mean', 'isabs': True, 'qh': 1.0, 'ql': 0.4}, {'f_agg': 'mean', 'isabs': True, 'qh': 1.0, 'ql': 0.6}, {'f_agg': 'var', 'isabs': True, 'qh': 0.2, 'ql': 0.0}, {'f_agg': 'mean', 'isabs': True, 'qh': 1.0, 'ql': 0.0}, {'f_agg': 'var', 'isabs': True, 'qh': 0.4, 'ql': 0.0}, {'f_agg': 'var', 'isabs': True, 'qh': 0.8, 'ql': 0.2}, {'f_agg': 'mean', 'isabs': True, 'qh': 0.2, 'ql': 0.0}, {'f_agg': 'mean', 'isabs': True, 'qh': 1.0, 'ql': 0.8}, {'f_agg': 'var', 'isabs': True, 'qh': 1.0, 'ql': 0.8}, {'f_agg': 'var', 'isabs': True, 'qh': 0.6, 'ql': 0.0}, {'f_agg': 'var', 'isabs': True, 'qh': 1.0, 'ql': 0.6}, {'f_agg': 'var', 'isabs': True, 'qh': 1.0, 'ql': 0.4}, {'f_agg': 'var', 'isabs': True, 'qh': 0.8, 'ql': 0.0}, {'f_agg': 'var', 'isabs': True, 'qh': 1.0, 'ql': 0.2}, {'f_agg': 'var', 'isabs': True, 'qh': 1.0, 'ql': 0.0}], 'spkt_welch_density': [{'coeff': 2}, {'coeff': 5}], 'linear_trend': [{'attr': 'stderr'}], 'fft_coefficient': [{'attr': 'abs', 'coeff': 1}, {'attr': 'abs', 'coeff': 2}, {'attr': 'abs', 'coeff': 3}, {'attr': 'abs', 'coeff': 4}], 'standard_deviation': None, 'variance': None, 'mean_abs_change': None, 'absolute_sum_of_changes': None, 'partial_autocorrelation': [{'lag': 1}], 'cid_ce': [{'normalize': False}, {'normalize': True}], 'number_peaks': [{'n': 3}, {'n': 5}], 'permutation_entropy': [{'dimension': 7, 'tau': 1}, {'dimension': 6, 'tau': 1}, {'dimension': 5, 'tau': 1}, {'dimension': 4, 'tau': 1}], 'autocorrelation': [{'lag': 1}, {'lag': 2}], 'agg_autocorrelation': [{'f_agg': 'var', 'maxlag': 40}], 'ar_coefficient': [{'coeff': 2, 'k': 10}], 'mean_n_absolute_max': [{'number_of_maxima': 7}]}, 'z_acc_clean': {'spkt_welch_density': [{'coeff': 8}, {'coeff': 2}, {'coeff': 5}], 'partial_autocorrelation': [{'lag': 3}], 'fft_coefficient': [{'attr': 'abs', 'coeff': 36}, {'attr': 'abs', 'coeff': 40}, {'attr': 'abs', 'coeff': 42}, {'attr': 'abs', 'coeff': 2}, {'attr': 'abs', 'coeff': 44}, {'attr': 'abs', 'coeff': 38}, {'attr': 'abs', 'coeff': 45}, {'attr': 'abs', 'coeff': 41}, {'attr': 'abs', 'coeff': 43}, {'attr': 'abs', 'coeff': 8}, {'attr': 'abs', 'coeff': 39}, {'attr': 'abs', 'coeff': 46}, {'attr': 'abs', 'coeff': 37}], 'change_quantiles': [{'f_agg': 'mean', 'isabs': True, 'qh': 0.6, 'ql': 0.4}, {'f_agg': 'var', 'isabs': False, 'qh': 0.6, 'ql': 0.4}, {'f_agg': 'mean', 'isabs': True, 'qh': 0.8, 'ql': 0.4}, {'f_agg': 'var', 'isabs': True, 'qh': 0.6, 'ql': 0.4}, {'f_agg': 'var', 'isabs': False, 'qh': 0.8, 'ql': 0.6}, {'f_agg': 'var', 'isabs': False, 'qh': 0.8, 'ql': 0.4}, {'f_agg': 'mean', 'isabs': True, 'qh': 0.8, 'ql': 0.6}, {'f_agg': 'var', 'isabs': True, 'qh': 0.8, 'ql': 0.6}, {'f_agg': 'var', 'isabs': False, 'qh': 0.4, 'ql': 0.2}, {'f_agg': 'mean', 'isabs': True, 'qh': 0.4, 'ql': 0.2}, {'f_agg': 'var', 'isabs': True, 'qh': 0.8, 'ql': 0.4}, {'f_agg': 'mean', 'isabs': True, 'qh': 0.8, 'ql': 0.2}], 'agg_linear_trend': [{'attr': 'stderr', 'chunk_len': 10, 'f_agg': 'mean'}, {'attr': 'stderr', 'chunk_len': 5, 'f_agg': 'min'}, {'attr': 'stderr', 'chunk_len': 10, 'f_agg': 'min'}, {'attr': 'stderr', 'chunk_len': 5, 'f_agg': 'mean'}, {'attr': 'stderr', 'chunk_len': 5, 'f_agg': 'max'}], 'ar_coefficient': [{'coeff': 2, 'k': 10}]}, 'x_gyro_clean': {'agg_linear_trend': [{'attr': 'stderr', 'chunk_len': 10, 'f_agg': 'mean'}, {'attr': 'stderr', 'chunk_len': 10, 'f_agg': 'max'}, {'attr': 'stderr', 'chunk_len': 10, 'f_agg': 'min'}, {'attr': 'stderr', 'chunk_len': 5, 'f_agg': 'min'}, {'attr': 'stderr', 'chunk_len': 5, 'f_agg': 'mean'}, {'attr': 'stderr', 'chunk_len': 5, 'f_agg': 'max'}], 'spkt_welch_density': [{'coeff': 2}], 'linear_trend': [{'attr': 'stderr'}], 'change_quantiles': [{'f_agg': 'var', 'isabs': False, 'qh': 0.6, 'ql': 0.4}, {'f_agg': 'var', 'isabs': False, 'qh': 0.4, 'ql': 0.2}]}, 'y_gyro_clean': {'agg_linear_trend': [{'attr': 'stderr', 'chunk_len': 10, 'f_agg': 'mean'}, {'attr': 'stderr', 'chunk_len': 10, 'f_agg': 'max'}, {'attr': 'stderr', 'chunk_len': 5, 'f_agg': 'max'}, {'attr': 'stderr', 'chunk_len': 10, 'f_agg': 'min'}, {'attr': 'stderr', 'chunk_len': 5, 'f_agg': 'min'}, {'attr': 'stderr', 'chunk_len': 5, 'f_agg': 'mean'}], 'change_quantiles': [{'f_agg': 'var', 'isabs': False, 'qh': 1.0, 'ql': 0.2}, {'f_agg': 'var', 'isabs': False, 'qh': 0.8, 'ql': 0.6}, {'f_agg': 'var', 'isabs': True, 'qh': 1.0, 'ql': 0.2}, {'f_agg': 'var', 'isabs': False, 'qh': 1.0, 'ql': 0.4}, {'f_agg': 'var', 'isabs': True, 'qh': 1.0, 'ql': 0.4}, {'f_agg': 'var', 'isabs': False, 'qh': 0.8, 'ql': 0.2}, {'f_agg': 'var', 'isabs': False, 'qh': 1.0, 'ql': 0.0}, {'f_agg': 'var', 'isabs': True, 'qh': 0.8, 'ql': 0.6}, {'f_agg': 'var', 'isabs': True, 'qh': 1.0, 'ql': 0.0}, {'f_agg': 'var', 'isabs': False, 'qh': 0.8, 'ql': 0.4}, {'f_agg': 'mean', 'isabs': True, 'qh': 1.0, 'ql': 0.2}, {'f_agg': 'var', 'isabs': True, 'qh': 0.8, 'ql': 0.4}, {'f_agg': 'var', 'isabs': True, 'qh': 0.8, 'ql': 0.2}, {'f_agg': 'mean', 'isabs': True, 'qh': 0.8, 'ql': 0.6}, {'f_agg': 'var', 'isabs': False, 'qh': 0.8, 'ql': 0.0}, {'f_agg': 'var', 'isabs': False, 'qh': 0.6, 'ql': 0.2}], 'linear_trend': [{'attr': 'stderr'}], 'cid_ce': [{'normalize': False}], 'spkt_welch_density': [{'coeff': 2}]}}\n",
      "chunk id 1\n",
      "x (102400, 100, 8)\n",
      "y (102400, 6)\n",
      "(10240000, 8)\n",
      "(10240000, 10)\n"
     ]
    },
    {
     "name": "stderr",
     "output_type": "stream",
     "text": [
      "Feature Extraction: 100%|██████████| 60/60 [09:59<00:00,  9.99s/it] \n"
     ]
    },
    {
     "name": "stdout",
     "output_type": "stream",
     "text": [
      "extracted shape (102400, 500)\n",
      "chunk id 2\n",
      "x (102400, 100, 8)\n",
      "y (102400, 6)\n",
      "(10240000, 8)\n",
      "(10240000, 10)\n"
     ]
    },
    {
     "name": "stderr",
     "output_type": "stream",
     "text": [
      "Feature Extraction: 100%|██████████| 60/60 [10:08<00:00, 10.14s/it] \n"
     ]
    },
    {
     "name": "stdout",
     "output_type": "stream",
     "text": [
      "extracted shape (102400, 500)\n",
      "chunk id 3\n",
      "x (102400, 100, 8)\n",
      "y (102400, 6)\n",
      "(10240000, 8)\n",
      "(10240000, 10)\n"
     ]
    },
    {
     "name": "stderr",
     "output_type": "stream",
     "text": [
      "Feature Extraction: 100%|██████████| 60/60 [09:45<00:00,  9.76s/it] \n"
     ]
    },
    {
     "name": "stdout",
     "output_type": "stream",
     "text": [
      "extracted shape (102400, 500)\n",
      "chunk id 4\n",
      "x (91068, 100, 8)\n",
      "y (91068, 6)\n",
      "(9106800, 8)\n",
      "(9106800, 10)\n"
     ]
    },
    {
     "name": "stderr",
     "output_type": "stream",
     "text": [
      "Feature Extraction: 100%|██████████| 60/60 [09:03<00:00,  9.06s/it] \n"
     ]
    },
    {
     "name": "stdout",
     "output_type": "stream",
     "text": [
      "extracted shape (91068, 500)\n"
     ]
    }
   ],
   "source": [
    "start_chunk_ids = {5: 5,\n",
    "                   6: 6,\n",
    "                   7: 5}\n",
    "\n",
    "# extracting features using a predined list of features\n",
    "for label_title in labels:\n",
    "    # load the features setting\n",
    "    with open(basedir + f'/feature_config.json', 'r') as file:\n",
    "        kind_to_fc_parameters = json.load(file)\n",
    "    print(kind_to_fc_parameters)\n",
    "    \n",
    "    pattern = r'chunk_([5-9]|[1-9]\\d+)\\.npy'  # Regex pattern to match the file names >= 5\n",
    "    data_files = [file for file in os.listdir(basedir + f'/{label_title}/') if re.match(pattern, file)]\n",
    "    for data_file in data_files:\n",
    "        # data_file = basedir + f'/{label_title}/chunk_1.npy'\n",
    "        chunk_id = data_file.split('.')[0].split('_')[1]\n",
    "        print('chunk id', chunk_id)\n",
    "\n",
    "        data = np.load(basedir + f'/{label_title}/' + data_file)\n",
    "        print('x', data.shape)\n",
    "\n",
    "        label_file = basedir + f'/{label_title}/train_label_{label_title}_chunk_{chunk_id}.csv'\n",
    "        label = pd.read_csv(label_file)\n",
    "        print('y', label.shape)\n",
    "\n",
    "        # Create a list of column names for the DataFrame\n",
    "        column_names = ['id', 'timestamp'] + features[str(label_title)]\n",
    "\n",
    "        # Reshape the numpy array to have 2 dimensions\n",
    "        reshaped_array = data.reshape(-1, data.shape[2])\n",
    "\n",
    "        # Create a pandas DataFrame\n",
    "        my_df = pd.DataFrame(reshaped_array, columns=column_names[2:])\n",
    "        print(my_df.shape)\n",
    "\n",
    "        # Assign sample ids and timestamps to the DataFrame\n",
    "        num_samples = data.shape[0]\n",
    "        num_timestamps = data.shape[1]\n",
    "        my_df['id'] = np.repeat(np.arange(num_samples), num_timestamps)\n",
    "        my_df['timestamp'] = np.tile(np.arange(num_timestamps), num_samples)\n",
    "        # my_df = my_df[column_names]\n",
    "\n",
    "        # Print the resulting DataFrame\n",
    "        print(my_df.shape)\n",
    "        temp = extract_features(my_df, \n",
    "                                kind_to_fc_parameters=kind_to_fc_parameters, \n",
    "                                column_id='id', \n",
    "                                column_sort='timestamp', \n",
    "                                column_kind=None, \n",
    "                                column_value=None, \n",
    "                                impute_function=impute)\n",
    "        temp.to_csv(basedir + f'/{label_title}/extract_features_{label_title}_{chunk_id}.csv')\n",
    "        print('extracted shape', temp.shape)"
   ]
  },
  {
   "cell_type": "code",
   "execution_count": null,
   "metadata": {},
   "outputs": [],
   "source": [
    "# ## MERGING FEATURE SET\n",
    "\n",
    "# import json \n",
    "\n",
    "\n",
    "# # compare the similarity of three sets of features\n",
    "# labels = [5, 6, 7]\n",
    "# feature_sets = []\n",
    "# basedir = \"C:/Users/tmhnguyen/Documents/lalamove/lalamove/data/Clean_extracted_240221_cal/train\"\n",
    "\n",
    "# for label in labels:\n",
    "#     with open(basedir + f'/{label}/feature_config_{label}.json', 'r') as file:\n",
    "#         kind_to_fc_parameters = json.load(file)\n",
    "#         feature_sets.append(kind_to_fc_parameters)\n",
    "# def merge_dicts(list_of_dicts):\n",
    "#     dict1, dict2, dict3 = list_of_dicts\n",
    "#     result = {}\n",
    "#     all_keys = set(list(dict1.keys()) + list(dict2.keys()) + list(dict3.keys()))\n",
    "#     unique_branches = 0\n",
    "\n",
    "#     for key in all_keys:\n",
    "#         if key in dict1 and isinstance(dict1[key], dict) and key in dict2 and isinstance(dict2[key], dict) and key in dict3 and isinstance(dict3[key], dict):\n",
    "#             merged_value, sub_branches = merge_dicts([dict1[key], dict2[key], dict3[key]])\n",
    "#             result[key] = merged_value\n",
    "#             unique_branches += sub_branches\n",
    "#         else:\n",
    "#             values = []\n",
    "#             if key in dict1 and dict1[key] is not None:\n",
    "#                 if isinstance(dict1[key], list):\n",
    "#                     values.extend(dict1[key])\n",
    "#                 else:\n",
    "#                     values.append(dict1[key])\n",
    "#             if key in dict2 and dict2[key] is not None:\n",
    "#                 if isinstance(dict2[key], list):\n",
    "#                     values.extend(dict2[key])\n",
    "#                 else:\n",
    "#                     values.append(dict2[key])\n",
    "#             if key in dict3 and dict3[key] is not None:\n",
    "#                 if isinstance(dict3[key], list):\n",
    "#                     values.extend(dict3[key])\n",
    "#                 else:\n",
    "#                     values.append(dict3[key])\n",
    "#             result[key] = values\n",
    "#             unique_branches += 1\n",
    "\n",
    "#     return result, unique_branches\n",
    "# dict1 = {\n",
    "#     'A': {\n",
    "#         'B': {\n",
    "#             'C': [{'value': 1}]\n",
    "#         },\n",
    "#         'E': [{'value': 3}]\n",
    "#     }\n",
    "# }\n",
    "\n",
    "# dict2 = {\n",
    "#     'A': {\n",
    "#         'B': {\n",
    "#             'D': [{'value': 4}],\n",
    "#             'F': [{'value': 5}]\n",
    "#         },\n",
    "#         'G': [{'value': 6}],\n",
    "#         'Z': None\n",
    "#     }\n",
    "# }\n",
    "\n",
    "# dict3 = {\n",
    "#     'A': {\n",
    "#         'B': {\n",
    "#             'D': [{'value': 7}],\n",
    "#             'H': [{'value': 8}]\n",
    "#         },\n",
    "#         'I': [{'value': 9}]\n",
    "#     }\n",
    "# }\n",
    "\n",
    "# merged_dict, num_branches = merge_dicts([dict1, dict2, dict3])\n",
    "# print(merged_dict)\n",
    "# print(\"Number of unique branches:\", num_branches)\n",
    "# merged_dict, count_branches = merge_dicts(feature_sets)\n",
    "# print(count_branches, merged_dict)\n",
    "# with open(basedir + f'/feature_config.json', 'w') as file:\n",
    "#         json.dump(kind_to_fc_parameters, file, indent=4)"
   ]
  }
 ],
 "metadata": {
  "kernelspec": {
   "display_name": "tsfresh",
   "language": "python",
   "name": "python3"
  },
  "language_info": {
   "codemirror_mode": {
    "name": "ipython",
    "version": 3
   },
   "file_extension": ".py",
   "mimetype": "text/x-python",
   "name": "python",
   "nbconvert_exporter": "python",
   "pygments_lexer": "ipython3",
   "version": "3.10.13"
  }
 },
 "nbformat": 4,
 "nbformat_minor": 2
}
