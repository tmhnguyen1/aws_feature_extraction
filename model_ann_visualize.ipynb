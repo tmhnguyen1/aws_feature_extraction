{
 "cells": [
  {
   "cell_type": "code",
   "execution_count": 53,
   "metadata": {},
   "outputs": [],
   "source": [
    "from sklearn.preprocessing import MinMaxScaler\n",
    "from sklearn.model_selection import train_test_split\n",
    "from sklearn.metrics import classification_report, accuracy_score, precision_score, recall_score\n",
    "\n",
    "import matplotlib.pyplot as plt\n",
    "import numpy as np\n",
    "import pandas as pd\n",
    "import json"
   ]
  },
  {
   "cell_type": "code",
   "execution_count": 54,
   "metadata": {},
   "outputs": [
    {
     "name": "stdout",
     "output_type": "stream",
     "text": [
      "{'5': ['z_gyro_clean', 'y_gyro_clean', 'x_gyro_clean', 'x_acc_clean', 'y_acc_clean', 'z_acc_clean', 'acceleration', 'speed_kmh'], '6': ['z_gyro_clean', 'y_gyro_clean', 'x_gyro_clean', 'x_acc_clean', 'y_acc_clean', 'z_acc_clean', 'acceleration', 'speed_kmh'], '7': ['z_gyro_clean', 'y_gyro_clean', 'x_gyro_clean', 'x_acc_clean', 'y_acc_clean', 'z_acc_clean', 'acceleration', 'speed_kmh']}\n"
     ]
    }
   ],
   "source": [
    "basedir = 'D:/lalamove/lalamove/data/Clean_1s_all_240103/train'\n",
    "labels = [5, 6, 7]\n",
    "with open(basedir + '/../data_split_params.json', 'r') as file:\n",
    "    features = json.load(file)['FEATURES']\n",
    "print(features)"
   ]
  },
  {
   "cell_type": "code",
   "execution_count": 68,
   "metadata": {},
   "outputs": [],
   "source": [
    "label = 7\n",
    "synthetic_percent = 0.1"
   ]
  },
  {
   "cell_type": "code",
   "execution_count": 69,
   "metadata": {},
   "outputs": [],
   "source": [
    "y = pd.read_csv(basedir + f'/{label}/train_label_{label}.csv')\n",
    "X = []\n",
    "step = 30_000\n",
    "for i in range(np.ceil(len(y)/30_000).astype(int)):\n",
    "    temp = pd.read_csv(basedir + f'/{label}/extract_features_{label}_{i}.csv', index_col=0)\n",
    "    X.append(temp)\n",
    "X = pd.concat(X)\n",
    "assert len(X) == len(y), f\"Length mismatch {len(X)}, {len(y)}\""
   ]
  },
  {
   "cell_type": "code",
   "execution_count": 70,
   "metadata": {},
   "outputs": [
    {
     "data": {
      "text/plain": [
       "((381067, 500), (381067, 6))"
      ]
     },
     "execution_count": 70,
     "metadata": {},
     "output_type": "execute_result"
    }
   ],
   "source": [
    "X.shape, y.shape"
   ]
  },
  {
   "cell_type": "code",
   "execution_count": 78,
   "metadata": {},
   "outputs": [],
   "source": [
    "dates = y.date.unique()\n",
    "chosen = dates[-3]\n",
    "test_idx = y[(y.date == chosen) & (y.type == 0)].index\n",
    "train_idx = y[(y.date != chosen) & (y.type == 0)]\n",
    "train_idx_add = y[(y.date != chosen) & (y.type == 1)].sample(frac=synthetic_percent)\n",
    "train_idx = pd.concat([train_idx, train_idx_add]).index\n",
    "# train_idx = y[(y.date != chosen)].index\n",
    "\n",
    "X_train_, X_test_ = X.iloc[train_idx], X.iloc[test_idx]\n",
    "y_train, y_test = y.iloc[train_idx].label, y.iloc[test_idx].label"
   ]
  },
  {
   "cell_type": "code",
   "execution_count": 79,
   "metadata": {},
   "outputs": [
    {
     "name": "stdout",
     "output_type": "stream",
     "text": [
      "20231228\n"
     ]
    }
   ],
   "source": [
    "print(chosen)"
   ]
  },
  {
   "cell_type": "code",
   "execution_count": 80,
   "metadata": {},
   "outputs": [],
   "source": [
    "scaler = MinMaxScaler()\n",
    "X_train = scaler.fit_transform(X_train_)\n",
    "X_test = scaler.transform(X_test_)\n",
    "\n",
    "# X_train = X_train.reshape(-1, 20, 25)\n",
    "# X_test = X_test.reshape(-1, 20, 25)"
   ]
  },
  {
   "cell_type": "code",
   "execution_count": 81,
   "metadata": {},
   "outputs": [],
   "source": [
    "import tensorflow as tf\n",
    "from sklearn.metrics import confusion_matrix"
   ]
  },
  {
   "cell_type": "code",
   "execution_count": 82,
   "metadata": {},
   "outputs": [
    {
     "name": "stdout",
     "output_type": "stream",
     "text": [
      "427/427 [==============================] - 2s 3ms/step\n",
      "accuracy: 0.9862, recall: 0.7786, precision: 0.7749\n",
      "(13649,) (13649, 1)\n",
      "[[13134    95]\n",
      " [   93   327]]\n"
     ]
    }
   ],
   "source": [
    "model_file = r\"D:\\lalamove\\lalamove\\data\\Clean_1s_all_240103\\model_ann\\7\\model_7_test_date_20231201_spercent_0.1.hdf5\"\n",
    "model = tf.keras.models.load_model(model_file)\n",
    "\n",
    "predictions = model.predict(X_test) >= 0.5\n",
    "accuracy = accuracy_score(y_test, predictions)\n",
    "precision = precision_score(y_test, predictions)\n",
    "recall = recall_score(y_test, predictions)\n",
    "print('accuracy: {0:.4f}, recall: {1:.4f}, precision: {2:.4f}'.format(accuracy, recall, precision))\n",
    "print(y_test.shape, predictions.shape)\n",
    "min_len = min(len(y_test), len(predictions))\n",
    "cm = confusion_matrix(y_test[:min_len], predictions[:min_len] > 0.5)\n",
    "print(cm)"
   ]
  },
  {
   "cell_type": "code",
   "execution_count": 83,
   "metadata": {},
   "outputs": [
    {
     "name": "stdout",
     "output_type": "stream",
     "text": [
      "427/427 [==============================] - 1s 1ms/step\n",
      "(13649,) (13649,)\n",
      "(13649,) (13649,)\n",
      "type\n",
      "True Positive       334\n",
      "True Negative     13199\n",
      "False Positive       30\n",
      "False Negative       86\n",
      "Name: count, dtype: int64\n"
     ]
    },
    {
     "data": {
      "image/png": "[encoded data removed]",
      "text/plain": [
       "<Figure size 2000x250 with 1 Axes>"
      ]
     },
     "metadata": {},
     "output_type": "display_data"
    }
   ],
   "source": [
    "pred = model.predict(X_test).flatten() \n",
    "print(pred.shape, y_test.shape)\n",
    "w = 5 # window in seconds\n",
    "pred = np.convolve(pred, np.ones(w), mode='same') / w >= 0.5\n",
    "\n",
    "print(pred.shape, y_test.shape)\n",
    "df = pd.DataFrame(np.stack((y_test, pred)).T, columns=['true', 'pred'])\n",
    "df.pred = df.pred.astype(int)\n",
    "\n",
    "def classify(row):\n",
    "    true, pred = row.true, row.pred\n",
    "    if true == pred and true == 0:\n",
    "        return 'True Negative'\n",
    "    elif true == pred and true == 1:\n",
    "        return 'True Positive'\n",
    "    elif true != pred and true == 0:\n",
    "        return 'False Positive'\n",
    "    else:\n",
    "        return 'False Negative'\n",
    "    \n",
    "df['type'] = df.apply(lambda x: classify(x), axis=1)\n",
    "types = df.type.value_counts().sort_index()[::-1]\n",
    "print(types)\n",
    "\n",
    "fig, ax = plt.subplots(figsize=(20, 2.5))\n",
    "i = 0\n",
    "colors = ['skyblue', 'blue', 'green', 'red']\n",
    "types_ = ['True Negative', 'True Positive', 'False Negative', 'False Positive']\n",
    "\n",
    "for j, t in enumerate(types_):\n",
    "    try:\n",
    "        ax.scatter(df[df.type==t].index, [i]*types[t], label=t, c=colors[j])\n",
    "    except KeyError:\n",
    "        print(f'There is no {t}')\n",
    "    i += 0.1\n",
    "\n",
    "ax.legend()\n",
    "ax.set_ylim(0, 2)\n",
    "ax.set_xlabel('Seconds')\n",
    "ax.get_yaxis().set_visible(False)\n",
    "# ax.set_title(f'{features[str(label)]}')"
   ]
  }
 ],
 "metadata": {
  "kernelspec": {
   "display_name": "tsfresh",
   "language": "python",
   "name": "python3"
  },
  "language_info": {
   "codemirror_mode": {
    "name": "ipython",
    "version": 3
   },
   "file_extension": ".py",
   "mimetype": "text/x-python",
   "name": "python",
   "nbconvert_exporter": "python",
   "pygments_lexer": "ipython3",
   "version": "3.10.0"
  }
 },
 "nbformat": 4,
 "nbformat_minor": 2
}
